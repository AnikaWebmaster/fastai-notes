{
 "cells": [
  {
   "cell_type": "markdown",
   "metadata": {},
   "source": [
    "# Reddit Comment Generator\n",
    "\n",
    "We will first see if we can generate highly upvoted reddit comments using a language model. Next it would be cool to score a given reddit comment, predicting its upvotes just from the text."
   ]
  },
  {
   "cell_type": "code",
   "execution_count": 1,
   "metadata": {},
   "outputs": [],
   "source": [
    "%reload_ext autoreload\n",
    "%autoreload 2\n",
    "%matplotlib inline\n",
    "\n",
    "import os\n",
    "\n",
    "import requests\n",
    "import numpy as np\n",
    "import pandas as pd\n",
    "import dill as pickle\n",
    "\n",
    "\n",
    "user_list = !whoami\n",
    "username = user_list[0]\n",
    "PATH = f'/home/{username}/data/reddit/'"
   ]
  },
  {
   "cell_type": "markdown",
   "metadata": {},
   "source": [
    "### Fetch training data\n",
    "\n",
    "First let's download all the reddit comments from 2005 - 2010.\n",
    "\n",
    "The latest we can go is 11/2017."
   ]
  },
  {
   "cell_type": "code",
   "execution_count": 2,
   "metadata": {},
   "outputs": [],
   "source": [
    "os.makedirs(f'{PATH}/raw', exist_ok=True)\n",
    "os.makedirs(f'{PATH}/models', exist_ok=True)\n",
    "os.makedirs(f'{PATH}/tokens', exist_ok=True)\n",
    "os.makedirs(f'{PATH}/csv', exist_ok=True)"
   ]
  },
  {
   "cell_type": "code",
   "execution_count": 3,
   "metadata": {},
   "outputs": [],
   "source": [
    "# Generate filenames for downloads\n",
    "year, end_year = 2005, 2010\n",
    "month, end_month = 12, 2\n",
    "\n",
    "files = []\n",
    "while year < end_year or (year == end_year and month <= end_month):\n",
    "    files.append(f'RC_{year}-{month:02}')\n",
    "    # Increment through dates\n",
    "    month += 1\n",
    "    if month % 13 == 0:\n",
    "        month = 1\n",
    "        year += 1"
   ]
  },
  {
   "cell_type": "code",
   "execution_count": 4,
   "metadata": {},
   "outputs": [
    {
     "name": "stdout",
     "output_type": "stream",
     "text": [
      "Found RC_2005-12, Found RC_2006-01, Found RC_2006-02, Found RC_2006-03, Found RC_2006-04, Found RC_2006-05, Found RC_2006-06, Found RC_2006-07, Found RC_2006-08, Found RC_2006-09, Found RC_2006-10, Found RC_2006-11, Found RC_2006-12, Found RC_2007-01, Found RC_2007-02, Found RC_2007-03, Found RC_2007-04, Found RC_2007-05, Found RC_2007-06, Found RC_2007-07, Found RC_2007-08, Found RC_2007-09, Found RC_2007-10, Found RC_2007-11, Found RC_2007-12, Found RC_2008-01, Found RC_2008-02, Found RC_2008-03, Found RC_2008-04, Found RC_2008-05, Found RC_2008-06, Found RC_2008-07, Found RC_2008-08, Found RC_2008-09, Found RC_2008-10, Found RC_2008-11, Found RC_2008-12, Found RC_2009-01, Found RC_2009-02, Found RC_2009-03, Found RC_2009-04, Found RC_2009-05, Found RC_2009-06, Found RC_2009-07, Found RC_2009-08, Found RC_2009-09, Found RC_2009-10, Found RC_2009-11, Found RC_2009-12, Found RC_2010-01, Found RC_2010-02, "
     ]
    }
   ],
   "source": [
    "# Idempotently download files from pushshift.io\n",
    "BASE_URL = 'http://files.pushshift.io/reddit/comments/'\n",
    "for filename in files:\n",
    "    target_file = f'{PATH}raw/{filename}.bz2'\n",
    "    if os.path.exists(target_file):\n",
    "        print(f'Found {target_file}', end=', ')\n",
    "        continue\n",
    "    \n",
    "    alt_name = f'{PATH}raw/{filename}'\n",
    "    if os.path.exists(alt_name):\n",
    "        print(f'Found {filename}', end=', ')\n",
    "        continue\n",
    "        \n",
    "    print(f'\\nDownloading {filename}...', end=' ')\n",
    "    response = requests.get(f'{BASE_URL}{filename}.bz2', stream=True)\n",
    "    response.raise_for_status()\n",
    "\n",
    "    with open(target_file, 'wb') as f:\n",
    "        for block in response.iter_content(1024):\n",
    "            f.write(block)\n",
    "    \n",
    "    print('done')"
   ]
  },
  {
   "cell_type": "code",
   "execution_count": 5,
   "metadata": {},
   "outputs": [
    {
     "name": "stdout",
     "output_type": "stream",
     "text": [
      "ls: cannot access '/home/matt/data/reddit/raw/*.bz2': No such file or directory\r\n"
     ]
    }
   ],
   "source": [
    "# Extract bzip2 archives into plain text - this is ~34 million comments\n",
    "!ls {PATH}raw/*.bz2 | xargs -I % sh -c \"bzip2 -d %\""
   ]
  },
  {
   "cell_type": "markdown",
   "metadata": {},
   "source": [
    "### Read training data into memory\n",
    "\n",
    "We're going to read all our training data into a dataframe.\n"
   ]
  },
  {
   "cell_type": "code",
   "execution_count": 6,
   "metadata": {},
   "outputs": [
    {
     "name": "stdout",
     "output_type": "stream",
     "text": [
      "CPU times: user 20 µs, sys: 10 µs, total: 30 µs\n",
      "Wall time: 62 µs\n"
     ]
    }
   ],
   "source": [
    "%%time\n",
    "import csv\n",
    "import json\n",
    "\n",
    "MAX_COMMENTS = 1e7 # ~12GB memory usage\n",
    "CSV_PATH = f'{PATH}csv/{MAX_COMMENTS}.csv'\n",
    "\n",
    "if not os.path.exists(CSV_PATH):\n",
    "    with open(CSV_PATH, 'w') as csvfile:\n",
    "        columns = ['id', 'body']\n",
    "        writer = csv.DictWriter(csvfile, fieldnames=columns)\n",
    "        writer.writeheader()\n",
    "        for file in files:\n",
    "            with open(f'{PATH}raw/{file}') as f:\n",
    "                print(f'reading {file}', end=', ')\n",
    "                for line in f.readlines():\n",
    "                    line_json = json.loads(line)\n",
    "                    if len(line_json['body']) > 30:\n",
    "                        writer.writerow({\n",
    "                            'id': line_json['id'],\n",
    "                            'body': line_json['body'],\n",
    "                        })\n",
    "                        \n",
    "                if len(ids) > MAX_COMMENTS:\n",
    "                    break\n",
    "    "
   ]
  },
  {
   "cell_type": "code",
   "execution_count": 120,
   "metadata": {},
   "outputs": [
    {
     "name": "stdout",
     "output_type": "stream",
     "text": [
      "<class 'pandas.core.frame.DataFrame'>\n",
      "Index: 10388732 entries, c13 to c098njl\n",
      "Data columns (total 1 columns):\n",
      "body    object\n",
      "dtypes: object(1)\n",
      "memory usage: 158.5+ MB\n",
      "None\n"
     ]
    },
    {
     "data": {
      "text/html": [
       "<div>\n",
       "<style scoped>\n",
       "    .dataframe tbody tr th:only-of-type {\n",
       "        vertical-align: middle;\n",
       "    }\n",
       "\n",
       "    .dataframe tbody tr th {\n",
       "        vertical-align: top;\n",
       "    }\n",
       "\n",
       "    .dataframe thead th {\n",
       "        text-align: right;\n",
       "    }\n",
       "</style>\n",
       "<table border=\"1\" class=\"dataframe\">\n",
       "  <thead>\n",
       "    <tr style=\"text-align: right;\">\n",
       "      <th></th>\n",
       "      <th>body</th>\n",
       "    </tr>\n",
       "    <tr>\n",
       "      <th>id</th>\n",
       "      <th></th>\n",
       "    </tr>\n",
       "  </thead>\n",
       "  <tbody>\n",
       "    <tr>\n",
       "      <th>c13</th>\n",
       "      <td>A look at Vietnam and Mexico exposes the myth ...</td>\n",
       "    </tr>\n",
       "    <tr>\n",
       "      <th>c14</th>\n",
       "      <td>The site states \"What can I use it for? Meetin...</td>\n",
       "    </tr>\n",
       "    <tr>\n",
       "      <th>c15</th>\n",
       "      <td>Jython related topics by Frank Wierzbicki</td>\n",
       "    </tr>\n",
       "    <tr>\n",
       "      <th>c17</th>\n",
       "      <td>Saft is by far the best extension you could ta...</td>\n",
       "    </tr>\n",
       "    <tr>\n",
       "      <th>c19</th>\n",
       "      <td>How to take panoramic shots simply</td>\n",
       "    </tr>\n",
       "  </tbody>\n",
       "</table>\n",
       "</div>"
      ],
      "text/plain": [
       "                                                  body\n",
       "id                                                    \n",
       "c13  A look at Vietnam and Mexico exposes the myth ...\n",
       "c14  The site states \"What can I use it for? Meetin...\n",
       "c15          Jython related topics by Frank Wierzbicki\n",
       "c17  Saft is by far the best extension you could ta...\n",
       "c19                 How to take panoramic shots simply"
      ]
     },
     "execution_count": 120,
     "metadata": {},
     "output_type": "execute_result"
    }
   ],
   "source": [
    "print(df.info())\n",
    "df.head()"
   ]
  },
  {
   "cell_type": "code",
   "execution_count": 8,
   "metadata": {},
   "outputs": [],
   "source": [
    "train_percent = 0.8\n",
    "valid_idx = int(len(df) * 0.8)\n",
    "train_df = df[:valid_idx]\n",
    "valid_df = df[valid_idx:]"
   ]
  },
  {
   "cell_type": "markdown",
   "metadata": {},
   "source": [
    "### TODO\n",
    "\n",
    "- dump a pickle of the model for the vocab\n",
    "- start training model\n",
    "- test model\n",
    "- try with more files\n",
    "- once language generation works - try training an upvote predictor with a small number of comments"
   ]
  },
  {
   "cell_type": "code",
   "execution_count": 9,
   "metadata": {},
   "outputs": [],
   "source": [
    "import spacy\n",
    "from fastai.nlp import LanguageModelData\n",
    "from torchtext import vocab, data\n",
    "from torchtext.datasets import language_modeling"
   ]
  },
  {
   "cell_type": "code",
   "execution_count": 10,
   "metadata": {},
   "outputs": [
    {
     "name": "stdout",
     "output_type": "stream",
     "text": [
      "True\n",
      "True\n"
     ]
    }
   ],
   "source": [
    "import torch\n",
    "print(torch.cuda.is_available())\n",
    "print(torch.backends.cudnn.enabled)"
   ]
  },
  {
   "cell_type": "code",
   "execution_count": 11,
   "metadata": {},
   "outputs": [],
   "source": [
    "TEXT = data.Field(lower=True, tokenize=\"spacy\")"
   ]
  },
  {
   "cell_type": "code",
   "execution_count": 60,
   "metadata": {},
   "outputs": [],
   "source": [
    "BATCH_SIZE = 48\n",
    "BACKPROP_THRU_TIME = 70\n",
    "MIN_WORD_FREQ = 10"
   ]
  },
  {
   "cell_type": "code",
   "execution_count": 61,
   "metadata": {},
   "outputs": [],
   "source": [
    "import hashlib\n",
    "\n",
    "def md5(s):\n",
    "    return hashlib.md5(s.encode('utf-8')).hexdigest()"
   ]
  },
  {
   "cell_type": "code",
   "execution_count": 62,
   "metadata": {},
   "outputs": [],
   "source": [
    "# Tokenizing is really slow, so cache the tokens if the text\n",
    "# is the same.\n",
    "from torchtext.data import Dataset, Example\n",
    "\n",
    "def get_tokens(df, text_field, col_name):\n",
    "    text = df[col_name].str.cat(sep=' <eos> ')\n",
    "    file_path = f'{PATH}/tokens/{md5(text)}.pkl'\n",
    "    if os.path.exists(file_path):\n",
    "        with open(file_path, 'rb') as f:\n",
    "            tokens = pickle.load(f)\n",
    "    else:\n",
    "        tokens = text_field.preprocess(text)\n",
    "        tokens.append('<eos>')\n",
    "        with open(file_path, 'wb') as f:\n",
    "            pickle.dump(tokens, f)\n",
    "    \n",
    "    return tokens\n",
    "        \n",
    "def get_dataset(df, text_field, col_name):\n",
    "    tokens = get_tokens(df, text_field, col_name)\n",
    "    fields = [('text', text_field)]\n",
    "    examples = [Example.fromlist([tokens], fields)]\n",
    "    return Dataset(examples, fields)"
   ]
  },
  {
   "cell_type": "code",
   "execution_count": 63,
   "metadata": {},
   "outputs": [
    {
     "name": "stdout",
     "output_type": "stream",
     "text": [
      "CPU times: user 1.67 s, sys: 144 ms, total: 1.81 s\n",
      "Wall time: 1.81 s\n"
     ]
    }
   ],
   "source": [
    "%%time\n",
    "from fastai.nlp import ConcatTextDatasetFromDataFrames\n",
    "trn_ds = get_dataset(train_df, TEXT, 'body')\n",
    "val_ds = get_dataset(valid_df, TEXT, 'body')\n",
    "test_ds = None"
   ]
  },
  {
   "cell_type": "code",
   "execution_count": 64,
   "metadata": {},
   "outputs": [
    {
     "name": "stdout",
     "output_type": "stream",
     "text": [
      "CPU times: user 944 ms, sys: 47.9 ms, total: 992 ms\n",
      "Wall time: 988 ms\n"
     ]
    }
   ],
   "source": [
    "%%time\n",
    "model_data = LanguageModelData(\n",
    "    PATH,\n",
    "    TEXT,\n",
    "    trn_ds,\n",
    "    val_ds,\n",
    "    test_ds,\n",
    "    BATCH_SIZE,\n",
    "    BACKPROP_THRU_TIME,\n",
    "    min_freq=MIN_WORD_FREQ,\n",
    ")"
   ]
  },
  {
   "cell_type": "code",
   "execution_count": 112,
   "metadata": {},
   "outputs": [],
   "source": [
    "VOCAB_NAME = 'TEXT-2'\n",
    "with open(f'{PATH}models/{VOCAB_NAME}.pkl','wb') as f:\n",
    "    pickle.dump(TEXT, f)"
   ]
  },
  {
   "cell_type": "code",
   "execution_count": 66,
   "metadata": {},
   "outputs": [
    {
     "name": "stdout",
     "output_type": "stream",
     "text": [
      "Num batches:  2604\n",
      "Num unique tokens in vocab:  16390\n",
      "Num sentences in train:  5837403\n"
     ]
    }
   ],
   "source": [
    "print('Num batches: ', len(model_data.trn_dl))\n",
    "print('Num unique tokens in vocab: ', model_data.nt)\n",
    "print('Num sentences in train: ', len(model_data.trn_ds[0].text))"
   ]
  },
  {
   "cell_type": "code",
   "execution_count": 67,
   "metadata": {},
   "outputs": [],
   "source": [
    "EMBEDDING_SIZE = 200\n",
    "NUM_LAYER_WEIGHTS = 1000\n",
    "NUM_LAYERS = 3"
   ]
  },
  {
   "cell_type": "code",
   "execution_count": 68,
   "metadata": {},
   "outputs": [],
   "source": [
    "# Reduce gradient descent momentum parameter, because\n",
    "# we were told to and who's going to throw away free advice?\n",
    "from functools import partial\n",
    "import torch.optim as optim\n",
    "optimization_func = partial(optim.Adam, betas=(0.7, 0.99))"
   ]
  },
  {
   "cell_type": "code",
   "execution_count": 69,
   "metadata": {},
   "outputs": [],
   "source": [
    "from fastai.lm_rnn import seq2seq_reg\n",
    "# Dropout parameters may need turning\n",
    "learner = model_data.get_model(\n",
    "    optimization_func, \n",
    "    EMBEDDING_SIZE,\n",
    "    NUM_LAYER_WEIGHTS,\n",
    "    NUM_LAYERS,\n",
    "    dropouti=0.05,\n",
    "    dropout=0.05,\n",
    "    wdrop=0.1,\n",
    "    dropoute=0.02,\n",
    "    dropouth=0.05\n",
    ")\n",
    "learner.reg_fn = partial(seq2seq_reg, alpha=2, beta=1)\n",
    "learner.clip = 0.3"
   ]
  },
  {
   "cell_type": "code",
   "execution_count": 70,
   "metadata": {},
   "outputs": [
    {
     "data": {
      "application/vnd.jupyter.widget-view+json": {
       "model_id": "eadecc6c36754209b9d47a307104141c",
       "version_major": 2,
       "version_minor": 0
      },
      "text/plain": [
       "HBox(children=(IntProgress(value=0, description='Epoch', max=1, style=ProgressStyle(description_width='initial…"
      ]
     },
     "metadata": {},
     "output_type": "display_data"
    },
    {
     "name": "stdout",
     "output_type": "stream",
     "text": [
      " 82%|████████▏ | 2131/2604 [01:34<00:21, 22.15it/s, loss=20.2]"
     ]
    }
   ],
   "source": [
    "import warnings\n",
    "warnings.filterwarnings(\"ignore\")\n",
    "learner.lr_find()"
   ]
  },
  {
   "cell_type": "code",
   "execution_count": 71,
   "metadata": {},
   "outputs": [
    {
     "data": {
      "image/png": "[encoded data removed]",
      "text/plain": [
       "<Figure size 432x288 with 1 Axes>"
      ]
     },
     "metadata": {
      "needs_background": "light"
     },
     "output_type": "display_data"
    }
   ],
   "source": [
    "learner.sched.plot()"
   ]
  },
  {
   "cell_type": "code",
   "execution_count": 72,
   "metadata": {},
   "outputs": [],
   "source": [
    "learning_rate = 0.01\n",
    "weight_decay=1e-6"
   ]
  },
  {
   "cell_type": "code",
   "execution_count": 73,
   "metadata": {},
   "outputs": [
    {
     "data": {
      "application/vnd.jupyter.widget-view+json": {
       "model_id": "ffb93fa65e0a432eacf10f055beefd20",
       "version_major": 2,
       "version_minor": 0
      },
      "text/plain": [
       "HBox(children=(IntProgress(value=0, description='Epoch', max=3, style=ProgressStyle(description_width='initial…"
      ]
     },
     "metadata": {},
     "output_type": "display_data"
    },
    {
     "name": "stdout",
     "output_type": "stream",
     "text": [
      "epoch      trn_loss   val_loss                                \n",
      "    0      6.461528   6.435034  \n",
      "    1      5.521482   5.4615                                  \n",
      "    2      5.348883   5.254914                                \n"
     ]
    },
    {
     "data": {
      "text/plain": [
       "[5.254913672711778]"
      ]
     },
     "execution_count": 73,
     "metadata": {},
     "output_type": "execute_result"
    }
   ],
   "source": [
    "learner.fit(\n",
    "    learning_rate,\n",
    "    n_cycle=3,\n",
    ")"
   ]
  },
  {
   "cell_type": "code",
   "execution_count": 74,
   "metadata": {},
   "outputs": [
    {
     "data": {
      "image/png": "[encoded data removed]",
      "text/plain": [
       "<Figure size 432x288 with 1 Axes>"
      ]
     },
     "metadata": {
      "needs_background": "light"
     },
     "output_type": "display_data"
    }
   ],
   "source": [
    "learner.sched.plot_loss()"
   ]
  },
  {
   "cell_type": "code",
   "execution_count": 75,
   "metadata": {},
   "outputs": [
    {
     "data": {
      "application/vnd.jupyter.widget-view+json": {
       "model_id": "0eccbd5ad6374116ae34540d687a99f1",
       "version_major": 2,
       "version_minor": 0
      },
      "text/plain": [
       "HBox(children=(IntProgress(value=0, description='Epoch', max=7, style=ProgressStyle(description_width='initial…"
      ]
     },
     "metadata": {},
     "output_type": "display_data"
    },
    {
     "name": "stdout",
     "output_type": "stream",
     "text": [
      "epoch      trn_loss   val_loss                                \n",
      "    0      4.96017    4.859553  \n",
      "    1      4.665619   4.646817                                \n",
      "    2      4.549032   4.517701                                \n",
      "    3      4.578193   4.579333                                \n",
      "    4      4.476296   4.489767                                \n",
      "    5      4.377718   4.405314                                \n",
      "    6      4.333215   4.37327                                 \n"
     ]
    },
    {
     "data": {
      "text/plain": [
       "[4.373270442780203]"
      ]
     },
     "execution_count": 75,
     "metadata": {},
     "output_type": "execute_result"
    }
   ],
   "source": [
    "learner.fit(\n",
    "    learning_rate,\n",
    "    n_cycle=3,\n",
    "    wds=weight_decay,\n",
    "    cycle_len=1,\n",
    "    cycle_mult=2,\n",
    ")"
   ]
  },
  {
   "cell_type": "code",
   "execution_count": 76,
   "metadata": {},
   "outputs": [
    {
     "data": {
      "image/png": "[encoded data removed]",
      "text/plain": [
       "<Figure size 432x288 with 1 Axes>"
      ]
     },
     "metadata": {
      "needs_background": "light"
     },
     "output_type": "display_data"
    }
   ],
   "source": [
    "learner.sched.plot_loss()"
   ]
  },
  {
   "cell_type": "code",
   "execution_count": 104,
   "metadata": {},
   "outputs": [
    {
     "data": {
      "application/vnd.jupyter.widget-view+json": {
       "model_id": "4ac35c7213dc428c9de165169bbf457b",
       "version_major": 2,
       "version_minor": 0
      },
      "text/plain": [
       "HBox(children=(IntProgress(value=0, description='Epoch', max=7, style=ProgressStyle(description_width='initial…"
      ]
     },
     "metadata": {},
     "output_type": "display_data"
    },
    {
     "name": "stdout",
     "output_type": "stream",
     "text": [
      "epoch      trn_loss   val_loss                                \n",
      "    0      4.458031   4.394895  \n",
      "    1      4.471405   4.44545                                 \n",
      "    2      4.367187   4.355366                                \n",
      "    3      4.462434   4.484357                                \n",
      "    4      4.388247   4.413536                                \n",
      "    5      4.309535   4.341952                                \n",
      "    6      4.263284   4.31459                                 \n"
     ]
    },
    {
     "data": {
      "text/plain": [
       "[4.314590146458504]"
      ]
     },
     "execution_count": 104,
     "metadata": {},
     "output_type": "execute_result"
    }
   ],
   "source": [
    "learner.fit(\n",
    "    learning_rate,\n",
    "    n_cycle=3,\n",
    "    wds=weight_decay,\n",
    "    cycle_len=1,\n",
    "    cycle_mult=2,\n",
    ")"
   ]
  },
  {
   "cell_type": "code",
   "execution_count": 105,
   "metadata": {},
   "outputs": [
    {
     "data": {
      "image/png": "[encoded data removed]",
      "text/plain": [
       "<Figure size 432x288 with 1 Axes>"
      ]
     },
     "metadata": {
      "needs_background": "light"
     },
     "output_type": "display_data"
    }
   ],
   "source": [
    "learner.sched.plot_loss()"
   ]
  },
  {
   "cell_type": "code",
   "execution_count": 106,
   "metadata": {},
   "outputs": [],
   "source": [
    "ENCODER_NAME = 'reddit-encoder-2'\n",
    "# reddit-encoder-1\n",
    "#     22 it/s\n",
    "#     validation loss of ~4.4\n",
    "#     trained for 3x3 cycles with final loss 5.3 / 4.4 / 4.3\n",
    "#     max_comments = 1e5\n",
    "#     BATCH_SIZE = 32\n",
    "#     BACKPROP_THRU_TIME = 70\n",
    "#     MIN_WORD_FREQ = 10\n",
    "#     EMBEDDING_SIZE = 200\n",
    "#     NUM_LAYER_WEIGHTS = 500\n",
    "#     NUM_LAYERS = 3\n",
    "#     learning_rate = 0.01\n",
    "#     weight_decay = 1e-6\n",
    "#     dropouti = 0.05\n",
    "#     dropout = 0.05\n",
    "#     wdrop = 0.1\n",
    "#     dropoute = 0.02\n",
    "#     dropouth = 0.05\n",
    "#     learner.reg_fn = partial(seq2seq_reg, alpha=2, beta=1)\n",
    "#     learner.clip = 0.3\n",
    "# reddit-encoder-2\n",
    "#     validation loss of ?\n",
    "#     trained for ? cycles\n",
    "#     max_comments = 1e7\n",
    "#     BATCH_SIZE = 48\n",
    "#     BACKPROP_THRU_TIME = 70\n",
    "#     MIN_WORD_FREQ = 10\n",
    "#     EMBEDDING_SIZE = 200\n",
    "#     NUM_LAYER_WEIGHTS = 1000\n",
    "#     NUM_LAYERS = 3\n",
    "#     learning_rate = 0.01\n",
    "#     weight_decay = 1e-6\n",
    "#     dropouti = 0.05\n",
    "#     dropout = 0.05\n",
    "#     wdrop = 0.1\n",
    "#     dropoute = 0.02\n",
    "#     dropouth = 0.05\n",
    "#     learner.reg_fn = partial(seq2seq_reg, alpha=2, beta=1)\n",
    "#     learner.clip = 0.3"
   ]
  },
  {
   "cell_type": "code",
   "execution_count": 107,
   "metadata": {},
   "outputs": [],
   "source": [
    "learner.save_encoder(ENCODER_NAME)"
   ]
  },
  {
   "cell_type": "code",
   "execution_count": 108,
   "metadata": {},
   "outputs": [],
   "source": [
    "learner.load_encoder(ENCODER_NAME)"
   ]
  },
  {
   "cell_type": "code",
   "execution_count": 113,
   "metadata": {},
   "outputs": [],
   "source": [
    "with open(f'{PATH}models/{VOCAB_NAME}.pkl','rb') as f:\n",
    "    TEXT = pickle.load(f)"
   ]
  },
  {
   "cell_type": "code",
   "execution_count": 114,
   "metadata": {},
   "outputs": [],
   "source": [
    "# Subclass of torch.nn.Sequential\n",
    "model = learner.model\n",
    "model.eval() # Disable dropout\n",
    "model.reset() # Reset hidden state\n",
    "model[0].bs = 1 # Set batch size to 1"
   ]
  },
  {
   "cell_type": "code",
   "execution_count": 115,
   "metadata": {},
   "outputs": [],
   "source": [
    "seed_text = (\n",
    "    \"what I really think is that we should look further into this. \"\n",
    "    \"who can really say what he was\"\n",
    ")\n",
    "seed_text_processed = [TEXT.preprocess(seed_text)]\n",
    "seed_ints = TEXT.numericalize(seed_text_processed)"
   ]
  },
  {
   "cell_type": "code",
   "execution_count": 116,
   "metadata": {},
   "outputs": [],
   "source": [
    "results, *_ = model(seed_ints.cuda())"
   ]
  },
  {
   "cell_type": "code",
   "execution_count": 117,
   "metadata": {},
   "outputs": [],
   "source": [
    "import random\n",
    "\n",
    "def get_word(i):\n",
    "    return TEXT.vocab.itos[i]\n",
    "\n",
    "PUNCTUATION = (',', '.', '!', '?')\n",
    "TOP_K = 5\n",
    "\n",
    "text = seed_text\n",
    "for _ in range(100):\n",
    "    top_results = list(results[-1].topk(TOP_K)[1])\n",
    "    random.shuffle(top_results)\n",
    "    next_int = top_results[1] if top_results[0] == 0 else top_results[0]    \n",
    "    next_word = get_word(next_int)\n",
    "    input_tensor = torch.tensor([[next_int]]).cuda()\n",
    "    results, *_ = model(input_tensor)\n",
    "    if next_word in PUNCTUATION:\n",
    "        text += next_word\n",
    "    elif next_word in ('<', 'eos', '>'):\n",
    "        pass\n",
    "    elif text[-1] in PUNCTUATION:\n",
    "        text += ' ' + next_word.title()\n",
    "    else:\n",
    "        text += ' ' + next_word    "
   ]
  },
  {
   "cell_type": "code",
   "execution_count": 118,
   "metadata": {},
   "outputs": [
    {
     "name": "stdout",
     "output_type": "stream",
     "text": [
      "what I really think is that we should look further into this. who can really say what he was thinking about and he would be able to be more likely in this kind. he 's saying it would be nice. it seems to be that we can all get to be in the world where people can use it for a while, So it will not be a bad idea if they do. i think it was the best case, And the only problem is that the author has a lot of people. but i think it should have done more. \n"
     ]
    }
   ],
   "source": [
    "import re\n",
    "text = re.compile(r'\\s+').sub(r' ', text)\n",
    "text = (\n",
    "    text\n",
    "    .replace('\\r', ' ')\n",
    "    .replace('\\n', ' ')\n",
    "    .replace(' ', ' ')\n",
    ")\n",
    "print(text)"
   ]
  },
  {
   "cell_type": "code",
   "execution_count": null,
   "metadata": {},
   "outputs": [],
   "source": []
  }
 ],
 "metadata": {
  "kernelspec": {
   "display_name": "Python 3",
   "language": "python",
   "name": "python3"
  },
  "language_info": {
   "codemirror_mode": {
    "name": "ipython",
    "version": 3
   },
   "file_extension": ".py",
   "mimetype": "text/x-python",
   "name": "python",
   "nbconvert_exporter": "python",
   "pygments_lexer": "ipython3",
   "version": "3.6.3"
  }
 },
 "nbformat": 4,
 "nbformat_minor": 2
}
