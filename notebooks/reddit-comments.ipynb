{
 "cells": [
  {
   "cell_type": "markdown",
   "metadata": {},
   "source": [
    "# Reddit Comment Generator\n",
    "\n",
    "We will first see if we can generate highly upvoted reddit comments using a language model. Next it would be cool to score a given reddit comment, predicting its upvotes just from the text."
   ]
  },
  {
   "cell_type": "code",
   "execution_count": 1,
   "metadata": {},
   "outputs": [],
   "source": [
    "%reload_ext autoreload\n",
    "%autoreload 2\n",
    "%matplotlib inline\n",
    "\n",
    "import os\n",
    "\n",
    "import requests\n",
    "import numpy as np\n",
    "import pandas as pd\n",
    "import dill as pickle\n",
    "\n",
    "PATH='/root/data/reddit/'"
   ]
  },
  {
   "cell_type": "markdown",
   "metadata": {},
   "source": [
    "### Fetch training data\n",
    "\n",
    "First let's download all the reddit comments from 2005 - 2010.\n",
    "\n",
    "The latest we can go is 11/2017."
   ]
  },
  {
   "cell_type": "code",
   "execution_count": 211,
   "metadata": {},
   "outputs": [],
   "source": [
    "os.makedirs(f'{PATH}/raw', exist_ok=True)\n",
    "os.makedirs(f'{PATH}/models', exist_ok=True)\n",
    "os.makedirs(f'{PATH}/tokens', exist_ok=True)"
   ]
  },
  {
   "cell_type": "code",
   "execution_count": 3,
   "metadata": {},
   "outputs": [],
   "source": [
    "# Generate filenames for downloads\n",
    "year, end_year = 2005, 2010\n",
    "month, end_month = 12, 2\n",
    "\n",
    "files = []\n",
    "while year < end_year or (year == end_year and month <= end_month):\n",
    "    files.append(f'RC_{year}-{month:02}')\n",
    "    # Increment through dates\n",
    "    month += 1\n",
    "    if month % 13 == 0:\n",
    "        month = 1\n",
    "        year += 1"
   ]
  },
  {
   "cell_type": "code",
   "execution_count": 4,
   "metadata": {},
   "outputs": [
    {
     "name": "stdout",
     "output_type": "stream",
     "text": [
      "Found RC_2005-12, Found RC_2006-01, Found RC_2006-02, Found RC_2006-03, Found RC_2006-04, Found RC_2006-05, Found RC_2006-06, Found RC_2006-07, Found RC_2006-08, Found RC_2006-09, Found RC_2006-10, Found RC_2006-11, Found RC_2006-12, Found RC_2007-01, Found RC_2007-02, Found RC_2007-03, Found RC_2007-04, Found RC_2007-05, Found RC_2007-06, Found RC_2007-07, Found RC_2007-08, Found RC_2007-09, Found RC_2007-10, Found RC_2007-11, Found RC_2007-12, Found RC_2008-01, Found RC_2008-02, Found RC_2008-03, Found RC_2008-04, Found RC_2008-05, Found RC_2008-06, Found RC_2008-07, Found RC_2008-08, Found RC_2008-09, Found RC_2008-10, Found RC_2008-11, Found RC_2008-12, Found RC_2009-01, Found RC_2009-02, Found RC_2009-03, Found RC_2009-04, Found RC_2009-05, Found RC_2009-06, Found RC_2009-07, Found RC_2009-08, Found RC_2009-09, Found RC_2009-10, Found RC_2009-11, Found RC_2009-12, Found RC_2010-01, Found RC_2010-02, "
     ]
    }
   ],
   "source": [
    "# Idempotently download files from pushshift.io\n",
    "BASE_URL = 'http://files.pushshift.io/reddit/comments/'\n",
    "for filename in files:\n",
    "    target_file = f'{PATH}raw/{filename}.bz2'\n",
    "    if os.path.exists(target_file):\n",
    "        print(f'Found {target_file}', end=', ')\n",
    "        continue\n",
    "    \n",
    "    alt_name = f'{PATH}raw/{filename}'\n",
    "    if os.path.exists(alt_name):\n",
    "        print(f'Found {filename}', end=', ')\n",
    "        continue\n",
    "        \n",
    "    print(f'\\nDownloading {filename}...', end=' ')\n",
    "    response = requests.get(f'{BASE_URL}{filename}.bz2', stream=True)\n",
    "    response.raise_for_status()\n",
    "\n",
    "    with open(target_file, 'wb') as f:\n",
    "        for block in response.iter_content(1024):\n",
    "            f.write(block)\n",
    "    \n",
    "    print('done')"
   ]
  },
  {
   "cell_type": "code",
   "execution_count": 5,
   "metadata": {},
   "outputs": [
    {
     "name": "stdout",
     "output_type": "stream",
     "text": [
      "ls: cannot access '/root/data/reddit/raw/*.bz2': No such file or directory\r\n"
     ]
    }
   ],
   "source": [
    "# Extract bzip2 archives into plain text - this is ~34 million comments\n",
    "!ls {PATH}raw/*.bz2 | xargs -I % sh -c \"bzip2 -d %\""
   ]
  },
  {
   "cell_type": "markdown",
   "metadata": {},
   "source": [
    "### Read training data into memory\n",
    "\n",
    "We're going to read all our training data into a dataframe.\n"
   ]
  },
  {
   "cell_type": "code",
   "execution_count": 218,
   "metadata": {},
   "outputs": [
    {
     "name": "stdout",
     "output_type": "stream",
     "text": [
      "reading RC_2005-12, reading RC_2006-01, reading RC_2006-02, reading RC_2006-03, reading RC_2006-04, reading RC_2006-05, reading RC_2006-06, reading RC_2006-07, CPU times: user 1.34 s, sys: 59 ms, total: 1.4 s\n",
      "Wall time: 1.4 s\n"
     ]
    }
   ],
   "source": [
    "%%time\n",
    "import json\n",
    "\n",
    "ids = []\n",
    "bodys = []\n",
    "max_comments = 1e5\n",
    "\n",
    "for file in files:\n",
    "    with open(f'{PATH}raw/{file}') as f:\n",
    "        print(f'reading {file}', end=', ')\n",
    "        for line in f.readlines():\n",
    "            line_json = json.loads(line)\n",
    "            if len(line_json['body']) > 30:\n",
    "                ids.append(line_json['id'])\n",
    "                bodys.append(line_json['body'])\n",
    "            \n",
    "        if len(ids) > max_comments:\n",
    "            break\n",
    "\n",
    "columns = ['id', 'body']\n",
    "df = pd.DataFrame(columns=columns).astype(str)\n",
    "df['id'] = ids\n",
    "df['body'] = bodys\n",
    "df = df.set_index('id')                "
   ]
  },
  {
   "cell_type": "code",
   "execution_count": 219,
   "metadata": {},
   "outputs": [
    {
     "name": "stdout",
     "output_type": "stream",
     "text": [
      "<class 'pandas.core.frame.DataFrame'>\n",
      "Index: 107171 entries, c13 to cbsvm\n",
      "Data columns (total 1 columns):\n",
      "body    107171 non-null object\n",
      "dtypes: object(1)\n",
      "memory usage: 1.6+ MB\n",
      "None\n"
     ]
    },
    {
     "data": {
      "text/html": [
       "<div>\n",
       "<style scoped>\n",
       "    .dataframe tbody tr th:only-of-type {\n",
       "        vertical-align: middle;\n",
       "    }\n",
       "\n",
       "    .dataframe tbody tr th {\n",
       "        vertical-align: top;\n",
       "    }\n",
       "\n",
       "    .dataframe thead th {\n",
       "        text-align: right;\n",
       "    }\n",
       "</style>\n",
       "<table border=\"1\" class=\"dataframe\">\n",
       "  <thead>\n",
       "    <tr style=\"text-align: right;\">\n",
       "      <th></th>\n",
       "      <th>body</th>\n",
       "    </tr>\n",
       "    <tr>\n",
       "      <th>id</th>\n",
       "      <th></th>\n",
       "    </tr>\n",
       "  </thead>\n",
       "  <tbody>\n",
       "    <tr>\n",
       "      <th>c13</th>\n",
       "      <td>A look at Vietnam and Mexico exposes the myth ...</td>\n",
       "    </tr>\n",
       "    <tr>\n",
       "      <th>c14</th>\n",
       "      <td>The site states \"What can I use it for? Meetin...</td>\n",
       "    </tr>\n",
       "    <tr>\n",
       "      <th>c15</th>\n",
       "      <td>Jython related topics by Frank Wierzbicki</td>\n",
       "    </tr>\n",
       "    <tr>\n",
       "      <th>c17</th>\n",
       "      <td>Saft is by far the best extension you could ta...</td>\n",
       "    </tr>\n",
       "    <tr>\n",
       "      <th>c19</th>\n",
       "      <td>How to take panoramic shots simply</td>\n",
       "    </tr>\n",
       "  </tbody>\n",
       "</table>\n",
       "</div>"
      ],
      "text/plain": [
       "                                                  body\n",
       "id                                                    \n",
       "c13  A look at Vietnam and Mexico exposes the myth ...\n",
       "c14  The site states \"What can I use it for? Meetin...\n",
       "c15          Jython related topics by Frank Wierzbicki\n",
       "c17  Saft is by far the best extension you could ta...\n",
       "c19                 How to take panoramic shots simply"
      ]
     },
     "execution_count": 219,
     "metadata": {},
     "output_type": "execute_result"
    }
   ],
   "source": [
    "print(df.info())\n",
    "df.head()"
   ]
  },
  {
   "cell_type": "code",
   "execution_count": 220,
   "metadata": {},
   "outputs": [],
   "source": [
    "train_percent = 0.8\n",
    "valid_idx = int(len(df) * 0.8)\n",
    "train_df = df[:valid_idx]\n",
    "valid_df = df[valid_idx:]"
   ]
  },
  {
   "cell_type": "markdown",
   "metadata": {},
   "source": [
    "### TODO\n",
    "\n",
    "- dump a pickle of the model for the vocab\n",
    "- start training model\n",
    "- test model\n",
    "- try with more files\n",
    "- once language generation works - try training an upvote predictor with a small number of comments"
   ]
  },
  {
   "cell_type": "code",
   "execution_count": 221,
   "metadata": {},
   "outputs": [],
   "source": [
    "import spacy\n",
    "from fastai.nlp import LanguageModelData\n",
    "from torchtext import vocab, data\n",
    "from torchtext.datasets import language_modeling"
   ]
  },
  {
   "cell_type": "code",
   "execution_count": 222,
   "metadata": {},
   "outputs": [
    {
     "name": "stdout",
     "output_type": "stream",
     "text": [
      "True\n",
      "True\n"
     ]
    }
   ],
   "source": [
    "import torch\n",
    "print(torch.cuda.is_available())\n",
    "print(torch.backends.cudnn.enabled)"
   ]
  },
  {
   "cell_type": "code",
   "execution_count": 223,
   "metadata": {},
   "outputs": [],
   "source": [
    "TEXT = data.Field(lower=True, tokenize=\"spacy\")"
   ]
  },
  {
   "cell_type": "code",
   "execution_count": 224,
   "metadata": {},
   "outputs": [],
   "source": [
    "BATCH_SIZE = 256\n",
    "BACKPROP_THRU_TIME = 70\n",
    "MIN_WORD_FREQ = 10"
   ]
  },
  {
   "cell_type": "code",
   "execution_count": 225,
   "metadata": {},
   "outputs": [],
   "source": [
    "import hashlib\n",
    "\n",
    "def md5(s):\n",
    "    return hashlib.md5(s.encode('utf-8')).hexdigest()"
   ]
  },
  {
   "cell_type": "code",
   "execution_count": 228,
   "metadata": {},
   "outputs": [],
   "source": [
    "# Tokenizing is really slow, so cache the tokens if the text\n",
    "# is the same.\n",
    "from torchtext.data import Dataset, Example\n",
    "\n",
    "def get_tokens(df, text_field, col_name):\n",
    "    text = df[col_name].str.cat(sep=' <eos> ')\n",
    "    file_path = f'{PATH}/tokens/{md5(text)}.pkl'\n",
    "    if os.path.exists(file_path):\n",
    "        with open(file_path, 'rb') as f:\n",
    "            tokens = pickle.load(f)\n",
    "    else:\n",
    "        tokens = text_field.preprocess(text)\n",
    "        tokens.append('<eos>')\n",
    "        with open(file_path, 'wb') as f:\n",
    "            pickle.dump(tokens, f)\n",
    "    \n",
    "    return tokens\n",
    "        \n",
    "def get_dataset(df, text_field, col_name):\n",
    "    tokens = get_tokens(df, text_field, col_name)\n",
    "    fields = [('text', text_field)]\n",
    "    examples = [Example.fromlist([tokens], fields)]\n",
    "    return Dataset(examples, fields)"
   ]
  },
  {
   "cell_type": "code",
   "execution_count": 230,
   "metadata": {},
   "outputs": [
    {
     "name": "stdout",
     "output_type": "stream",
     "text": [
      "CPU times: user 2.5 s, sys: 351 ms, total: 2.85 s\n",
      "Wall time: 2.85 s\n"
     ]
    }
   ],
   "source": [
    "%%time\n",
    "from fastai.nlp import ConcatTextDatasetFromDataFrames\n",
    "trn_ds = get_dataset(train_df, TEXT, 'body')\n",
    "val_ds = get_dataset(valid_df, TEXT, 'body')"
   ]
  },
  {
   "cell_type": "code",
   "execution_count": 231,
   "metadata": {},
   "outputs": [
    {
     "name": "stdout",
     "output_type": "stream",
     "text": [
      "CPU times: user 2.67 s, sys: 70.5 ms, total: 2.74 s\n",
      "Wall time: 2.74 s\n"
     ]
    }
   ],
   "source": [
    "%%time\n",
    "model_data = LanguageModelData(\n",
    "    PATH,\n",
    "    TEXT,\n",
    "    trn_ds,\n",
    "    val_ds,\n",
    "    test_ds,\n",
    "    BATCH_SIZE,\n",
    "    BACKPROP_THRU_TIME,\n",
    "    min_freq=MIN_WORD_FREQ,\n",
    ")"
   ]
  },
  {
   "cell_type": "code",
   "execution_count": 232,
   "metadata": {},
   "outputs": [],
   "source": [
    "with open(f'{PATH}models/TEXT.pkl','wb') as f:\n",
    "    pickle.dump(TEXT, f)"
   ]
  },
  {
   "cell_type": "code",
   "execution_count": 233,
   "metadata": {},
   "outputs": [
    {
     "name": "stdout",
     "output_type": "stream",
     "text": [
      "Num batches:  324\n",
      "Num unique tokens in vocab:  16390\n",
      "Num sentences in train:  5837403\n"
     ]
    }
   ],
   "source": [
    "print('Num batches: ', len(model_data.trn_dl))\n",
    "print('Num unique tokens in vocab: ', model_data.nt)\n",
    "print('Num sentences in train: ', len(model_data.trn_ds[0].text))"
   ]
  },
  {
   "cell_type": "code",
   "execution_count": 234,
   "metadata": {},
   "outputs": [],
   "source": [
    "EMBEDDING_SIZE = 200\n",
    "NUM_LAYER_WEIGHTS = 500\n",
    "NUM_LAYERS = 3"
   ]
  },
  {
   "cell_type": "code",
   "execution_count": 235,
   "metadata": {},
   "outputs": [],
   "source": [
    "# Reduce gradient descent momentum parameter, because\n",
    "# we were told to and who's going to throw away free advice?\n",
    "from functools import partial\n",
    "import torch.optim as optim\n",
    "optimization_func = partial(optim.Adam, betas=(0.7, 0.99))"
   ]
  },
  {
   "cell_type": "code",
   "execution_count": 236,
   "metadata": {},
   "outputs": [],
   "source": [
    "from fastai.lm_rnn import seq2seq_reg\n",
    "# Dropout parameters may need turning\n",
    "learner = model_data.get_model(\n",
    "    optimization_func, \n",
    "    EMBEDDING_SIZE,\n",
    "    NUM_LAYER_WEIGHTS,\n",
    "    NUM_LAYERS,\n",
    "    dropouti=0.05,\n",
    "    dropout=0.05,\n",
    "    wdrop=0.1,\n",
    "    dropoute=0.02,\n",
    "    dropouth=0.05\n",
    ")\n",
    "learner.reg_fn = partial(seq2seq_reg, alpha=2, beta=1)\n",
    "learner.clip = 0.3"
   ]
  },
  {
   "cell_type": "code",
   "execution_count": 237,
   "metadata": {},
   "outputs": [
    {
     "data": {
      "application/vnd.jupyter.widget-view+json": {
       "model_id": "8e7b3aef380e481da1f7d1ec4d914a41",
       "version_major": 2,
       "version_minor": 0
      },
      "text/plain": [
       "HBox(children=(IntProgress(value=0, description='Epoch', max=1, style=ProgressStyle(description_width='initial…"
      ]
     },
     "metadata": {},
     "output_type": "display_data"
    },
    {
     "name": "stdout",
     "output_type": "stream",
     "text": [
      " 93%|█████████▎| 300/324 [02:58<00:13,  1.72it/s, loss=24]     "
     ]
    }
   ],
   "source": [
    "import warnings\n",
    "warnings.filterwarnings(\"ignore\")\n",
    "learner.lr_find()"
   ]
  },
  {
   "cell_type": "code",
   "execution_count": 238,
   "metadata": {},
   "outputs": [
    {
     "data": {
      "image/png": "[encoded data removed]",
      "text/plain": [
       "<Figure size 432x288 with 1 Axes>"
      ]
     },
     "metadata": {
      "needs_background": "light"
     },
     "output_type": "display_data"
    }
   ],
   "source": [
    "learner.sched.plot()"
   ]
  },
  {
   "cell_type": "code",
   "execution_count": 246,
   "metadata": {},
   "outputs": [],
   "source": [
    "learning_rate = 0.05\n",
    "weight_decay=1e-6"
   ]
  },
  {
   "cell_type": "code",
   "execution_count": 243,
   "metadata": {},
   "outputs": [
    {
     "data": {
      "application/vnd.jupyter.widget-view+json": {
       "model_id": "6675f26f2b194fd285cf631b6bd9718d",
       "version_major": 2,
       "version_minor": 0
      },
      "text/plain": [
       "HBox(children=(IntProgress(value=0, description='Epoch', max=3, style=ProgressStyle(description_width='initial…"
      ]
     },
     "metadata": {},
     "output_type": "display_data"
    },
    {
     "name": "stdout",
     "output_type": "stream",
     "text": [
      "epoch      trn_loss   val_loss                              \n",
      "    0      8.773322   8.865797  \n",
      "    1      8.765155   8.486768                              \n",
      "    2      6.487292   6.530777                              \n"
     ]
    },
    {
     "data": {
      "text/plain": [
       "[6.530776730679228]"
      ]
     },
     "execution_count": 243,
     "metadata": {},
     "output_type": "execute_result"
    }
   ],
   "source": [
    "learner.fit(\n",
    "    learning_rate,\n",
    "    n_cycle=3,\n",
    ")"
   ]
  },
  {
   "cell_type": "code",
   "execution_count": 244,
   "metadata": {},
   "outputs": [
    {
     "data": {
      "image/png": "[encoded data removed]",
      "text/plain": [
       "<Figure size 432x288 with 1 Axes>"
      ]
     },
     "metadata": {
      "needs_background": "light"
     },
     "output_type": "display_data"
    }
   ],
   "source": [
    "learner.sched.plot_loss()"
   ]
  },
  {
   "cell_type": "code",
   "execution_count": 247,
   "metadata": {},
   "outputs": [
    {
     "data": {
      "application/vnd.jupyter.widget-view+json": {
       "model_id": "23da90e13903426383da9688acfc3c55",
       "version_major": 2,
       "version_minor": 0
      },
      "text/plain": [
       "HBox(children=(IntProgress(value=0, description='Epoch', max=3, style=ProgressStyle(description_width='initial…"
      ]
     },
     "metadata": {},
     "output_type": "display_data"
    },
    {
     "name": "stdout",
     "output_type": "stream",
     "text": [
      "epoch      trn_loss   val_loss                              \n",
      "    0      6.443576   6.394881  \n",
      "    1      6.511417   6.422901                              \n",
      "    2      6.107649   5.982006                              \n"
     ]
    },
    {
     "data": {
      "text/plain": [
       "[5.982005726595333]"
      ]
     },
     "execution_count": 247,
     "metadata": {},
     "output_type": "execute_result"
    }
   ],
   "source": [
    "learner.fit(\n",
    "    learning_rate,\n",
    "    n_cycle=2,\n",
    "    wds=weight_decay,\n",
    "    cycle_len=1,\n",
    "    cycle_mult=2,\n",
    ")"
   ]
  },
  {
   "cell_type": "code",
   "execution_count": 248,
   "metadata": {},
   "outputs": [
    {
     "data": {
      "image/png": "[encoded data removed]",
      "text/plain": [
       "<Figure size 432x288 with 1 Axes>"
      ]
     },
     "metadata": {
      "needs_background": "light"
     },
     "output_type": "display_data"
    }
   ],
   "source": [
    "learner.sched.plot_loss()"
   ]
  },
  {
   "cell_type": "code",
   "execution_count": 249,
   "metadata": {},
   "outputs": [],
   "source": [
    "ENCODER_NAME = 'reddit-encoder-1'"
   ]
  },
  {
   "cell_type": "code",
   "execution_count": 250,
   "metadata": {},
   "outputs": [],
   "source": [
    "learner.save_encoder(ENCODER_NAME)"
   ]
  },
  {
   "cell_type": "code",
   "execution_count": 258,
   "metadata": {},
   "outputs": [],
   "source": [
    "learner.load_encoder(ENCODER_NAME)"
   ]
  },
  {
   "cell_type": "code",
   "execution_count": 266,
   "metadata": {},
   "outputs": [],
   "source": [
    "with open(f'{PATH}models/TEXT.pkl','rb') as f:\n",
    "    TEXT = pickle.load(f)"
   ]
  },
  {
   "cell_type": "code",
   "execution_count": 295,
   "metadata": {},
   "outputs": [
    {
     "data": {
      "text/plain": [
       "SequentialRNN(\n",
       "  (0): RNN_Encoder(\n",
       "    (encoder): Embedding(16390, 200, padding_idx=1)\n",
       "    (encoder_with_dropout): EmbeddingDropout(\n",
       "      (embed): Embedding(16390, 200, padding_idx=1)\n",
       "    )\n",
       "    (rnns): ModuleList(\n",
       "      (0): WeightDrop(\n",
       "        (module): LSTM(200, 500)\n",
       "      )\n",
       "      (1): WeightDrop(\n",
       "        (module): LSTM(500, 500)\n",
       "      )\n",
       "      (2): WeightDrop(\n",
       "        (module): LSTM(500, 200)\n",
       "      )\n",
       "    )\n",
       "    (dropouti): LockedDropout()\n",
       "    (dropouths): ModuleList(\n",
       "      (0): LockedDropout()\n",
       "      (1): LockedDropout()\n",
       "      (2): LockedDropout()\n",
       "    )\n",
       "  )\n",
       "  (1): LinearDecoder(\n",
       "    (decoder): Linear(in_features=200, out_features=16390, bias=False)\n",
       "    (dropout): LockedDropout()\n",
       "  )\n",
       ")"
      ]
     },
     "execution_count": 295,
     "metadata": {},
     "output_type": "execute_result"
    }
   ],
   "source": [
    "# Subclass of torch.nn.Sequential\n",
    "model = learner.model\n",
    "model.eval() # Disable dropout\n",
    "model.reset() # Reset hidden state\n",
    "model[0].bs = 1 # Set batch size to 1\n",
    "model."
   ]
  },
  {
   "cell_type": "code",
   "execution_count": 286,
   "metadata": {},
   "outputs": [],
   "source": [
    "seed_text = (\n",
    "    \"what I really think is that we should look further into this. \"\n",
    "    \"who can really say what he was\"\n",
    ")\n",
    "seed_text_processed = [TEXT.preprocess(seed_text)]\n",
    "seed_ints = TEXT.numericalize(seed_text_processed)"
   ]
  },
  {
   "cell_type": "code",
   "execution_count": 287,
   "metadata": {},
   "outputs": [],
   "source": [
    "results, *_ = model(seed_ints.cuda())"
   ]
  },
  {
   "cell_type": "code",
   "execution_count": 291,
   "metadata": {},
   "outputs": [
    {
     "name": "stdout",
     "output_type": "stream",
     "text": [
      "['<unk>', 'the', 'a', 'it', 'i', 'not', 'one', 'people', '\"', 'this']\n",
      "['<unk>', 'the', 'a', 'it', 'i', 'not', 'one', 'people', '\"', 'this']\n",
      "['<unk>', 'the', 'a', 'it', 'i', 'not', 'one', 'people', '\"', 'this']\n",
      "['<unk>', 'the', 'a', 'it', 'i', 'not', 'one', 'people', '\"', 'this']\n",
      "['<unk>', 'the', 'a', 'it', 'i', 'not', 'one', 'people', '\"', 'this']\n",
      "['<unk>', 'the', 'a', 'it', 'i', 'not', 'one', 'people', '\"', 'this']\n",
      "['<unk>', 'the', 'a', 'it', 'i', 'not', 'one', 'people', '\"', 'this']\n",
      "['<unk>', 'the', 'a', 'it', 'i', 'not', 'one', 'people', '\"', 'this']\n",
      "['<unk>', 'the', 'a', 'it', 'i', 'not', 'one', 'people', '\"', 'this']\n",
      "['<unk>', 'the', 'a', 'it', 'i', 'not', 'one', 'people', '\"', 'this']\n",
      "['<unk>', 'the', 'a', 'it', 'i', 'not', 'one', 'people', '\"', 'this']\n",
      "['<unk>', 'the', 'a', 'it', 'i', 'not', 'one', 'people', '\"', 'this']\n",
      "['<unk>', 'the', 'a', 'it', 'i', 'not', 'one', 'people', '\"', 'this']\n",
      "['<unk>', 'the', 'a', 'it', 'i', 'not', 'one', 'people', '\"', 'this']\n",
      "['<unk>', 'the', 'a', 'it', 'i', 'not', 'one', 'people', '\"', 'this']\n",
      "['<unk>', 'the', 'a', 'it', 'i', 'not', 'one', 'people', '\"', 'this']\n",
      "['<unk>', 'the', 'a', 'it', 'i', 'not', 'one', 'people', '\"', 'this']\n",
      "['<unk>', 'the', 'a', 'it', 'i', 'not', 'one', 'people', '\"', 'this']\n",
      "['<unk>', 'the', 'a', 'it', 'i', 'not', 'one', 'people', '\"', 'this']\n",
      "['<unk>', 'the', 'a', 'it', 'i', 'not', 'one', 'people', '\"', 'this']\n",
      "['<unk>', 'the', 'a', 'it', 'i', 'not', 'one', 'people', '\"', 'this']\n",
      "['<unk>', 'the', 'a', 'it', 'i', 'not', 'one', 'people', '\"', 'this']\n",
      "['<unk>', 'the', 'a', 'it', 'i', 'not', 'one', 'people', '\"', 'this']\n",
      "['<unk>', 'the', 'a', 'it', 'i', 'not', 'one', 'people', '\"', 'this']\n",
      "['<unk>', 'the', 'a', 'it', 'i', 'not', 'one', 'people', '\"', 'this']\n",
      "['<unk>', 'the', 'a', 'it', 'i', 'not', 'one', 'people', '\"', 'this']\n",
      "['<unk>', 'the', 'a', 'it', 'i', 'not', 'one', 'people', '\"', 'this']\n",
      "['<unk>', 'the', 'a', 'it', 'i', 'not', 'one', 'people', '\"', 'this']\n",
      "['<unk>', 'the', 'a', 'it', 'i', 'not', 'one', 'people', '\"', 'this']\n",
      "['<unk>', 'the', 'a', 'it', 'i', 'not', 'one', 'people', '\"', 'this']\n",
      "['<unk>', 'the', 'a', 'it', 'i', 'not', 'one', 'people', '\"', 'this']\n",
      "['<unk>', 'the', 'a', 'it', 'i', 'not', 'one', 'people', '\"', 'this']\n",
      "['<unk>', 'the', 'a', 'it', 'i', 'not', 'one', 'people', '\"', 'this']\n",
      "['<unk>', 'the', 'a', 'it', 'i', 'not', 'one', 'people', '\"', 'this']\n",
      "['<unk>', 'the', 'a', 'it', 'i', 'not', 'one', 'people', '\"', 'this']\n",
      "['<unk>', 'the', 'a', 'it', 'i', 'not', 'one', 'people', '\"', 'this']\n",
      "['<unk>', 'the', 'a', 'it', 'i', 'not', 'one', 'people', '\"', 'this']\n",
      "['<unk>', 'the', 'a', 'it', 'i', 'not', 'one', 'people', '\"', 'this']\n",
      "['<unk>', 'the', 'a', 'it', 'i', 'not', 'one', 'people', '\"', 'this']\n",
      "['<unk>', 'the', 'a', 'it', 'i', 'not', 'one', 'people', '\"', 'this']\n",
      "['<unk>', 'the', 'a', 'it', 'i', 'not', 'one', 'people', '\"', 'this']\n",
      "['<unk>', 'the', 'a', 'it', 'i', 'not', 'one', 'people', '\"', 'this']\n",
      "['<unk>', 'the', 'a', 'it', 'i', 'not', 'one', 'people', '\"', 'this']\n",
      "['<unk>', 'the', 'a', 'it', 'i', 'not', 'one', 'people', '\"', 'this']\n",
      "['<unk>', 'the', 'a', 'it', 'i', 'not', 'one', 'people', '\"', 'this']\n",
      "['<unk>', 'the', 'a', 'it', 'i', 'not', 'one', 'people', '\"', 'this']\n",
      "['<unk>', 'the', 'a', 'it', 'i', 'not', 'one', 'people', '\"', 'this']\n",
      "['<unk>', 'the', 'a', 'it', 'i', 'not', 'one', 'people', '\"', 'this']\n",
      "['<unk>', 'the', 'a', 'it', 'i', 'not', 'one', 'people', '\"', 'this']\n",
      "['<unk>', 'the', 'a', 'it', 'i', 'not', 'one', 'people', '\"', 'this']\n",
      "['<unk>', 'the', 'a', 'it', 'i', 'not', 'one', 'people', '\"', 'this']\n",
      "['<unk>', 'the', 'a', 'it', 'i', 'not', 'one', 'people', '\"', 'this']\n",
      "['<unk>', 'the', 'a', 'it', 'i', 'not', 'one', 'people', '\"', 'this']\n",
      "['<unk>', 'the', 'a', 'it', 'i', 'not', 'one', 'people', '\"', 'this']\n",
      "['<unk>', 'the', 'a', 'it', 'i', 'not', 'one', 'people', '\"', 'this']\n",
      "['<unk>', 'the', 'a', 'it', 'i', 'not', 'one', 'people', '\"', 'this']\n",
      "['<unk>', 'the', 'a', 'it', 'i', 'not', 'one', 'people', '\"', 'this']\n",
      "['<unk>', 'the', 'a', 'it', 'i', 'not', 'one', 'people', '\"', 'this']\n",
      "['<unk>', 'the', 'a', 'it', 'i', 'not', 'one', 'people', '\"', 'this']\n",
      "['<unk>', 'the', 'a', 'it', 'i', 'not', 'one', 'people', '\"', 'this']\n",
      "['<unk>', 'the', 'a', 'it', 'i', 'not', 'one', 'people', '\"', 'this']\n",
      "['<unk>', 'the', 'a', 'it', 'i', 'not', 'one', 'people', '\"', 'this']\n",
      "['<unk>', 'the', 'a', 'it', 'i', 'not', 'one', 'people', '\"', 'this']\n",
      "['<unk>', 'the', 'a', 'it', 'i', 'not', 'one', 'people', '\"', 'this']\n",
      "['<unk>', 'the', 'a', 'it', 'i', 'not', 'one', 'people', '\"', 'this']\n",
      "['<unk>', 'the', 'a', 'it', 'i', 'not', 'one', 'people', '\"', 'this']\n",
      "['<unk>', 'the', 'a', 'it', 'i', 'not', 'one', 'people', '\"', 'this']\n",
      "['<unk>', 'the', 'a', 'it', 'i', 'not', 'one', 'people', '\"', 'this']\n",
      "['<unk>', 'the', 'a', 'it', 'i', 'not', 'one', 'people', '\"', 'this']\n",
      "['<unk>', 'the', 'a', 'it', 'i', 'not', 'one', 'people', '\"', 'this']\n",
      "['<unk>', 'the', 'a', 'it', 'i', 'not', 'one', 'people', '\"', 'this']\n",
      "['<unk>', 'the', 'a', 'it', 'i', 'not', 'one', 'people', '\"', 'this']\n",
      "['<unk>', 'the', 'a', 'it', 'i', 'not', 'one', 'people', '\"', 'this']\n",
      "['<unk>', 'the', 'a', 'it', 'i', 'not', 'one', 'people', '\"', 'this']\n",
      "['<unk>', 'the', 'a', 'it', 'i', 'not', 'one', 'people', '\"', 'this']\n",
      "['<unk>', 'the', 'a', 'it', 'i', 'not', 'one', 'people', '\"', 'this']\n",
      "['<unk>', 'the', 'a', 'it', 'i', 'not', 'one', 'people', '\"', 'this']\n",
      "['<unk>', 'the', 'a', 'it', 'i', 'not', 'one', 'people', '\"', 'this']\n",
      "['<unk>', 'the', 'a', 'it', 'i', 'not', 'one', 'people', '\"', 'this']\n",
      "['<unk>', 'the', 'a', 'it', 'i', 'not', 'one', 'people', '\"', 'this']\n",
      "['<unk>', 'the', 'a', 'it', 'i', 'not', 'one', 'people', '\"', 'this']\n",
      "['<unk>', 'the', 'a', 'it', 'i', 'not', 'one', 'people', '\"', 'this']\n",
      "['<unk>', 'the', 'a', 'it', 'i', 'not', 'one', 'people', '\"', 'this']\n",
      "['<unk>', 'the', 'a', 'it', 'i', 'not', 'one', 'people', '\"', 'this']\n",
      "['<unk>', 'the', 'a', 'it', 'i', 'not', 'one', 'people', '\"', 'this']\n",
      "['<unk>', 'the', 'a', 'it', 'i', 'not', 'one', 'people', '\"', 'this']\n",
      "['<unk>', 'the', 'a', 'it', 'i', 'not', 'one', 'people', '\"', 'this']\n",
      "['<unk>', 'the', 'a', 'it', 'i', 'not', 'one', 'people', '\"', 'this']\n",
      "['<unk>', 'the', 'a', 'it', 'i', 'not', 'one', 'people', '\"', 'this']\n",
      "['<unk>', 'the', 'a', 'it', 'i', 'not', 'one', 'people', '\"', 'this']\n",
      "['<unk>', 'the', 'a', 'it', 'i', 'not', 'one', 'people', '\"', 'this']\n",
      "['<unk>', 'the', 'a', 'it', 'i', 'not', 'one', 'people', '\"', 'this']\n",
      "['<unk>', 'the', 'a', 'it', 'i', 'not', 'one', 'people', '\"', 'this']\n",
      "['<unk>', 'the', 'a', 'it', 'i', 'not', 'one', 'people', '\"', 'this']\n",
      "['<unk>', 'the', 'a', 'it', 'i', 'not', 'one', 'people', '\"', 'this']\n",
      "['<unk>', 'the', 'a', 'it', 'i', 'not', 'one', 'people', '\"', 'this']\n",
      "['<unk>', 'the', 'a', 'it', 'i', 'not', 'one', 'people', '\"', 'this']\n",
      "['<unk>', 'the', 'a', 'it', 'i', 'not', 'one', 'people', '\"', 'this']\n",
      "['<unk>', 'the', 'a', 'it', 'i', 'not', 'one', 'people', '\"', 'this']\n",
      "['<unk>', 'the', 'a', 'it', 'i', 'not', 'one', 'people', '\"', 'this']\n",
      "['<unk>', 'the', 'a', 'it', 'i', 'not', 'one', 'people', '\"', 'this']\n",
      "['<unk>', 'the', 'a', 'it', 'i', 'not', 'one', 'people', '\"', 'this']\n",
      "['<unk>', 'the', 'a', 'it', 'i', 'not', 'one', 'people', '\"', 'this']\n",
      "['<unk>', 'the', 'a', 'it', 'i', 'not', 'one', 'people', '\"', 'this']\n",
      "['<unk>', 'the', 'a', 'it', 'i', 'not', 'one', 'people', '\"', 'this']\n",
      "['<unk>', 'the', 'a', 'it', 'i', 'not', 'one', 'people', '\"', 'this']\n",
      "['<unk>', 'the', 'a', 'it', 'i', 'not', 'one', 'people', '\"', 'this']\n",
      "['<unk>', 'the', 'a', 'it', 'i', 'not', 'one', 'people', '\"', 'this']\n",
      "['<unk>', 'the', 'a', 'it', 'i', 'not', 'one', 'people', '\"', 'this']\n",
      "['<unk>', 'the', 'a', 'it', 'i', 'not', 'one', 'people', '\"', 'this']\n",
      "['<unk>', 'the', 'a', 'it', 'i', 'not', 'one', 'people', '\"', 'this']\n",
      "['<unk>', 'the', 'a', 'it', 'i', 'not', 'one', 'people', '\"', 'this']\n",
      "['<unk>', 'the', 'a', 'it', 'i', 'not', 'one', 'people', '\"', 'this']\n",
      "['<unk>', 'the', 'a', 'it', 'i', 'not', 'one', 'people', '\"', 'this']\n",
      "['<unk>', 'the', 'a', 'it', 'i', 'not', 'one', 'people', '\"', 'this']\n",
      "['<unk>', 'the', 'a', 'it', 'i', 'not', 'one', 'people', '\"', 'this']\n",
      "['<unk>', 'the', 'a', 'it', 'i', 'not', 'one', 'people', '\"', 'this']\n",
      "['<unk>', 'the', 'a', 'it', 'i', 'not', 'one', 'people', '\"', 'this']\n",
      "['<unk>', 'the', 'a', 'it', 'i', 'not', 'one', 'people', '\"', 'this']\n",
      "['<unk>', 'the', 'a', 'it', 'i', 'not', 'one', 'people', '\"', 'this']\n",
      "['<unk>', 'the', 'a', 'it', 'i', 'not', 'one', 'people', '\"', 'this']\n",
      "['<unk>', 'the', 'a', 'it', 'i', 'not', 'one', 'people', '\"', 'this']\n",
      "['<unk>', 'the', 'a', 'it', 'i', 'not', 'one', 'people', '\"', 'this']\n",
      "['<unk>', 'the', 'a', 'it', 'i', 'not', 'one', 'people', '\"', 'this']\n",
      "['<unk>', 'the', 'a', 'it', 'i', 'not', 'one', 'people', '\"', 'this']\n",
      "['<unk>', 'the', 'a', 'it', 'i', 'not', 'one', 'people', '\"', 'this']\n",
      "['<unk>', 'the', 'a', 'it', 'i', 'not', 'one', 'people', '\"', 'this']\n",
      "['<unk>', 'the', 'a', 'it', 'i', 'not', 'one', 'people', '\"', 'this']\n",
      "['<unk>', 'the', 'a', 'it', 'i', 'not', 'one', 'people', '\"', 'this']\n",
      "['<unk>', 'the', 'a', 'it', 'i', 'not', 'one', 'people', '\"', 'this']\n",
      "['<unk>', 'the', 'a', 'it', 'i', 'not', 'one', 'people', '\"', 'this']\n",
      "['<unk>', 'the', 'a', 'it', 'i', 'not', 'one', 'people', '\"', 'this']\n",
      "['<unk>', 'the', 'a', 'it', 'i', 'not', 'one', 'people', '\"', 'this']\n",
      "['<unk>', 'the', 'a', 'it', 'i', 'not', 'one', 'people', '\"', 'this']\n",
      "['<unk>', 'the', 'a', 'it', 'i', 'not', 'one', 'people', '\"', 'this']\n",
      "['<unk>', 'the', 'a', 'it', 'i', 'not', 'one', 'people', '\"', 'this']\n",
      "['<unk>', 'the', 'a', 'it', 'i', 'not', 'one', 'people', '\"', 'this']\n",
      "['<unk>', 'the', 'a', 'it', 'i', 'not', 'one', 'people', '\"', 'this']\n",
      "['<unk>', 'the', 'a', 'it', 'i', 'not', 'one', 'people', '\"', 'this']\n",
      "['<unk>', 'the', 'a', 'it', 'i', 'not', 'one', 'people', '\"', 'this']\n",
      "['<unk>', 'the', 'a', 'it', 'i', 'not', 'one', 'people', '\"', 'this']\n"
     ]
    },
    {
     "name": "stdout",
     "output_type": "stream",
     "text": [
      "['<unk>', 'the', 'a', 'it', 'i', 'not', 'one', 'people', '\"', 'this']\n",
      "['<unk>', 'the', 'a', 'it', 'i', 'not', 'one', 'people', '\"', 'this']\n",
      "['<unk>', 'the', 'a', 'it', 'i', 'not', 'one', 'people', '\"', 'this']\n",
      "['<unk>', 'the', 'a', 'it', 'i', 'not', 'one', 'people', '\"', 'this']\n",
      "['<unk>', 'the', 'a', 'it', 'i', 'not', 'one', 'people', '\"', 'this']\n",
      "['<unk>', 'the', 'a', 'it', 'i', 'not', 'one', 'people', '\"', 'this']\n",
      "['<unk>', 'the', 'a', 'it', 'i', 'not', 'one', 'people', '\"', 'this']\n",
      "['<unk>', 'the', 'a', 'it', 'i', 'not', 'one', 'people', '\"', 'this']\n",
      "['<unk>', 'the', 'a', 'it', 'i', 'not', 'one', 'people', '\"', 'this']\n",
      "['<unk>', 'the', 'a', 'it', 'i', 'not', 'one', 'people', '\"', 'this']\n",
      "['<unk>', 'the', 'a', 'it', 'i', 'not', 'one', 'people', '\"', 'this']\n",
      "['<unk>', 'the', 'a', 'it', 'i', 'not', 'one', 'people', '\"', 'this']\n",
      "['<unk>', 'the', 'a', 'it', 'i', 'not', 'one', 'people', '\"', 'this']\n",
      "['<unk>', 'the', 'a', 'it', 'i', 'not', 'one', 'people', '\"', 'this']\n",
      "['<unk>', 'the', 'a', 'it', 'i', 'not', 'one', 'people', '\"', 'this']\n",
      "['<unk>', 'the', 'a', 'it', 'i', 'not', 'one', 'people', '\"', 'this']\n",
      "['<unk>', 'the', 'a', 'it', 'i', 'not', 'one', 'people', '\"', 'this']\n",
      "['<unk>', 'the', 'a', 'it', 'i', 'not', 'one', 'people', '\"', 'this']\n",
      "['<unk>', 'the', 'a', 'it', 'i', 'not', 'one', 'people', '\"', 'this']\n",
      "['<unk>', 'the', 'a', 'it', 'i', 'not', 'one', 'people', '\"', 'this']\n",
      "['<unk>', 'the', 'a', 'it', 'i', 'not', 'one', 'people', '\"', 'this']\n",
      "['<unk>', 'the', 'a', 'it', 'i', 'not', 'one', 'people', '\"', 'this']\n",
      "['<unk>', 'the', 'a', 'it', 'i', 'not', 'one', 'people', '\"', 'this']\n",
      "['<unk>', 'the', 'a', 'it', 'i', 'not', 'one', 'people', '\"', 'this']\n",
      "['<unk>', 'the', 'a', 'it', 'i', 'not', 'one', 'people', '\"', 'this']\n",
      "['<unk>', 'the', 'a', 'it', 'i', 'not', 'one', 'people', '\"', 'this']\n",
      "['<unk>', 'the', 'a', 'it', 'i', 'not', 'one', 'people', '\"', 'this']\n",
      "['<unk>', 'the', 'a', 'it', 'i', 'not', 'one', 'people', '\"', 'this']\n",
      "['<unk>', 'the', 'a', 'it', 'i', 'not', 'one', 'people', '\"', 'this']\n",
      "['<unk>', 'the', 'a', 'it', 'i', 'not', 'one', 'people', '\"', 'this']\n",
      "['<unk>', 'the', 'a', 'it', 'i', 'not', 'one', 'people', '\"', 'this']\n",
      "['<unk>', 'the', 'a', 'it', 'i', 'not', 'one', 'people', '\"', 'this']\n",
      "['<unk>', 'the', 'a', 'it', 'i', 'not', 'one', 'people', '\"', 'this']\n",
      "['<unk>', 'the', 'a', 'it', 'i', 'not', 'one', 'people', '\"', 'this']\n",
      "['<unk>', 'the', 'a', 'it', 'i', 'not', 'one', 'people', '\"', 'this']\n",
      "['<unk>', 'the', 'a', 'it', 'i', 'not', 'one', 'people', '\"', 'this']\n",
      "['<unk>', 'the', 'a', 'it', 'i', 'not', 'one', 'people', '\"', 'this']\n",
      "['<unk>', 'the', 'a', 'it', 'i', 'not', 'one', 'people', '\"', 'this']\n",
      "['<unk>', 'the', 'a', 'it', 'i', 'not', 'one', 'people', '\"', 'this']\n",
      "['<unk>', 'the', 'a', 'it', 'i', 'not', 'one', 'people', '\"', 'this']\n",
      "['<unk>', 'the', 'a', 'it', 'i', 'not', 'one', 'people', '\"', 'this']\n",
      "['<unk>', 'the', 'a', 'it', 'i', 'not', 'one', 'people', '\"', 'this']\n",
      "['<unk>', 'the', 'a', 'it', 'i', 'not', 'one', 'people', '\"', 'this']\n",
      "['<unk>', 'the', 'a', 'it', 'i', 'not', 'one', 'people', '\"', 'this']\n",
      "['<unk>', 'the', 'a', 'it', 'i', 'not', 'one', 'people', '\"', 'this']\n",
      "['<unk>', 'the', 'a', 'it', 'i', 'not', 'one', 'people', '\"', 'this']\n",
      "['<unk>', 'the', 'a', 'it', 'i', 'not', 'one', 'people', '\"', 'this']\n",
      "['<unk>', 'the', 'a', 'it', 'i', 'not', 'one', 'people', '\"', 'this']\n",
      "['<unk>', 'the', 'a', 'it', 'i', 'not', 'one', 'people', '\"', 'this']\n",
      "['<unk>', 'the', 'a', 'it', 'i', 'not', 'one', 'people', '\"', 'this']\n",
      "['<unk>', 'the', 'a', 'it', 'i', 'not', 'one', 'people', '\"', 'this']\n",
      "['<unk>', 'the', 'a', 'it', 'i', 'not', 'one', 'people', '\"', 'this']\n",
      "['<unk>', 'the', 'a', 'it', 'i', 'not', 'one', 'people', '\"', 'this']\n",
      "['<unk>', 'the', 'a', 'it', 'i', 'not', 'one', 'people', '\"', 'this']\n",
      "['<unk>', 'the', 'a', 'it', 'i', 'not', 'one', 'people', '\"', 'this']\n",
      "['<unk>', 'the', 'a', 'it', 'i', 'not', 'one', 'people', '\"', 'this']\n",
      "['<unk>', 'the', 'a', 'it', 'i', 'not', 'one', 'people', '\"', 'this']\n",
      "['<unk>', 'the', 'a', 'it', 'i', 'not', 'one', 'people', '\"', 'this']\n",
      "['<unk>', 'the', 'a', 'it', 'i', 'not', 'one', 'people', '\"', 'this']\n"
     ]
    }
   ],
   "source": [
    "import random\n",
    "\n",
    "def get_word(i):\n",
    "    return TEXT.vocab.itos[i]\n",
    "\n",
    "PUNCTUATION = (',', '.', '!', '?')\n",
    "TOP_K = 10\n",
    "\n",
    "text = seed_text\n",
    "for _ in range(200):\n",
    "    top_results = list(results[-1].topk(TOP_K)[1])\n",
    "    # random.shuffle(top_results)\n",
    "    print([get_word(r) for r in top_results])\n",
    "    next_int = top_results[1] if top_results[0] == 0 else top_results[0]    \n",
    "    next_word = get_word(next_int)\n",
    "    input_tensor = torch.tensor([[next_int]]).cuda()\n",
    "    results, *_ = model(input_tensor)\n",
    "    if next_word in PUNCTUATION:\n",
    "        text += next_word\n",
    "    elif next_word in ('<', 'eos', '>'):\n",
    "        pass\n",
    "    elif text[-1] in PUNCTUATION:\n",
    "        text += ' ' + next_word.title()\n",
    "    else:\n",
    "        text += ' ' + next_word    "
   ]
  },
  {
   "cell_type": "code",
   "execution_count": 292,
   "metadata": {},
   "outputs": [
    {
     "name": "stdout",
     "output_type": "stream",
     "text": [
      "what I really think is that we should look further into this. who can really say what he was the the the the the the the the the the the the the the the the the the the the the the the the the the the the the the the the the the the the the the the the the the the the the the the the the the the the the the the the the the the the the the the the the the the the the the the the the the the the the the the the the the the the the the the the the the the the the the the the the the the the the the the the the the the the the the the the the the the the the the the the the the the the the the the the the the the the the the the the the the the the the the the the the the the the the the the the the the the the the the the the the the the the the the the the the the the the the the the the the the the the the the the the the the the the the the the the the the the the the the the the\n"
     ]
    }
   ],
   "source": [
    "print(text)"
   ]
  },
  {
   "cell_type": "code",
   "execution_count": null,
   "metadata": {},
   "outputs": [],
   "source": []
  }
 ],
 "metadata": {
  "kernelspec": {
   "display_name": "Python 3",
   "language": "python",
   "name": "python3"
  },
  "language_info": {
   "codemirror_mode": {
    "name": "ipython",
    "version": 3
   },
   "file_extension": ".py",
   "mimetype": "text/x-python",
   "name": "python",
   "nbconvert_exporter": "python",
   "pygments_lexer": "ipython3",
   "version": "3.6.7"
  }
 },
 "nbformat": 4,
 "nbformat_minor": 2
}
