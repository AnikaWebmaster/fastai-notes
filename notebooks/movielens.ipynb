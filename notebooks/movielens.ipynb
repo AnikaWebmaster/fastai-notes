{
 "cells": [
  {
   "cell_type": "markdown",
   "metadata": {},
   "source": [
    "## Basic Collaborative Filtering of Movielens 100k Dataset\n",
    "\n",
    "The dataset is 100k user ratings of movies. Given a user / movie pairt, predict a rating."
   ]
  },
  {
   "cell_type": "code",
   "execution_count": 1,
   "metadata": {},
   "outputs": [],
   "source": [
    "%reload_ext autoreload\n",
    "%autoreload 2\n",
    "%matplotlib inline\n",
    "\n",
    "import os\n",
    "\n",
    "import numpy as np\n",
    "import matplotlib.pyplot as plt\n",
    "\n",
    "user_list = !whoami\n",
    "username = user_list[0]\n",
    "PATH = '/root/data/movielens/'"
   ]
  },
  {
   "cell_type": "code",
   "execution_count": 2,
   "metadata": {},
   "outputs": [],
   "source": [
    "\"\"\"\n",
    "Create a user and movie ID mapping\n",
    "\"\"\"\n",
    "import csv\n",
    "\n",
    "# Tab delimited CSV with columns\n",
    "# user id, item id, rating, timestamp.\n",
    "DATA_FILE = f'{PATH}u.data'\n",
    "DATA_LENGTH = 100 * 1000\n",
    "\n",
    "\n",
    "class Mapping:\n",
    "    def __init__(self):\n",
    "        self.users = set()\n",
    "        self.movies = set()\n",
    "        with open(DATA_FILE, 'r') as csvfile:\n",
    "            reader = csv.reader(csvfile, delimiter='\\t')\n",
    "            for user, movie, _, _ in reader:\n",
    "                self.users.add(int(user))\n",
    "                self.movies.add(int(movie))\n",
    "\n",
    "        self.user_ids = {u: i for i, u in enumerate(self.users)}\n",
    "        self.movie_ids = {m: i for i, m in enumerate(self.movies)}\n",
    "                \n",
    "    @property\n",
    "    def num_movies(self):\n",
    "        return len(self.movies)\n",
    "\n",
    "    @property\n",
    "    def num_users(self):\n",
    "        return len(self.users)\n",
    "\n",
    "    def get_movie_id(self, movie):\n",
    "        return self.movie_ids[movie]\n",
    "\n",
    "    def get_user_id(self, user):\n",
    "        return self.user_ids[user]\n"
   ]
  },
  {
   "cell_type": "code",
   "execution_count": 3,
   "metadata": {},
   "outputs": [],
   "source": [
    "\"\"\"\n",
    "Define data loader\n",
    "\"\"\"\n",
    "import torch\n",
    "from torch.utils.data import Dataset\n",
    "\n",
    "TRAIN = 'TRAIN'\n",
    "VALID = 'VALID'\n",
    "TEST = 'TEST'\n",
    "ALL = 'ALL'\n",
    "SEGMENTS = {\n",
    "    ALL: (0, DATA_LENGTH),\n",
    "    TRAIN: (0, int(0.6 * DATA_LENGTH)),\n",
    "    VALID: (int(0.6 * DATA_LENGTH), int(0.8 * DATA_LENGTH)),\n",
    "    TEST: (int(0.8 * DATA_LENGTH), DATA_LENGTH)\n",
    "}\n",
    "\n",
    "class MovieRatingDataset(Dataset):\n",
    "    def __init__(self, segment, mapping):\n",
    "        self.mapping = mapping\n",
    "        assert segment in SEGMENTS\n",
    "        start, end = SEGMENTS[segment]\n",
    "        ratings = []\n",
    "        with open(DATA_FILE, 'r') as csvfile:\n",
    "            reader = csv.reader(csvfile, delimiter='\\t')\n",
    "            for idx, row in enumerate(reader):\n",
    "                if idx < start or idx >= end: continue\n",
    "                # user id, item id, rating, timestamp.\n",
    "                user, movie, rating, _ = row\n",
    "                ratings.append([\n",
    "                    self.mapping.get_user_id(int(user)),\n",
    "                    self.mapping.get_movie_id(int(movie)),\n",
    "                    int(rating)\n",
    "                ])\n",
    "                    \n",
    "        self.ratings = torch.tensor(ratings)\n",
    "\n",
    "    def __len__(self):\n",
    "        return len(self.ratings)\n",
    "    \n",
    "    def __getitem__(self, idx):\n",
    "        return self.ratings[idx][:2], self.ratings[idx][2],"
   ]
  },
  {
   "cell_type": "code",
   "execution_count": 4,
   "metadata": {},
   "outputs": [],
   "source": [
    "\"\"\"\n",
    "Define linear model which learns embeddings\n",
    "\"\"\"\n",
    "import torch\n",
    "import torch.nn as nn\n",
    "\n",
    "MAX_RATING = 5.0\n",
    "MIN_RATING = 1.0\n",
    "\n",
    "def get_embed(num_items, num_features):\n",
    "    embed = nn.Embedding(num_items, num_features)\n",
    "    embed.weight.data.uniform_(-0.02, 0.02)\n",
    "    return embed\n",
    "    \n",
    "class CollaborativeFilter(nn.Module):\n",
    "    def __init__(self, num_users, num_movies, embed_size):\n",
    "        super().__init__()\n",
    "        self.user_embed = get_embed(num_users, embed_size)\n",
    "        self.user_bias = get_embed(num_users, 1)\n",
    "        self.movie_embed = get_embed(num_movies, embed_size)\n",
    "        self.movie_bias = get_embed(num_movies, 1)\n",
    "    \n",
    "    def forward(self, inputs):\n",
    "        users, movies = inputs[:, 0], inputs[:, 1]\n",
    "        user_embeds = self.user_embed(users)\n",
    "        movie_embeds = self.movie_embed(movies)\n",
    "        linear = (\n",
    "            (user_embeds * movie_embeds).sum(1) +\n",
    "            self.user_bias(users).squeeze() +\n",
    "            self.movie_bias(movies).squeeze() +\n",
    "            MIN_RATING\n",
    "        )\n",
    "        return torch.sigmoid(linear) * (MAX_RATING - MIN_RATING) + MIN_RATING"
   ]
  },
  {
   "cell_type": "code",
   "execution_count": 31,
   "metadata": {},
   "outputs": [],
   "source": [
    "\"\"\"\n",
    "Define nonlinear model which learns embeddings then feeds\n",
    "them into a neural network for regression.\n",
    "\"\"\"\n",
    "import torch\n",
    "import torch.nn as nn\n",
    "\n",
    "MAX_RATING = 5.0\n",
    "MIN_RATING = 1.0\n",
    "\n",
    "\n",
    "class CollabNet(nn.Module):\n",
    "    def __init__(self, num_users, num_movies, embed_size):\n",
    "        super().__init__()\n",
    "        self.user_embed = get_embed(num_users, embed_size)\n",
    "        self.movie_embed = get_embed(num_movies, embed_size)\n",
    "        self.dense_1 = nn.Linear(2 * embed_size, 10)\n",
    "        self.dense_2 = nn.Linear(10, 1)\n",
    "        self.dropout_1 = nn.Dropout(p=0.05)\n",
    "        self.dropout_2 = nn.Dropout(p=0.3)\n",
    "        self.relu = nn.ReLU()\n",
    "        \n",
    "    def forward(self, inputs):\n",
    "        users, movies = inputs[:, 0], inputs[:, 1]\n",
    "        embeds = torch.cat([self.user_embed(users), self.movie_embed(movies)], dim=1)\n",
    "        acts = self.dropout_1(embeds)\n",
    "        acts = self.dropout_2(self.relu(self.dense_1(acts)))\n",
    "        acts = torch.sigmoid(self.dense_2(acts)) * (MAX_RATING - MIN_RATING) + MIN_RATING\n",
    "        return acts.squeeze() "
   ]
  },
  {
   "cell_type": "code",
   "execution_count": 32,
   "metadata": {},
   "outputs": [],
   "source": [
    "\"\"\"\n",
    "Load datasets\n",
    "\"\"\"\n",
    "mapping = Mapping()\n",
    "\n",
    "train_ds = MovieRatingDataset(TRAIN, mapping)\n",
    "valid_ds = MovieRatingDataset(VALID, mapping)\n",
    "test_ds = MovieRatingDataset(TEST, mapping)\n"
   ]
  },
  {
   "cell_type": "code",
   "execution_count": 33,
   "metadata": {},
   "outputs": [
    {
     "data": {
      "application/vnd.jupyter.widget-view+json": {
       "model_id": "",
       "version_major": 2,
       "version_minor": 0
      },
      "text/plain": [
       "HBox(children=(IntProgress(value=0, description='epoch 1 / 5', max=938, style=ProgressStyle(description_width=…"
      ]
     },
     "metadata": {},
     "output_type": "display_data"
    },
    {
     "name": "stdout",
     "output_type": "stream",
     "text": [
      "epoch 1 / 5, loss: 1.49, valid loss: 1.138\n"
     ]
    },
    {
     "data": {
      "application/vnd.jupyter.widget-view+json": {
       "model_id": "",
       "version_major": 2,
       "version_minor": 0
      },
      "text/plain": [
       "HBox(children=(IntProgress(value=0, description='epoch 2 / 5', max=938, style=ProgressStyle(description_width=…"
      ]
     },
     "metadata": {},
     "output_type": "display_data"
    },
    {
     "name": "stdout",
     "output_type": "stream",
     "text": [
      "epoch 2 / 5, loss: 0.864, valid loss: 0.979\n"
     ]
    },
    {
     "data": {
      "application/vnd.jupyter.widget-view+json": {
       "model_id": "",
       "version_major": 2,
       "version_minor": 0
      },
      "text/plain": [
       "HBox(children=(IntProgress(value=0, description='epoch 3 / 5', max=938, style=ProgressStyle(description_width=…"
      ]
     },
     "metadata": {},
     "output_type": "display_data"
    },
    {
     "name": "stdout",
     "output_type": "stream",
     "text": [
      "epoch 3 / 5, loss: 0.883, valid loss: 0.966\n"
     ]
    },
    {
     "data": {
      "application/vnd.jupyter.widget-view+json": {
       "model_id": "",
       "version_major": 2,
       "version_minor": 0
      },
      "text/plain": [
       "HBox(children=(IntProgress(value=0, description='epoch 4 / 5', max=938, style=ProgressStyle(description_width=…"
      ]
     },
     "metadata": {},
     "output_type": "display_data"
    },
    {
     "name": "stdout",
     "output_type": "stream",
     "text": [
      "epoch 4 / 5, loss: 0.836, valid loss: 0.952\n"
     ]
    },
    {
     "data": {
      "application/vnd.jupyter.widget-view+json": {
       "model_id": "",
       "version_major": 2,
       "version_minor": 0
      },
      "text/plain": [
       "HBox(children=(IntProgress(value=0, description='epoch 5 / 5', max=938, style=ProgressStyle(description_width=…"
      ]
     },
     "metadata": {},
     "output_type": "display_data"
    },
    {
     "name": "stdout",
     "output_type": "stream",
     "text": [
      "epoch 5 / 5, loss: 0.827, valid loss: 0.953\n"
     ]
    }
   ],
   "source": [
    "\"\"\"\n",
    "Create data loaders, run training loop\n",
    "\"\"\"\n",
    "from tqdm import tqdm_notebook as tqdm\n",
    "import torch.optim as optim\n",
    "from torch.utils.data import DataLoader\n",
    "\n",
    "NUM_EPOCHS = 5\n",
    "BATCH_SIZE = 64\n",
    "EMBED_SIZE = 12\n",
    "LEARNING_RATE = 0.01\n",
    "MOMENTUM = 0.9\n",
    "WEIGHT_DECAY = 1e-6\n",
    "\n",
    "train_dl = DataLoader(train_ds, batch_size=BATCH_SIZE, shuffle=True, num_workers=3)\n",
    "valid_dl = DataLoader(valid_ds, batch_size=1024, num_workers=3)\n",
    "\n",
    "# Model = CollaborativeFilter\n",
    "Model = CollabNet\n",
    "\n",
    "net = Model(\n",
    "    num_users=mapping.num_users,\n",
    "    num_movies=mapping.num_movies,\n",
    "    embed_size=EMBED_SIZE,\n",
    "\n",
    ").cuda()\n",
    "criterion = nn.MSELoss()\n",
    "optimizer = optim.SGD(net.parameters(), lr=LEARNING_RATE, momentum=MOMENTUM, weight_decay=WEIGHT_DECAY)\n",
    "\n",
    "train_loss_history = []\n",
    "valid_loss_history = []\n",
    "epoch_logs = []\n",
    "itr = 0\n",
    "\n",
    "for epoch in range(NUM_EPOCHS):    \n",
    "    progress = tqdm(\n",
    "        iterable=iter(train_dl),\n",
    "        leave=False,\n",
    "        desc=f'epoch {epoch + 1} / {NUM_EPOCHS}',\n",
    "        total=len(train_dl),\n",
    "        miniters=0\n",
    "    )\n",
    "    for inputs, ratings in progress:\n",
    "        optimizer.zero_grad()\n",
    "        outputs = net(inputs.cuda())\n",
    "        outputs, ratings = outputs.cpu(), ratings.float()\n",
    "        loss = criterion(outputs, ratings)\n",
    "        loss.backward()\n",
    "        loss_amount = loss.data.item()\n",
    "        progress.set_postfix(loss=loss_amount, refresh=False)\n",
    "        train_loss_history.append((itr, loss_amount))\n",
    "        optimizer.step()            \n",
    "        itr += 1\n",
    "    \n",
    "    # Get validation loss at the end of the epoch.\n",
    "    batch_losses = []\n",
    "    for inputs, ratings in valid_dl:\n",
    "        outputs = net(inputs.cuda())\n",
    "        loss = criterion(outputs.cpu(), ratings.float())\n",
    "        batch_losses.append(loss.data.item())\n",
    "    \n",
    "    valid_loss_amount = sum(batch_losses) / float(len(batch_losses))\n",
    "    valid_loss_history.append((itr, valid_loss_amount))\n",
    "\n",
    "    print(\n",
    "        f'epoch {epoch + 1} / {NUM_EPOCHS}, '\n",
    "        f'loss: {loss_amount:0.3}, '\n",
    "        f'valid loss: {valid_loss_amount:0.3f}'\n",
    "    )\n",
    "    progress.close()\n"
   ]
  },
  {
   "cell_type": "code",
   "execution_count": 34,
   "metadata": {},
   "outputs": [
    {
     "data": {
      "text/plain": [
       "Text(0, 0.5, 'Loss')"
      ]
     },
     "execution_count": 34,
     "metadata": {},
     "output_type": "execute_result"
    },
    {
     "data": {
      "image/png": "[encoded data removed]",
      "text/plain": [
       "<Figure size 432x288 with 1 Axes>"
      ]
     },
     "metadata": {
      "needs_background": "light"
     },
     "output_type": "display_data"
    }
   ],
   "source": [
    "\"\"\"\n",
    "Plot training loss, validation loss\n",
    "\"\"\"\n",
    "fig, ax = plt.subplots()\n",
    "train_iters, train_loss = zip(*train_loss_history)\n",
    "valid_iters, valid_loss = zip(*valid_loss_history)\n",
    "\n",
    "ax.plot(train_iters, train_loss, label='train', zorder=0)\n",
    "ax.scatter(valid_iters, valid_loss, label='valid', marker='o', c='red')\n",
    "ax.set_title('Training performance')\n",
    "ax.set_xlabel('Iterations')\n",
    "ax.set_ylabel('Loss')"
   ]
  },
  {
   "cell_type": "code",
   "execution_count": 37,
   "metadata": {},
   "outputs": [
    {
     "name": "stdout",
     "output_type": "stream",
     "text": [
      "Random test loss is 2.86\n",
      "Random test RMSE is 1.69\n",
      "\n",
      "Average test loss is 0.98\n",
      "Average test RMSE is 0.99\n",
      "\n"
     ]
    },
    {
     "data": {
      "image/png": "[encoded data removed]",
      "text/plain": [
       "<Figure size 1152x144 with 2 Axes>"
      ]
     },
     "metadata": {
      "needs_background": "light"
     },
     "output_type": "display_data"
    }
   ],
   "source": [
    "\"\"\"\n",
    "Classify test dataset, check accuracy\n",
    "\"\"\"\n",
    "import math\n",
    "\n",
    "test_dl = DataLoader(test_ds, batch_size=len(test_ds), num_workers=3)\n",
    "inputs, ratings = next(iter(test_dl))\n",
    "outputs = net(inputs.cuda())\n",
    "outputs, ratings = outputs.cpu(), ratings.float()\n",
    "random = torch.rand_like(outputs) * (MAX_RATING - MIN_RATING) + MIN_RATING\n",
    "test_loss = criterion(outputs, ratings).data.item()\n",
    "test_loss_random = criterion(random, ratings).data.item()\n",
    "print(f'Random test loss is {test_loss_random:.2f}')\n",
    "print(f'Random test RMSE is {math.sqrt(test_loss_random):.2f}\\n')\n",
    "print(f'Average test loss is {test_loss:.2f}')\n",
    "print(f'Average test RMSE is {math.sqrt(test_loss):.2f}\\n')\n",
    "\n",
    "pred_errors = torch.abs(outputs - ratings).detach().numpy()\n",
    "rand_errors = torch.abs(random - ratings).detach().numpy()\n",
    "\n",
    "max_y = 3800\n",
    "fig, (ax1, ax2) = plt.subplots(1, 2, figsize=(16, 2,))\n",
    "bins = [0.2 * x for x in range(20)]\n",
    "ax1.hist(x=pred_errors, bins=bins)\n",
    "ax1.set_title('Prediction errors')\n",
    "ax1.set_ylim([0, max_y])\n",
    "ax2.hist(x=rand_errors, bins=bins)\n",
    "ax2.set_title('Random errors')\n",
    "ax2.set_ylim([0, max_y])\n",
    "fig.subplots_adjust(hspace=0.3)"
   ]
  },
  {
   "cell_type": "code",
   "execution_count": null,
   "metadata": {},
   "outputs": [],
   "source": []
  }
 ],
 "metadata": {
  "kernelspec": {
   "display_name": "Python 3",
   "language": "python",
   "name": "python3"
  },
  "language_info": {
   "codemirror_mode": {
    "name": "ipython",
    "version": 3
   },
   "file_extension": ".py",
   "mimetype": "text/x-python",
   "name": "python",
   "nbconvert_exporter": "python",
   "pygments_lexer": "ipython3",
   "version": "3.6.7"
  }
 },
 "nbformat": 4,
 "nbformat_minor": 2
}
