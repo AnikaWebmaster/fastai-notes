{
 "cells": [
  {
   "cell_type": "markdown",
   "metadata": {},
   "source": [
    "# Character-Based Recurrent Neural Network\n",
    "\n",
    "This notebook will build a character-based language model, using a recurrent neural network in PyTorch. This notebook should be accessible if you have tried a little [PyTorch](https://www.youtube.com/watch?v=v5cngxo4mIg&list=PLZbbT5o_s2xrfNyHZsM6ufI0iZENK9xgG), and if you are familliar with classical feed forward neural networks.\n",
    "\n",
    "This notebook will build up to the RNN model in a series of steps:\n",
    "\n",
    "- Create a Dataset\n",
    "- Define a generic training loop\n",
    "- 1-Character Feed-forward Network\n",
    "- 2-Character Feed-forward Network\n",
    "- N-Character Feed-forward Network\n",
    "- Recurrent Neural Network\n",
    "\n",
    "This approach is heavily based on [lesson 6](https://course.fast.ai/lessons/lesson6.html) of FastAI Deep Learning for Coders. It's only indirectly related to Kapathy's [char-rnn](https://github.com/karpathy/char-rnn) implementation. "
   ]
  },
  {
   "cell_type": "code",
   "execution_count": 1,
   "metadata": {},
   "outputs": [],
   "source": [
    "# Imports and notebook setup\n",
    "%reload_ext autoreload\n",
    "%autoreload 2\n",
    "%matplotlib inline\n",
    "\n",
    "import os\n",
    "\n",
    "import torch\n",
    "import numpy as np\n",
    "import matplotlib.pyplot as plt\n",
    "from IPython.core.debugger import set_trace\n",
    "\n",
    "user_list = !whoami\n",
    "username = user_list[0]\n",
    "PATH = f'/home/{username}/data/char-rnn/'\n",
    "\n",
    "\n",
    "os.makedirs(f'{PATH}raw', exist_ok=True)"
   ]
  },
  {
   "cell_type": "code",
   "execution_count": 2,
   "metadata": {},
   "outputs": [],
   "source": [
    "# This notebook assumes that you have Nvidia CUDA available. If it is not, change all `.cuda()` calls to `.cpu()`\n",
    "assert torch.cuda.is_available(), 'CUDA is not available.'\n",
    "assert torch.backends.cudnn.enabled, 'CuDNN is not available.'"
   ]
  },
  {
   "cell_type": "markdown",
   "metadata": {},
   "source": [
    "# Create a Dataset\n",
    "\n",
    "We need to first get the training data. Below we create a subclass of `torch.Dataset`, which defines how to read the training data. I have not defined a test or validation dataset. In this particular case, `TextDataset` will download the full works of Nietzsche from S3 and load the text into memory for training.\n",
    "\n",
    "Skip this if you don't care about PyTorch stuff, or where the data comes from."
   ]
  },
  {
   "cell_type": "code",
   "execution_count": 3,
   "metadata": {},
   "outputs": [],
   "source": [
    "import requests\n",
    "import torch\n",
    "from torch.utils.data import Dataset, DataLoader\n",
    "\n",
    "SOURCE_URL = 'https://s3.amazonaws.com/text-datasets/nietzsche.txt'\n",
    "TARGET_FILE = f'{PATH}nietzsche.txt'\n",
    "\n",
    "class TextDataset(Dataset):\n",
    "    def __init__(self, num_chars):\n",
    "        \"\"\"\n",
    "        Argument 'num_chars' determines how many characters are used to predict the next character.\n",
    "        \"\"\"\n",
    "        self.num_chars = num_chars\n",
    "        self.fetch_file()\n",
    "        self.load_text()\n",
    "    \n",
    "    def fetch_file(self):\n",
    "        \"\"\"\n",
    "        Fetch dataset file from SOURCE_URL if it doesn't exist locally.\n",
    "        \"\"\"\n",
    "        if not os.path.exists(TARGET_FILE):\n",
    "            print(f'Downloading from S3...', end=' ')\n",
    "            response = requests.get(SOURCE_URL, stream=True)\n",
    "            response.raise_for_status()\n",
    "            with open(TARGET_FILE, 'wb') as f:\n",
    "                for block in response.iter_content(1024):\n",
    "                    f.write(block)\n",
    "\n",
    "            print('done')\n",
    "    \n",
    "    def load_text(self):\n",
    "        \"\"\"\n",
    "        Load the text from disk and convert characters to integers with a mapping.\n",
    "        \"\"\"\n",
    "        with open(TARGET_FILE) as f:\n",
    "            self.text = f.read()\n",
    "        \n",
    "        self.chars = sorted(list(set(self.text)))\n",
    "        self.char_to_idx = {c: i for i, c in enumerate(self.chars)}\n",
    "        self.idx_to_char = {i: c for i, c in enumerate(self.chars)}\n",
    "\n",
    "    def __len__(self):\n",
    "        \"\"\"\n",
    "        How many samples there are in the dataset.\n",
    "        \"\"\"\n",
    "        return len(self.text) - self.num_chars - 1\n",
    "    \n",
    "    def __getitem__(self, idx):\n",
    "        \"\"\"\n",
    "        Get item by integer index,\n",
    "        returns (x_1, x_2, ..., x_n), y\n",
    "        \"\"\"\n",
    "        inputs = torch.tensor([self.char_to_idx[c] for c in self.text[idx:idx + self.num_chars]])\n",
    "        label = self.char_to_idx[self.text[idx + self.num_chars]]\n",
    "        return inputs, label"
   ]
  },
  {
   "cell_type": "code",
   "execution_count": 4,
   "metadata": {},
   "outputs": [],
   "source": [
    "# Load the training data into memory.\n",
    "train_ds = TextDataset(num_chars=1)"
   ]
  },
  {
   "cell_type": "code",
   "execution_count": 5,
   "metadata": {},
   "outputs": [
    {
     "name": "stdout",
     "output_type": "stream",
     "text": [
      "Source text: 'PREFACE\\n\\n\\nSUPPOSING '\n",
      "Int form: [39, 41, 28, 29, 24, 26, 28, 0, 0, 0, 42, 44, 39, 39, 38, 42, 32, 37, 30, 1]\n",
      "Sample 0 - input tensor([39]) label 41\n",
      "Sample 1 - input tensor([41]) label 28\n",
      "Sample 2 - input tensor([28]) label 29\n",
      "Sample 3 - input tensor([29]) label 24\n",
      "Sample 4 - input tensor([24]) label 26\n"
     ]
    }
   ],
   "source": [
    "# We can test out how the Dataset__getitem__ method works\n",
    "print('Source text:', repr(train_ds.text[:20]))\n",
    "print('Int form:', [train_ds.char_to_idx[c] for c in train_ds.text[:20]])\n",
    "for i in range(5):\n",
    "    xs, y = train_ds[i]\n",
    "    print('Sample', i, '- input', xs, 'label', y)"
   ]
  },
  {
   "cell_type": "markdown",
   "metadata": {},
   "source": [
    "# Define a generic training loop\n",
    "\n",
    "Here we'll define a generic training loop which can be applied to all models. Below we define:\n",
    "\n",
    "- `ProgressBar` - a helper class for printing stuff\n",
    "- `train_net` - a training loop function that accepts a model and some hyperparameters as input\n",
    "\n",
    "Skip this if you don't care how the models get trained."
   ]
  },
  {
   "cell_type": "code",
   "execution_count": 6,
   "metadata": {},
   "outputs": [],
   "source": [
    "from tqdm import tqdm_notebook as tqdm\n",
    "\n",
    "class ProgressBar():\n",
    "    \"\"\"\n",
    "    Pretty progress bar for training - not super relevant.\n",
    "    \"\"\"\n",
    "    def __init__(self, epoch, total_epochs, data_loader):\n",
    "        self.epoch = epoch\n",
    "        self.total_epochs = total_epochs\n",
    "        self.loss = 0\n",
    "        self.progress = tqdm(\n",
    "            iterable=iter(data_loader),\n",
    "            leave=False,\n",
    "            desc=f'epoch {epoch + 1} / {total_epochs}',\n",
    "            total=len(data_loader),\n",
    "            miniters=0\n",
    "        )\n",
    "\n",
    "    def update(self, loss):\n",
    "        self.loss = loss\n",
    "        self.progress.set_postfix(loss=loss, refresh=False)\n",
    "        \n",
    "    def __iter__(self):\n",
    "        return self.progress.__iter__()\n",
    "        \n",
    "    def __enter__(self):\n",
    "        return self\n",
    "\n",
    "    def __exit__(self, *args):\n",
    "        self.progress.close()\n",
    "        print(f'epoch {self.epoch + 1} / {self.total_epochs}, loss: {self.loss:0.4f}')\n"
   ]
  },
  {
   "cell_type": "code",
   "execution_count": 7,
   "metadata": {},
   "outputs": [],
   "source": [
    "import torch.optim as optim\n",
    "\n",
    "def train_net(net, data_set, num_epochs, **kwargs):\n",
    "    \"\"\"\n",
    "    Train a model for some number of epochs.\n",
    "        net         - a trainable model (torch.nn.Module)\n",
    "        data_loader - training data (torch.utils.data.DataLoader) \n",
    "        num_epochs  - number of epochs to train for\n",
    "    \"\"\"\n",
    "    # Get hyper-parameters, set defaults\n",
    "    learning_rate = kwargs.get('learning_rate', 0.001)\n",
    "    batch_size = kwargs.get('batch_size', 128)\n",
    "    adam_betas = kwargs.get('adam_betas', (0.9, 0.999))\n",
    "    \n",
    "    # Use cross-entropy loss since we're doing multi-class classification\n",
    "    criterion = nn.CrossEntropyLoss()\n",
    "    \n",
    "    # Use Adam optimizer, because it's faster than classic gradient descent.\n",
    "    optimizer = optim.Adam(net.parameters(), lr=learning_rate, betas=adam_betas)\n",
    "    \n",
    "    # Keep track of loss history\n",
    "    loss_history = []\n",
    "    loss_avg = 0\n",
    "    loss_beta = 0.8\n",
    "    \n",
    "    # Create a DataLoader to iterate over the data set\n",
    "    print('Creating data loader...', end=' ')\n",
    "    data_loader = DataLoader(data_set, batch_size=batch_size, shuffle=True, num_workers=3)\n",
    "    print('done')\n",
    "\n",
    "    # Run training loop\n",
    "    for epoch in range(num_epochs):\n",
    "        with ProgressBar(epoch, num_epochs, data_loader) as progress:\n",
    "            for inputs, labels in progress:\n",
    "                # Tell PyTorch to reset gradient tracking.\n",
    "                optimizer.zero_grad()\n",
    "            \n",
    "                # Get prediction from model\n",
    "                outputs = net(inputs.cuda())\n",
    "                                \n",
    "                # Run loss function on over the model's prediction\n",
    "                loss = criterion(outputs.cpu(), labels)\n",
    "                \n",
    "                # Calculate model weight gradients from the loss\n",
    "                loss.backward()\n",
    "                \n",
    "                # Update model weights via gradient descent.\n",
    "                optimizer.step()            \n",
    "                \n",
    "                # Log training information\n",
    "                loss_amount = loss.data.item()\n",
    "                loss_avg = loss_beta * loss_avg + (1 - loss_beta) * loss_amount\n",
    "                progress.update(loss_avg)\n",
    "                loss_history.append(loss_amount)\n",
    "    \n",
    "    # Plot training performance\n",
    "    fig, ax = plt.subplots()\n",
    "    ax.plot(loss_history)\n",
    "    ax.set_title('Training performance')\n",
    "    ax.set_xlabel('Iterations')\n",
    "    ax.set_ylabel('Loss')"
   ]
  },
  {
   "cell_type": "markdown",
   "metadata": {},
   "source": [
    "## Define a 1-Character Feed-forward Network\n",
    "\n",
    "For starters we'll use a feed-forward neural network that:\n",
    "\n",
    "- takes one character as an input\n",
    "- transforms the character integer into an [embedding](https://github.com/MattSegal/fastai-notes/blob/master/theory/embeddings.md)\n",
    "- runs the embedding activations through a hidden layer\n",
    "- returns a softmax classification over all possible character classes\n",
    "\n",
    "\n",
    "```\n",
    "\n",
    "INPUT            EMBED          DENSE              SOFTMAX\n",
    "\n",
    "char idx -->     embedding -->  linear + relu -->  linear + softmax\n",
    "                                                          |\n",
    "                                                          v\n",
    "                                                    output char idx predictions\n",
    "```"
   ]
  },
  {
   "cell_type": "code",
   "execution_count": 8,
   "metadata": {},
   "outputs": [],
   "source": [
    "import torch.nn as nn\n",
    "\n",
    "VOCAB_SIZE = len(train_ds.chars)\n",
    "EMBED_PARAMS = 42\n",
    "HIDDEN_PARAMS = 256\n",
    "LAYERS = (\n",
    "    (VOCAB_SIZE, EMBED_PARAMS),  # Embedding\n",
    "    (EMBED_PARAMS, HIDDEN_PARAMS),  # Dense\n",
    "    (HIDDEN_PARAMS, VOCAB_SIZE),  # Output\n",
    ")\n",
    "\n",
    "class OneCharNet(nn.Module):\n",
    "    def __init__(self):\n",
    "        super().__init__()        \n",
    "        # Parameterized layers\n",
    "        self.embedding = nn.Embedding(*LAYERS[0])\n",
    "        self.dense = nn.Linear(*LAYERS[1])\n",
    "        self.out = nn.Linear(*LAYERS[2])\n",
    "        # Functions\n",
    "        self.relu = nn.ReLU()\n",
    "        self.softmax = nn.LogSoftmax(dim=1)\n",
    "                             \n",
    "    def forward(self, input_t):\n",
    "        embed_acts = self.embedding(input_t).squeeze(dim=1)\n",
    "        dense_acts = self.relu(self.dense(embed_acts))\n",
    "        prediction = self.softmax(self.out(dense_acts))\n",
    "        return prediction"
   ]
  },
  {
   "cell_type": "markdown",
   "metadata": {},
   "source": [
    "## Train the 1-Character Feed-forward Network"
   ]
  },
  {
   "cell_type": "code",
   "execution_count": 9,
   "metadata": {},
   "outputs": [
    {
     "name": "stdout",
     "output_type": "stream",
     "text": [
      "Creating data loader... done\n"
     ]
    },
    {
     "data": {
      "application/vnd.jupyter.widget-view+json": {
       "model_id": "",
       "version_major": 2,
       "version_minor": 0
      },
      "text/plain": [
       "HBox(children=(IntProgress(value=0, description='epoch 1 / 4', max=587, style=ProgressStyle(description_width=…"
      ]
     },
     "metadata": {},
     "output_type": "display_data"
    },
    {
     "name": "stdout",
     "output_type": "stream",
     "text": [
      "\r",
      "epoch 1 / 4, loss: 2.4819\n"
     ]
    },
    {
     "data": {
      "application/vnd.jupyter.widget-view+json": {
       "model_id": "",
       "version_major": 2,
       "version_minor": 0
      },
      "text/plain": [
       "HBox(children=(IntProgress(value=0, description='epoch 2 / 4', max=587, style=ProgressStyle(description_width=…"
      ]
     },
     "metadata": {},
     "output_type": "display_data"
    },
    {
     "name": "stdout",
     "output_type": "stream",
     "text": [
      "\r",
      "epoch 2 / 4, loss: 2.5182\n"
     ]
    },
    {
     "data": {
      "application/vnd.jupyter.widget-view+json": {
       "model_id": "",
       "version_major": 2,
       "version_minor": 0
      },
      "text/plain": [
       "HBox(children=(IntProgress(value=0, description='epoch 3 / 4', max=587, style=ProgressStyle(description_width=…"
      ]
     },
     "metadata": {},
     "output_type": "display_data"
    },
    {
     "name": "stdout",
     "output_type": "stream",
     "text": [
      "\r",
      "epoch 3 / 4, loss: 2.5049\n"
     ]
    },
    {
     "data": {
      "application/vnd.jupyter.widget-view+json": {
       "model_id": "",
       "version_major": 2,
       "version_minor": 0
      },
      "text/plain": [
       "HBox(children=(IntProgress(value=0, description='epoch 4 / 4', max=587, style=ProgressStyle(description_width=…"
      ]
     },
     "metadata": {},
     "output_type": "display_data"
    },
    {
     "name": "stdout",
     "output_type": "stream",
     "text": [
      "\r",
      "epoch 4 / 4, loss: 2.4684\n"
     ]
    },
    {
     "data": {
      "image/png": "[encoded data removed]",
      "text/plain": [
       "<Figure size 432x288 with 1 Axes>"
      ]
     },
     "metadata": {
      "needs_background": "light"
     },
     "output_type": "display_data"
    }
   ],
   "source": [
    "data_set = TextDataset(num_chars=1)\n",
    "net = OneCharNet().cuda()\n",
    "train_net(net, data_set, num_epochs=4, batch_size=1024)"
   ]
  },
  {
   "cell_type": "markdown",
   "metadata": {},
   "source": [
    "## Test the 1-Character Feed-forward Network\n",
    "\n",
    "By _test_ I really mean _poke it with a stick_. Let's see what kind of text the model will produce from a seed example. You can see that the results suck, but they're _something_."
   ]
  },
  {
   "cell_type": "code",
   "execution_count": 10,
   "metadata": {},
   "outputs": [],
   "source": [
    "import random\n",
    "\n",
    "def generate_text(net, data_set, num_chars, length=100, seed='There will be many issues with', choices=3):\n",
    "    \"\"\"\n",
    "    Use the provided `net` model to generate a sequence of characters, based on the seed.\n",
    "    \"\"\"\n",
    "    text = seed\n",
    "    for _ in range(length):\n",
    "        input_text = text[-num_chars:]\n",
    "        input_idxs = torch.tensor([data_set.char_to_idx[c] for c in input_text]).unsqueeze(dim=0).cuda()\n",
    "        predictions = net(input_idxs).detach().squeeze().cpu().numpy()\n",
    "        top_n_idxs = predictions.argsort()[-choices:]\n",
    "        chosen_idx = random.choice(top_n_idxs)\n",
    "        chosen_char = data_set.idx_to_char[chosen_idx.item()]\n",
    "        text += chosen_char\n",
    "    \n",
    "    return text"
   ]
  },
  {
   "cell_type": "code",
   "execution_count": 11,
   "metadata": {},
   "outputs": [
    {
     "name": "stdout",
     "output_type": "stream",
     "text": [
      "'There will be many issues withe the the the the the the the the the the the the the the the the the the the the the the the the th'\n"
     ]
    }
   ],
   "source": [
    "generated_text = generate_text(net, data_set, 1, choices=1)\n",
    "print(repr(generated_text))"
   ]
  },
  {
   "cell_type": "code",
   "execution_count": 12,
   "metadata": {},
   "outputs": [
    {
     "name": "stdout",
     "output_type": "stream",
     "text": [
      "'There will be many issues withalllind thallin alllind an thalllind t and t alit t alllin t thallithallin alllllind an thanderer an'\n"
     ]
    }
   ],
   "source": [
    "generated_text = generate_text(net, data_set, 1, choices=2)\n",
    "print(repr(generated_text))"
   ]
  },
  {
   "cell_type": "code",
   "execution_count": 13,
   "metadata": {},
   "outputs": [
    {
     "name": "stdout",
     "output_type": "stream",
     "text": [
      "'There will be many issues withatingeralllinghangesthitise ale t of onge o tinghis alle atisestist o o atit an allis anghise thin o'\n"
     ]
    }
   ],
   "source": [
    "generated_text = generate_text(net, data_set, 1, choices=3)\n",
    "print(repr(generated_text))"
   ]
  },
  {
   "cell_type": "markdown",
   "metadata": {},
   "source": [
    "## Define a 2-Character Feed-forward Network\n",
    "\n",
    "Lets add a 2nd character to the inputs. Now our network:\n",
    "\n",
    "- takes two characters as an input\n",
    "- transforms each character integer into an embedding\n",
    "- runs the 1st char's embedding through a hidden layer\n",
    "- runs the 2nd char's embedding, plus the 1st hidden layer through another hidden layer\n",
    "- returns a softmax classification over all possible character classes\n",
    "\n",
    "\n",
    "```\n",
    "\n",
    "INPUT            EMBED          DENSE 1            DENSE 2           SOFTMAX\n",
    "\n",
    "1st char idx --> embedding -->  linear + relu -->  linear + relu\n",
    "                                                      |\n",
    "                                                      v\n",
    "2nd char idx --> embedding -->  linear + relu -->  linear + relu --> linear + softmax\n",
    "                                                                          |\n",
    "                                                                          v\n",
    "                                                                     output char idx predictions\n",
    "```"
   ]
  },
  {
   "cell_type": "code",
   "execution_count": 14,
   "metadata": {},
   "outputs": [],
   "source": [
    "import torch.nn as nn\n",
    "\n",
    "VOCAB_SIZE = len(train_ds.chars)\n",
    "EMBED_PARAMS = 42\n",
    "HIDDEN_PARAMS = 256\n",
    "LAYERS = (\n",
    "    (VOCAB_SIZE, EMBED_PARAMS),  # Embedding\n",
    "    (EMBED_PARAMS, HIDDEN_PARAMS),  # Dense 1\n",
    "    (HIDDEN_PARAMS, HIDDEN_PARAMS),  # Dense 2\n",
    "    (HIDDEN_PARAMS, VOCAB_SIZE),  # Output\n",
    ")\n",
    "\n",
    "class TwoCharNet(nn.Module):\n",
    "    def __init__(self):\n",
    "        super().__init__()        \n",
    "        # Parameterized layers\n",
    "        self.embedding = nn.Embedding(*LAYERS[0])\n",
    "        self.dense_1 = nn.Linear(*LAYERS[1])\n",
    "        self.dense_2 = nn.Linear(*LAYERS[2])\n",
    "        self.out = nn.Linear(*LAYERS[3])\n",
    "        # Functions\n",
    "        self.relu = nn.ReLU()\n",
    "        self.softmax = nn.LogSoftmax(dim=1)\n",
    "                             \n",
    "    def forward(self, input_t):\n",
    "        embed_acts = self.embedding(input_t)\n",
    "        dense_1_acts = self.relu(self.dense_1(embed_acts))\n",
    "        char_1 = dense_1_acts[:, 0, :]\n",
    "        char_2 = dense_1_acts[:, 1, :]\n",
    "\n",
    "        dense_2_acts = self.relu(self.dense_2(char_1))\n",
    "        dense_2_acts = self.relu(self.dense_2(dense_2_acts + char_2))\n",
    "        prediction = self.softmax(self.out(dense_2_acts))\n",
    "        return prediction"
   ]
  },
  {
   "cell_type": "markdown",
   "metadata": {},
   "source": [
    "## Train the 2-Character Feed-forward Network\n",
    "\n",
    "You can see that using 2 characters instead of one slightly improves our final loss."
   ]
  },
  {
   "cell_type": "code",
   "execution_count": 15,
   "metadata": {},
   "outputs": [
    {
     "name": "stdout",
     "output_type": "stream",
     "text": [
      "Creating data loader... done\n"
     ]
    },
    {
     "data": {
      "application/vnd.jupyter.widget-view+json": {
       "model_id": "",
       "version_major": 2,
       "version_minor": 0
      },
      "text/plain": [
       "HBox(children=(IntProgress(value=0, description='epoch 1 / 4', max=587, style=ProgressStyle(description_width=…"
      ]
     },
     "metadata": {},
     "output_type": "display_data"
    },
    {
     "name": "stdout",
     "output_type": "stream",
     "text": [
      "\r",
      "epoch 1 / 4, loss: 2.0872\n"
     ]
    },
    {
     "data": {
      "application/vnd.jupyter.widget-view+json": {
       "model_id": "",
       "version_major": 2,
       "version_minor": 0
      },
      "text/plain": [
       "HBox(children=(IntProgress(value=0, description='epoch 2 / 4', max=587, style=ProgressStyle(description_width=…"
      ]
     },
     "metadata": {},
     "output_type": "display_data"
    },
    {
     "name": "stdout",
     "output_type": "stream",
     "text": [
      "\r",
      "epoch 2 / 4, loss: 2.0734\n"
     ]
    },
    {
     "data": {
      "application/vnd.jupyter.widget-view+json": {
       "model_id": "",
       "version_major": 2,
       "version_minor": 0
      },
      "text/plain": [
       "HBox(children=(IntProgress(value=0, description='epoch 3 / 4', max=587, style=ProgressStyle(description_width=…"
      ]
     },
     "metadata": {},
     "output_type": "display_data"
    },
    {
     "name": "stdout",
     "output_type": "stream",
     "text": [
      "\r",
      "epoch 3 / 4, loss: 2.0508\n"
     ]
    },
    {
     "data": {
      "application/vnd.jupyter.widget-view+json": {
       "model_id": "",
       "version_major": 2,
       "version_minor": 0
      },
      "text/plain": [
       "HBox(children=(IntProgress(value=0, description='epoch 4 / 4', max=587, style=ProgressStyle(description_width=…"
      ]
     },
     "metadata": {},
     "output_type": "display_data"
    },
    {
     "name": "stdout",
     "output_type": "stream",
     "text": [
      "\r",
      "epoch 4 / 4, loss: 2.0419\n"
     ]
    },
    {
     "data": {
      "image/png": "[encoded data removed]",
      "text/plain": [
       "<Figure size 432x288 with 1 Axes>"
      ]
     },
     "metadata": {
      "needs_background": "light"
     },
     "output_type": "display_data"
    }
   ],
   "source": [
    "data_set = TextDataset(num_chars=2)\n",
    "two_char_net = TwoCharNet().cuda()\n",
    "train_net(two_char_net, data_set, num_epochs=4, batch_size=1024)"
   ]
  },
  {
   "cell_type": "markdown",
   "metadata": {},
   "source": [
    "## Test the 2-Character Feed-forward Network\n",
    "\n",
    "It's... slightly better than before."
   ]
  },
  {
   "cell_type": "code",
   "execution_count": 16,
   "metadata": {},
   "outputs": [
    {
     "name": "stdout",
     "output_type": "stream",
     "text": [
      "There will be many issues withe the the the the the the the the the the the the the the the the the the the the the the the the th\n"
     ]
    }
   ],
   "source": [
    "generated_text = generate_text(two_char_net, data_set, 2, choices=1)\n",
    "print(generated_text)"
   ]
  },
  {
   "cell_type": "code",
   "execution_count": 17,
   "metadata": {},
   "outputs": [
    {
     "name": "stdout",
     "output_type": "stream",
     "text": [
      "There will be many issues wither to to the se tooder thas tooderessin thatere ther all an ing an took oner to thate thas ther the \n"
     ]
    }
   ],
   "source": [
    "generated_text = generate_text(two_char_net, data_set, 2, choices=2)\n",
    "print(generated_text)"
   ]
  },
  {
   "cell_type": "code",
   "execution_count": 18,
   "metadata": {},
   "outputs": [
    {
     "name": "stdout",
     "output_type": "stream",
     "text": [
      "There will be many issues witherse tral ancte sent tratimpt truen trestate ing, they of\n",
      "to\n",
      "der astailostaidur to\n",
      "me in thin trat i\n"
     ]
    }
   ],
   "source": [
    "generated_text = generate_text(two_char_net, data_set, 2, choices=3)\n",
    "print(generated_text)"
   ]
  },
  {
   "cell_type": "markdown",
   "metadata": {},
   "source": [
    "## Define an N-Character Feed-forward Network\n",
    "\n",
    "Lets modify our 2-character network to allow an arbitrary number of characters as inputs. Now our network will now look like this:\n",
    "\n",
    "```\n",
    "\n",
    "INPUT            EMBED          DENSE 1            DENSE 2           SOFTMAX\n",
    "\n",
    "1st char idx --> embedding -->  linear + relu -->  linear + relu\n",
    "                                                      |\n",
    "                                                      v\n",
    "2nd char idx --> embedding -->  linear + relu -->  linear + relu\n",
    "                                                      |\n",
    "                                                      v\n",
    "                                                     ...\n",
    "                                                      |\n",
    "                                                      v\n",
    "nth char idx --> embedding -->  linear + relu -->  linear + relu --> linear + softmax\n",
    "                                                                          |\n",
    "                                                                          v\n",
    "                                                                     output char idx predictions\n",
    "```"
   ]
  },
  {
   "cell_type": "code",
   "execution_count": 19,
   "metadata": {},
   "outputs": [],
   "source": [
    "import torch.nn as nn\n",
    "\n",
    "VOCAB_SIZE = len(train_ds.chars)\n",
    "EMBED_PARAMS = 42\n",
    "HIDDEN_PARAMS = 256\n",
    "LAYERS = (\n",
    "    (VOCAB_SIZE, EMBED_PARAMS),  # Embedding\n",
    "    (EMBED_PARAMS, HIDDEN_PARAMS),  # Dense 1\n",
    "    (HIDDEN_PARAMS, HIDDEN_PARAMS),  # Dense 2\n",
    "    (HIDDEN_PARAMS, VOCAB_SIZE),  # Output\n",
    ")\n",
    "\n",
    "class NCharNet(nn.Module):\n",
    "    def __init__(self, n):\n",
    "        super().__init__()    \n",
    "        # Number of characters as input\n",
    "        self.n = n\n",
    "        # Parameterized layers\n",
    "        self.embedding = nn.Embedding(*LAYERS[0])\n",
    "        self.dense_1 = nn.Linear(*LAYERS[1])\n",
    "        self.dense_2 = nn.Linear(*LAYERS[2])\n",
    "        self.out = nn.Linear(*LAYERS[3])\n",
    "        # Functions\n",
    "        self.relu = nn.ReLU()\n",
    "        self.softmax = nn.LogSoftmax(dim=1)\n",
    "                             \n",
    "    def forward(self, input_t):\n",
    "        embed_acts = self.embedding(input_t)\n",
    "        dense_1_acts = self.relu(self.dense_1(embed_acts))\n",
    "        shape = dense_1_acts.shape\n",
    "        assert shape[1] == self.n, f'Incorrect input size in shape {shape}'\n",
    "        \n",
    "        dense_2_acts = torch.zeros(shape[0], shape[2]).cuda()\n",
    "        for i in range(n):\n",
    "            char_acts = dense_1_acts[:, i, :]\n",
    "            dense_2_acts = self.relu(self.dense_2(dense_2_acts + char_acts))\n",
    "\n",
    "        prediction = self.softmax(self.out(dense_2_acts))\n",
    "        return prediction"
   ]
  },
  {
   "cell_type": "markdown",
   "metadata": {},
   "source": [
    "## Train the N-Character Feed-forward Network\n",
    "\n",
    "You can see that using more characters continues to improve our final loss. We're also able to train out networks for longer. I also tweaked the batch size here to be smaller. This will take longer to compute, but will probably result in less redundant computation and thus a better overall loss."
   ]
  },
  {
   "cell_type": "code",
   "execution_count": 39,
   "metadata": {},
   "outputs": [
    {
     "name": "stdout",
     "output_type": "stream",
     "text": [
      "Creating data loader... done\n"
     ]
    },
    {
     "data": {
      "application/vnd.jupyter.widget-view+json": {
       "model_id": "",
       "version_major": 2,
       "version_minor": 0
      },
      "text/plain": [
       "HBox(children=(IntProgress(value=0, description='epoch 1 / 8', max=1174, style=ProgressStyle(description_width…"
      ]
     },
     "metadata": {},
     "output_type": "display_data"
    },
    {
     "name": "stdout",
     "output_type": "stream",
     "text": [
      "\r",
      "epoch 1 / 8, loss: 1.8019\n"
     ]
    },
    {
     "data": {
      "application/vnd.jupyter.widget-view+json": {
       "model_id": "",
       "version_major": 2,
       "version_minor": 0
      },
      "text/plain": [
       "HBox(children=(IntProgress(value=0, description='epoch 2 / 8', max=1174, style=ProgressStyle(description_width…"
      ]
     },
     "metadata": {},
     "output_type": "display_data"
    },
    {
     "name": "stdout",
     "output_type": "stream",
     "text": [
      "\r",
      "epoch 2 / 8, loss: 1.6276\n"
     ]
    },
    {
     "data": {
      "application/vnd.jupyter.widget-view+json": {
       "model_id": "",
       "version_major": 2,
       "version_minor": 0
      },
      "text/plain": [
       "HBox(children=(IntProgress(value=0, description='epoch 3 / 8', max=1174, style=ProgressStyle(description_width…"
      ]
     },
     "metadata": {},
     "output_type": "display_data"
    },
    {
     "name": "stdout",
     "output_type": "stream",
     "text": [
      "\r",
      "epoch 3 / 8, loss: 1.6041\n"
     ]
    },
    {
     "data": {
      "application/vnd.jupyter.widget-view+json": {
       "model_id": "",
       "version_major": 2,
       "version_minor": 0
      },
      "text/plain": [
       "HBox(children=(IntProgress(value=0, description='epoch 4 / 8', max=1174, style=ProgressStyle(description_width…"
      ]
     },
     "metadata": {},
     "output_type": "display_data"
    },
    {
     "name": "stdout",
     "output_type": "stream",
     "text": [
      "\r",
      "epoch 4 / 8, loss: 1.5621\n"
     ]
    },
    {
     "data": {
      "application/vnd.jupyter.widget-view+json": {
       "model_id": "",
       "version_major": 2,
       "version_minor": 0
      },
      "text/plain": [
       "HBox(children=(IntProgress(value=0, description='epoch 5 / 8', max=1174, style=ProgressStyle(description_width…"
      ]
     },
     "metadata": {},
     "output_type": "display_data"
    },
    {
     "name": "stdout",
     "output_type": "stream",
     "text": [
      "\r",
      "epoch 5 / 8, loss: 1.5155\n"
     ]
    },
    {
     "data": {
      "application/vnd.jupyter.widget-view+json": {
       "model_id": "",
       "version_major": 2,
       "version_minor": 0
      },
      "text/plain": [
       "HBox(children=(IntProgress(value=0, description='epoch 6 / 8', max=1174, style=ProgressStyle(description_width…"
      ]
     },
     "metadata": {},
     "output_type": "display_data"
    },
    {
     "name": "stdout",
     "output_type": "stream",
     "text": [
      "\r",
      "epoch 6 / 8, loss: 1.5221\n"
     ]
    },
    {
     "data": {
      "application/vnd.jupyter.widget-view+json": {
       "model_id": "",
       "version_major": 2,
       "version_minor": 0
      },
      "text/plain": [
       "HBox(children=(IntProgress(value=0, description='epoch 7 / 8', max=1174, style=ProgressStyle(description_width…"
      ]
     },
     "metadata": {},
     "output_type": "display_data"
    },
    {
     "name": "stdout",
     "output_type": "stream",
     "text": [
      "\r",
      "epoch 7 / 8, loss: 1.4838\n"
     ]
    },
    {
     "data": {
      "application/vnd.jupyter.widget-view+json": {
       "model_id": "",
       "version_major": 2,
       "version_minor": 0
      },
      "text/plain": [
       "HBox(children=(IntProgress(value=0, description='epoch 8 / 8', max=1174, style=ProgressStyle(description_width…"
      ]
     },
     "metadata": {},
     "output_type": "display_data"
    },
    {
     "name": "stdout",
     "output_type": "stream",
     "text": [
      "\r",
      "epoch 8 / 8, loss: 1.4518\n"
     ]
    },
    {
     "data": {
      "image/png": "[encoded data removed]",
      "text/plain": [
       "<Figure size 432x288 with 1 Axes>"
      ]
     },
     "metadata": {
      "needs_background": "light"
     },
     "output_type": "display_data"
    }
   ],
   "source": [
    "n = 12\n",
    "data_set = TextDataset(num_chars=n)\n",
    "n_char_net = NCharNet(n).cuda()\n",
    "train_net(n_char_net, data_set, num_epochs=8, batch_size=512)"
   ]
  },
  {
   "cell_type": "markdown",
   "metadata": {},
   "source": [
    "## Test the N-Character Feed-forward Network\n",
    "\n",
    "This is the best result so far. It's not _great_ but it's much better than the 2-layer network."
   ]
  },
  {
   "cell_type": "code",
   "execution_count": 40,
   "metadata": {},
   "outputs": [
    {
     "name": "stdout",
     "output_type": "stream",
     "text": [
      "There will be many issues with the sense of the such a such a such a such a such a such a such a such a such a such a such a such \n"
     ]
    }
   ],
   "source": [
    "generated_text = generate_text(n_char_net, data_set, n, choices=1)\n",
    "print(generated_text)"
   ]
  },
  {
   "cell_type": "code",
   "execution_count": 44,
   "metadata": {},
   "outputs": [
    {
     "name": "stdout",
     "output_type": "stream",
     "text": [
      "Who is to say what the probably an accept one musian and\n",
      "can anythers and\n",
      "self-canntally\n",
      "to\n",
      "take a sure than\n",
      "also that\n",
      "to \n"
     ]
    }
   ],
   "source": [
    "seed = 'Who is to say what the'\n",
    "generated_text = generate_text(n_char_net, data_set, n, seed=seed, choices=2)\n",
    "print(generated_text)"
   ]
  },
  {
   "cell_type": "code",
   "execution_count": 48,
   "metadata": {},
   "outputs": [
    {
     "name": "stdout",
     "output_type": "stream",
     "text": [
      "There will be many issues with also, to\n",
      "things,\n",
      "altemptrity. It\n",
      "it is a phimaur an exterminal also to\n",
      "all all this to a states and\n"
     ]
    }
   ],
   "source": [
    "generated_text = generate_text(n_char_net, data_set, n, choices=2)\n",
    "print(generated_text)"
   ]
  },
  {
   "cell_type": "code",
   "execution_count": 43,
   "metadata": {},
   "outputs": [
    {
     "name": "stdout",
     "output_type": "stream",
     "text": [
      "There will be many issues withicided, in to any\n",
      "thorogises as it\n",
      "insight tite\n",
      "all mode alwrioe any altry.\n",
      "Tortunity,\n",
      "is to\n",
      "been se\n"
     ]
    }
   ],
   "source": [
    "generated_text = generate_text(n_char_net, data_set, n, choices=3)\n",
    "print(generated_text)"
   ]
  },
  {
   "cell_type": "code",
   "execution_count": null,
   "metadata": {},
   "outputs": [],
   "source": []
  }
 ],
 "metadata": {
  "kernelspec": {
   "display_name": "Python 3",
   "language": "python",
   "name": "python3"
  },
  "language_info": {
   "codemirror_mode": {
    "name": "ipython",
    "version": 3
   },
   "file_extension": ".py",
   "mimetype": "text/x-python",
   "name": "python",
   "nbconvert_exporter": "python",
   "pygments_lexer": "ipython3",
   "version": "3.6.7"
  }
 },
 "nbformat": 4,
 "nbformat_minor": 2
}
