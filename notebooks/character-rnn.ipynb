{
 "cells": [
  {
   "cell_type": "markdown",
   "metadata": {},
   "source": [
    "# Character-Based Recurrent Neural Network\n",
    "\n",
    "This notebook will build a character-based language model, using a recurrent neural network in PyTorch. This notebook should be accessible if you have tried a little [PyTorch](https://www.youtube.com/watch?v=v5cngxo4mIg&list=PLZbbT5o_s2xrfNyHZsM6ufI0iZENK9xgG), and if you are familliar with classical feed forward neural networks.\n",
    "\n",
    "This notebook will build up to the RNN model in a series of steps:\n",
    "\n",
    "- Create a Dataset\n",
    "- Define a generic training loop\n",
    "- 1-character feed-forward network\n",
    "- 2-character feed-forward network\n",
    "- N-character feed-forward network\n",
    "- Using Pytorch's RNN module\n",
    "- Training more efficiently\n",
    "- Remembering\n",
    "\n",
    "This approach is heavily based on [lesson 6](https://course.fast.ai/lessons/lesson6.html) of FastAI [Deep Learning for Coders](https://course.fast.ai/). It's only indirectly related to Kapathy's [char-rnn](https://github.com/karpathy/char-rnn) implementation. "
   ]
  },
  {
   "cell_type": "code",
   "execution_count": 2,
   "metadata": {},
   "outputs": [],
   "source": [
    "# Imports and notebook setup\n",
    "%reload_ext autoreload\n",
    "%autoreload 2\n",
    "%matplotlib inline\n",
    "\n",
    "import os\n",
    "\n",
    "import torch\n",
    "import numpy as np\n",
    "import matplotlib.pyplot as plt\n",
    "from IPython.core.debugger import set_trace\n",
    "\n",
    "# Create directory to store training data.\n",
    "user_list = !whoami\n",
    "username = user_list[0]\n",
    "PATH = f'/home/{username}/data/char-rnn/'\n",
    "os.makedirs(PATH, exist_ok=True)"
   ]
  },
  {
   "cell_type": "code",
   "execution_count": 3,
   "metadata": {},
   "outputs": [],
   "source": [
    "# This notebook assumes that you have Nvidia CUDA available. If it is not, change all `.cuda()` calls to `.cpu()`\n",
    "assert torch.cuda.is_available(), 'CUDA is not available.'\n",
    "assert torch.backends.cudnn.enabled, 'CuDNN is not available.'"
   ]
  },
  {
   "cell_type": "markdown",
   "metadata": {},
   "source": [
    "# Create a Dataset\n",
    "\n",
    "Skip this if you don't care about PyTorch stuff, or where the data comes from.\n",
    "\n",
    "We need to first get the training data. Below we create a subclass of `torch.Dataset`, which defines how to read the training data. I have not defined a test or validation dataset. In this particular case, `TextDataset` will download the full works of Nietzsche from S3 and load the text into memory for training."
   ]
  },
  {
   "cell_type": "code",
   "execution_count": 4,
   "metadata": {},
   "outputs": [],
   "source": [
    "import requests\n",
    "import torch\n",
    "from torch.utils.data import Dataset, DataLoader\n",
    "\n",
    "SOURCE_URL = 'https://s3.amazonaws.com/text-datasets/nietzsche.txt'\n",
    "TARGET_FILE = f'{PATH}nietzsche.txt'\n",
    "\n",
    "class TextDataset(Dataset):\n",
    "    def __init__(self, num_chars):\n",
    "        \"\"\"\n",
    "        Argument 'num_chars' determines how many characters are used to predict the next character.\n",
    "        \"\"\"\n",
    "        self.num_chars = num_chars\n",
    "        self.fetch_file()\n",
    "        self.load_text()\n",
    "    \n",
    "    def fetch_file(self):\n",
    "        \"\"\"\n",
    "        Fetch dataset file from SOURCE_URL if it doesn't exist locally.\n",
    "        \"\"\"\n",
    "        if not os.path.exists(TARGET_FILE):\n",
    "            print(f'Downloading from S3...', end=' ')\n",
    "            response = requests.get(SOURCE_URL, stream=True)\n",
    "            response.raise_for_status()\n",
    "            with open(TARGET_FILE, 'wb') as f:\n",
    "                for block in response.iter_content(1024):\n",
    "                    f.write(block)\n",
    "\n",
    "            print('done')\n",
    "    \n",
    "    def load_text(self):\n",
    "        \"\"\"\n",
    "        Load the text from disk and convert characters to integers with a mapping.\n",
    "        \"\"\"\n",
    "        with open(TARGET_FILE) as f:\n",
    "            self.text = f.read().lower()\n",
    "        \n",
    "        self.chars = sorted(list(set(self.text)))\n",
    "        self.char_to_idx = {c: i for i, c in enumerate(self.chars)}\n",
    "        self.idx_to_char = {i: c for i, c in enumerate(self.chars)}\n",
    "\n",
    "    def __len__(self):\n",
    "        \"\"\"\n",
    "        How many samples there are in the dataset.\n",
    "        \"\"\"\n",
    "        return len(self.text) - self.num_chars - 1\n",
    "    \n",
    "    def __getitem__(self, idx):\n",
    "        \"\"\"\n",
    "        Get item by integer index,\n",
    "        returns (x_1, x_2, ..., x_n), y\n",
    "        where x 1 to n are integers representing the input characters\n",
    "        and y is an integer the output character\n",
    "        \"\"\"\n",
    "        inputs = torch.tensor([self.char_to_idx[c] for c in self.text[idx:idx + self.num_chars]])\n",
    "        label = self.char_to_idx[self.text[idx + self.num_chars]]\n",
    "        return inputs, label"
   ]
  },
  {
   "cell_type": "code",
   "execution_count": 5,
   "metadata": {},
   "outputs": [
    {
     "name": "stdout",
     "output_type": "stream",
     "text": [
      "Source text: 'preface\\n\\n\\nsupposing '\n",
      "Int form: [42, 44, 31, 32, 27, 29, 31, 0, 0, 0, 45, 47, 42, 42, 41, 45, 35, 40, 33, 1]\n",
      "Sample 0 - input tensor([42, 44, 31]) label 32\n",
      "Sample 1 - input tensor([44, 31, 32]) label 27\n",
      "Sample 2 - input tensor([31, 32, 27]) label 29\n",
      "Sample 3 - input tensor([32, 27, 29]) label 31\n",
      "Sample 4 - input tensor([27, 29, 31]) label 0\n"
     ]
    }
   ],
   "source": [
    "# We can test out how the Dataset__getitem__ method works\n",
    "train_ds = TextDataset(num_chars=3)\n",
    "print('Source text:', repr(train_ds.text[:20]))\n",
    "print('Int form:', [train_ds.char_to_idx[c] for c in train_ds.text[:20]])\n",
    "for i in range(5):\n",
    "    xs, y = train_ds[i]\n",
    "    print('Sample', i, '- input', xs, 'label', y)"
   ]
  },
  {
   "cell_type": "markdown",
   "metadata": {},
   "source": [
    "# Define a generic training loop\n",
    "\n",
    "Skip this if you don't care how the models get trained.\n",
    "\n",
    "Here we'll define a generic training loop which can be applied to all models. Below we define:\n",
    "\n",
    "- `ProgressBar` - a helper class for printing stuff\n",
    "- `train_net` - a training loop function that accepts a model and some hyperparameters as input\n"
   ]
  },
  {
   "cell_type": "code",
   "execution_count": 6,
   "metadata": {},
   "outputs": [],
   "source": [
    "from tqdm import tqdm_notebook as tqdm\n",
    "\n",
    "class ProgressBar():\n",
    "    \"\"\"\n",
    "    Pretty progress bar for training - not super relevant.\n",
    "    \"\"\"\n",
    "    def __init__(self, epoch, total_epochs, data_loader):\n",
    "        self.epoch = epoch\n",
    "        self.total_epochs = total_epochs\n",
    "        self.loss = 0\n",
    "        self.progress = tqdm(\n",
    "            iterable=iter(data_loader),\n",
    "            leave=False,\n",
    "            desc=f'epoch {epoch + 1} / {total_epochs}',\n",
    "            total=len(data_loader),\n",
    "            miniters=0\n",
    "        )\n",
    "\n",
    "    def update(self, loss):\n",
    "        self.loss = loss\n",
    "        self.progress.set_postfix(loss=loss, refresh=False)\n",
    "        \n",
    "    def __iter__(self):\n",
    "        return self.progress.__iter__()\n",
    "        \n",
    "    def __enter__(self):\n",
    "        return self\n",
    "\n",
    "    def __exit__(self, *args):\n",
    "        self.progress.close()\n",
    "        print(f'epoch {self.epoch + 1} / {self.total_epochs}, loss: {self.loss:0.4f}')\n"
   ]
  },
  {
   "cell_type": "code",
   "execution_count": 7,
   "metadata": {},
   "outputs": [],
   "source": [
    "import torch.optim as optim\n",
    "\n",
    "class Trainer:\n",
    "    def __init__(self, net, data_set, num_epochs, **kwargs):\n",
    "        \"\"\"\n",
    "        net         - a trainable model (torch.nn.Module)\n",
    "        data_set    - training data (torch.utils.data.DataLoader) \n",
    "        num_epochs  - number of epochs to train for\n",
    "        \"\"\"   \n",
    "        self.net = net\n",
    "        self.data_set = data_set\n",
    "        self.num_epochs = num_epochs\n",
    "        \n",
    "        # Get hyper-parameters, set defaults\n",
    "        learning_rate = kwargs.get('learning_rate', 0.001)\n",
    "        self.batch_size = kwargs.get('batch_size', 128)\n",
    "\n",
    "        # Use cross-entropy loss since we're doing multi-class classification\n",
    "        self.criterion = kwargs.get('criterion', nn.CrossEntropyLoss())\n",
    "\n",
    "        # Use Adam optimizer, because it's faster than classic gradient descent.\n",
    "        adam_betas = kwargs.get('adam_betas', (0.9, 0.999))\n",
    "        self.optimizer = optim.Adam(net.parameters(), lr=learning_rate, betas=adam_betas)\n",
    "        \n",
    "        # Construct data loader\n",
    "        shuffle = kwargs.get('shuffle', True)\n",
    "        sampler = kwargs.get('sampler', None)\n",
    "        self.data_loader = DataLoader(\n",
    "            data_set,\n",
    "            batch_size=batch_size,\n",
    "            shuffle=shuffle,\n",
    "            sampler=sampler,\n",
    "            num_workers=3\n",
    "        )\n",
    "        \n",
    "    def train(self):\n",
    "        \"\"\"Train model\"\"\"\n",
    "        # Keep track of loss history\n",
    "        loss_history = []\n",
    "        loss_avg = 0\n",
    "        loss_beta = 0.8\n",
    "\n",
    "        # Run training loop\n",
    "        for epoch in range(self.num_epochs):\n",
    "            with ProgressBar(epoch, self.num_epochs, self.data_loader) as progress:\n",
    "                for inputs, labels in progress:\n",
    "                    # Tell PyTorch to reset gradient tracking.\n",
    "                    self.optimizer.zero_grad()\n",
    "\n",
    "                    # Get prediction from model\n",
    "                    outputs = self.net(inputs.cuda())\n",
    "\n",
    "                    # Run loss function on over the model's prediction\n",
    "                    loss = self.criterion(outputs.cpu(), labels)\n",
    "\n",
    "                    # Calculate model weight gradients from the loss\n",
    "                    loss.backward()\n",
    "\n",
    "                    # Update model weights via gradient descent.\n",
    "                    self.optimizer.step()            \n",
    "\n",
    "                    # Log training information\n",
    "                    loss_amount = loss.data.item()\n",
    "                    loss_avg = loss_beta * loss_avg + (1 - loss_beta) * loss_amount\n",
    "                    progress.update(loss_avg)\n",
    "                    loss_history.append(loss_amount)\n",
    "\n",
    "        # Plot training performance\n",
    "        fig, ax = plt.subplots()\n",
    "        ax.plot(loss_history)\n",
    "        ax.set_title('Training performance')\n",
    "        ax.set_xlabel('Iterations')\n",
    "        ax.set_ylabel('Loss')"
   ]
  },
  {
   "cell_type": "markdown",
   "metadata": {},
   "source": [
    "## Define a 1-character feed-forward network\n",
    "\n",
    "For starters we'll use a feed-forward neural network that:\n",
    "\n",
    "- takes a single character index integer as an input\n",
    "- transforms the character integer into an [embedding](https://github.com/MattSegal/fastai-notes/blob/master/theory/embeddings.md)\n",
    "- runs the embedding activations through a hidden layer\n",
    "- returns a softmax classification over all possible character classes\n",
    "\n",
    "\n",
    "```\n",
    "\n",
    "INPUT            EMBED          DENSE              SOFTMAX\n",
    "\n",
    "char idx -->     embedding -->  linear + tanh -->  linear + softmax\n",
    "                                                          |\n",
    "                                                          v\n",
    "                                                    output char idx predictions\n",
    "```\n",
    "\n",
    "We're using `tanh` over `relu` here because `tanh` produces a bounded output in \\[-1, 1\\], whereas `relu` can produce arbitrarily large values in \\[0, inf\\], which is bad because output values may get too large for repeated application of the same layer (future architectures). The choice doesn't seem to make much of a difference for the 1 and 2 character networks below."
   ]
  },
  {
   "cell_type": "code",
   "execution_count": 8,
   "metadata": {},
   "outputs": [],
   "source": [
    "import torch.nn as nn\n",
    "\n",
    "VOCAB_SIZE = len(train_ds.chars)\n",
    "EMBED_PARAMS = 42\n",
    "HIDDEN_PARAMS = 256\n",
    "LAYERS = (\n",
    "    (VOCAB_SIZE, EMBED_PARAMS),  # Embedding\n",
    "    (EMBED_PARAMS, HIDDEN_PARAMS),  # Dense\n",
    "    (HIDDEN_PARAMS, VOCAB_SIZE),  # Output\n",
    ")\n",
    "\n",
    "class OneCharNet(nn.Module):\n",
    "    def __init__(self):\n",
    "        super().__init__()        \n",
    "        # Parameterized layers\n",
    "        self.embedding = nn.Embedding(*LAYERS[0])\n",
    "        self.dense = nn.Linear(*LAYERS[1])\n",
    "        self.out = nn.Linear(*LAYERS[2])\n",
    "        # Functions\n",
    "        self.tanh = nn.Tanh()\n",
    "        self.softmax = nn.LogSoftmax(dim=1)\n",
    "                             \n",
    "    def forward(self, input_t):\n",
    "        # Get embedding from character index\n",
    "        embed_acts = self.embedding(input_t).squeeze(dim=1)\n",
    "\n",
    "        # Pass embedding vector through a dense layer\n",
    "        dense_acts = self.tanh(self.dense(embed_acts))\n",
    "        \n",
    "        # Make a prediction from output of dense layer\n",
    "        prediction = self.softmax(self.out(dense_acts))\n",
    "        return prediction"
   ]
  },
  {
   "cell_type": "markdown",
   "metadata": {},
   "source": [
    "## Train the 1-character feed-forward network"
   ]
  },
  {
   "cell_type": "code",
   "execution_count": 9,
   "metadata": {},
   "outputs": [
    {
     "data": {
      "application/vnd.jupyter.widget-view+json": {
       "model_id": "",
       "version_major": 2,
       "version_minor": 0
      },
      "text/plain": [
       "HBox(children=(IntProgress(value=0, description='epoch 1 / 4', max=9389, style=ProgressStyle(description_width…"
      ]
     },
     "metadata": {},
     "output_type": "display_data"
    },
    {
     "name": "stdout",
     "output_type": "stream",
     "text": [
      "\r",
      "epoch 1 / 4, loss: 2.4477\n"
     ]
    },
    {
     "data": {
      "application/vnd.jupyter.widget-view+json": {
       "model_id": "",
       "version_major": 2,
       "version_minor": 0
      },
      "text/plain": [
       "HBox(children=(IntProgress(value=0, description='epoch 2 / 4', max=9389, style=ProgressStyle(description_width…"
      ]
     },
     "metadata": {},
     "output_type": "display_data"
    },
    {
     "name": "stdout",
     "output_type": "stream",
     "text": [
      "\r",
      "epoch 2 / 4, loss: 2.4359\n"
     ]
    },
    {
     "data": {
      "application/vnd.jupyter.widget-view+json": {
       "model_id": "",
       "version_major": 2,
       "version_minor": 0
      },
      "text/plain": [
       "HBox(children=(IntProgress(value=0, description='epoch 3 / 4', max=9389, style=ProgressStyle(description_width…"
      ]
     },
     "metadata": {},
     "output_type": "display_data"
    },
    {
     "name": "stdout",
     "output_type": "stream",
     "text": [
      "\r",
      "epoch 3 / 4, loss: 2.5377\n"
     ]
    },
    {
     "data": {
      "application/vnd.jupyter.widget-view+json": {
       "model_id": "",
       "version_major": 2,
       "version_minor": 0
      },
      "text/plain": [
       "HBox(children=(IntProgress(value=0, description='epoch 4 / 4', max=9389, style=ProgressStyle(description_width…"
      ]
     },
     "metadata": {},
     "output_type": "display_data"
    },
    {
     "name": "stdout",
     "output_type": "stream",
     "text": [
      "\r",
      "epoch 4 / 4, loss: 2.4145\n"
     ]
    },
    {
     "data": {
      "image/png": "[encoded data removed]",
      "text/plain": [
       "<Figure size 432x288 with 1 Axes>"
      ]
     },
     "metadata": {
      "needs_background": "light"
     },
     "output_type": "display_data"
    }
   ],
   "source": [
    "data_set = TextDataset(num_chars=1)\n",
    "net = OneCharNet().cuda()\n",
    "trainer = Trainer(net, data_set, num_epochs=4, batch_size=1024)\n",
    "trainer.train()"
   ]
  },
  {
   "cell_type": "markdown",
   "metadata": {},
   "source": [
    "## Test the 1-character feed-forward network\n",
    "\n",
    "By _test_ I really mean _check_, or perhaps, _poke it with a stick_. Let's see what kind of text the model will produce from a seed example. You can see that the results suck, but they're not random noise."
   ]
  },
  {
   "cell_type": "code",
   "execution_count": 10,
   "metadata": {},
   "outputs": [],
   "source": [
    "import random\n",
    "\n",
    "def generate_text(net, data_set, num_chars, length=100, seed='There will be many issues with', choices=1):\n",
    "    \"\"\"\n",
    "    Use the provided `net` model to generate a sequence of characters, based on the seed.\n",
    "    \"\"\"\n",
    "    text = seed.lower()\n",
    "    for _ in range(length):\n",
    "        input_text = text[-num_chars:]\n",
    "        input_idxs = torch.tensor([data_set.char_to_idx[c] for c in input_text]).unsqueeze(dim=0).cuda()\n",
    "        predictions = net(input_idxs).detach().squeeze().cpu().numpy()\n",
    "        top_n_idxs = predictions.argsort()[-choices:]\n",
    "        chosen_idx = random.choice(top_n_idxs)\n",
    "        chosen_char = data_set.idx_to_char[chosen_idx.item()]\n",
    "        text += chosen_char\n",
    "    \n",
    "    return text"
   ]
  },
  {
   "cell_type": "code",
   "execution_count": 11,
   "metadata": {},
   "outputs": [
    {
     "name": "stdout",
     "output_type": "stream",
     "text": [
      "'there will be many issues withe the the the the the the the the the the the the the the the the the the the the the the the the th'\n"
     ]
    }
   ],
   "source": [
    "generated_text = generate_text(net, data_set, 1, choices=1)\n",
    "print(repr(generated_text))"
   ]
  },
  {
   "cell_type": "code",
   "execution_count": 12,
   "metadata": {},
   "outputs": [
    {
     "name": "stdout",
     "output_type": "stream",
     "text": [
      "'there will be many issues withis thist t an and athis t thisthist an t at t athin t and at t t thin thisther athinde an the this a'\n"
     ]
    }
   ],
   "source": [
    "generated_text = generate_text(net, data_set, 1, choices=2)\n",
    "print(repr(generated_text))"
   ]
  },
  {
   "cell_type": "code",
   "execution_count": 13,
   "metadata": {},
   "outputs": [
    {
     "name": "stdout",
     "output_type": "stream",
     "text": [
      "'there will be many issues wither ase o ofer titis o as o on aseritithin onde o o an of titinde o asthe atinghe onghand and atinghi'\n"
     ]
    }
   ],
   "source": [
    "generated_text = generate_text(net, data_set, 1, choices=3)\n",
    "print(repr(generated_text))"
   ]
  },
  {
   "cell_type": "markdown",
   "metadata": {},
   "source": [
    "## Define a 2-character feed-forward network\n",
    "\n",
    "Lets add a 2nd character to the inputs. Now our network:\n",
    "\n",
    "- takes two characters as an input\n",
    "- transforms each character integer into an embedding\n",
    "- runs the 1st char's embedding through a hidden layer\n",
    "- runs the 2nd char's embedding, plus the 1st hidden layer through another hidden layer\n",
    "- returns a softmax classification over all possible character classes\n",
    "\n",
    "\n",
    "```\n",
    "\n",
    "INPUT            EMBED          DENSE 1            DENSE 2           SOFTMAX\n",
    "\n",
    "1st char idx --> embedding -->  linear + relu -->  linear + tanh\n",
    "                                                      |\n",
    "                                                      v\n",
    "2nd char idx --> embedding -->  linear + relu -->  linear + tanh --> linear + softmax\n",
    "                                                                          |\n",
    "                                                                          v\n",
    "                                                                     output char idx predictions\n",
    "```\n",
    "\n",
    "We can image that the:\n",
    "\n",
    "- EMBED layer creaties a multi-dimensional representation for each character\n",
    "- DENSE 1 layer selects important features from the character embeddings\n",
    "- DENSE 2 layer produces a hidden state, which remembers past observations\n",
    "- SOFTMAX chooses the next character, based on the hidden state\n",
    "\n",
    "Looking at this diagram, a question arises: how do we add activations together when reading character 2? There are a few options. We could:\n",
    "\n",
    "- Add the activations together elementwise\n",
    "- Concatenate the activations into a new vector\n",
    "\n",
    "In this case I will concatenate the activations, because using element addition will destroy information. This method seems to help improve the final training loss _a little bit_."
   ]
  },
  {
   "cell_type": "code",
   "execution_count": 14,
   "metadata": {},
   "outputs": [],
   "source": [
    "import torch.nn as nn\n",
    "\n",
    "VOCAB_SIZE = len(train_ds.chars)\n",
    "EMBED_PARAMS = 42\n",
    "HIDDEN_PARAMS = 256\n",
    "LAYERS = (\n",
    "    (VOCAB_SIZE, EMBED_PARAMS),  # Embedding\n",
    "    (EMBED_PARAMS, HIDDEN_PARAMS),  # Dense 1\n",
    "    (2*HIDDEN_PARAMS, HIDDEN_PARAMS),  # Dense 2\n",
    "    (HIDDEN_PARAMS, VOCAB_SIZE),  # Output\n",
    ")\n",
    "\n",
    "class TwoCharNet(nn.Module):\n",
    "    def __init__(self):\n",
    "        super().__init__()        \n",
    "        # Parameterized layers\n",
    "        self.embedding = nn.Embedding(*LAYERS[0])\n",
    "        self.dense_1 = nn.Linear(*LAYERS[1])\n",
    "        self.dense_2 = nn.Linear(*LAYERS[2])\n",
    "        self.out = nn.Linear(*LAYERS[3])\n",
    "        # Functions\n",
    "        self.relu = nn.ReLU()\n",
    "        self.tanh = nn.Tanh()\n",
    "        self.softmax = nn.LogSoftmax(dim=1)\n",
    "                             \n",
    "    def forward(self, input_t):\n",
    "        # Get the embedding for each character\n",
    "        embed_acts = self.embedding(input_t)\n",
    "        \n",
    "        # Run each character through the first dense layer\n",
    "        dense_1_acts = self.relu(self.dense_1(embed_acts))\n",
    "\n",
    "        # Initialize the second dense layer activations as all 0s\n",
    "        batch_size = dense_1_acts.shape[0]\n",
    "        dense_2_acts = torch.zeros(batch_size, HIDDEN_PARAMS).cuda()\n",
    "        \n",
    "        # Run first character activations through second dense layer. \n",
    "        char_1 = dense_1_acts[:, 0, :]\n",
    "        dense_2_in = torch.cat((char_1, dense_2_acts), 1)\n",
    "        dense_2_acts = self.tanh(self.dense_2(dense_2_in))\n",
    "\n",
    "        # Run second character activations through second dense layer. \n",
    "        char_2 = dense_1_acts[:, 1, :]\n",
    "        dense_2_in = torch.cat((char_2, dense_2_acts), 1)\n",
    "        dense_2_acts = self.tanh(self.dense_2(dense_2_in))\n",
    "\n",
    "        # Make a prediction over character classes given the final dense 2 activations\n",
    "        prediction = self.softmax(self.out(dense_2_acts))\n",
    "        return prediction"
   ]
  },
  {
   "cell_type": "markdown",
   "metadata": {},
   "source": [
    "## Train the 2-character feed-forward network\n",
    "\n",
    "You can see that using 2 characters instead of one slightly improves our final loss."
   ]
  },
  {
   "cell_type": "code",
   "execution_count": 15,
   "metadata": {},
   "outputs": [
    {
     "data": {
      "application/vnd.jupyter.widget-view+json": {
       "model_id": "",
       "version_major": 2,
       "version_minor": 0
      },
      "text/plain": [
       "HBox(children=(IntProgress(value=0, description='epoch 1 / 4', max=9389, style=ProgressStyle(description_width…"
      ]
     },
     "metadata": {},
     "output_type": "display_data"
    },
    {
     "name": "stdout",
     "output_type": "stream",
     "text": [
      "\r",
      "epoch 1 / 4, loss: 1.9989\n"
     ]
    },
    {
     "data": {
      "application/vnd.jupyter.widget-view+json": {
       "model_id": "",
       "version_major": 2,
       "version_minor": 0
      },
      "text/plain": [
       "HBox(children=(IntProgress(value=0, description='epoch 2 / 4', max=9389, style=ProgressStyle(description_width…"
      ]
     },
     "metadata": {},
     "output_type": "display_data"
    },
    {
     "name": "stdout",
     "output_type": "stream",
     "text": [
      "\r",
      "epoch 2 / 4, loss: 2.0585\n"
     ]
    },
    {
     "data": {
      "application/vnd.jupyter.widget-view+json": {
       "model_id": "",
       "version_major": 2,
       "version_minor": 0
      },
      "text/plain": [
       "HBox(children=(IntProgress(value=0, description='epoch 3 / 4', max=9389, style=ProgressStyle(description_width…"
      ]
     },
     "metadata": {},
     "output_type": "display_data"
    },
    {
     "name": "stdout",
     "output_type": "stream",
     "text": [
      "\r",
      "epoch 3 / 4, loss: 2.0547\n"
     ]
    },
    {
     "data": {
      "application/vnd.jupyter.widget-view+json": {
       "model_id": "",
       "version_major": 2,
       "version_minor": 0
      },
      "text/plain": [
       "HBox(children=(IntProgress(value=0, description='epoch 4 / 4', max=9389, style=ProgressStyle(description_width…"
      ]
     },
     "metadata": {},
     "output_type": "display_data"
    },
    {
     "name": "stdout",
     "output_type": "stream",
     "text": [
      "\r",
      "epoch 4 / 4, loss: 1.9975\n"
     ]
    },
    {
     "data": {
      "image/png": "[encoded data removed]",
      "text/plain": [
       "<Figure size 432x288 with 1 Axes>"
      ]
     },
     "metadata": {
      "needs_background": "light"
     },
     "output_type": "display_data"
    }
   ],
   "source": [
    "data_set = TextDataset(num_chars=2)\n",
    "two_char_net = TwoCharNet().cuda()\n",
    "trainer = Trainer(two_char_net, data_set, num_epochs=4, batch_size=1024)\n",
    "trainer.train()"
   ]
  },
  {
   "cell_type": "markdown",
   "metadata": {},
   "source": [
    "## Test the 2-character feed-forward network\n",
    "\n",
    "It's... slightly better than before."
   ]
  },
  {
   "cell_type": "code",
   "execution_count": 16,
   "metadata": {},
   "outputs": [
    {
     "name": "stdout",
     "output_type": "stream",
     "text": [
      "there will be many issues withe of the of the of the of the of the of the of the of the of the of the of the of the of the of the \n"
     ]
    }
   ],
   "source": [
    "generated_text = generate_text(two_char_net, data_set, 2, choices=1)\n",
    "print(generated_text)"
   ]
  },
  {
   "cell_type": "code",
   "execution_count": 17,
   "metadata": {},
   "outputs": [
    {
     "name": "stdout",
     "output_type": "stream",
     "text": [
      "there will be many issues witheres and ingen onst istingere torest to by\n",
      "surestingen ther ther to to be there on of a se tore tor \n"
     ]
    }
   ],
   "source": [
    "generated_text = generate_text(two_char_net, data_set, 2, choices=2)\n",
    "print(generated_text)"
   ]
  },
  {
   "cell_type": "code",
   "execution_count": 18,
   "metadata": {},
   "outputs": [
    {
     "name": "stdout",
     "output_type": "stream",
     "text": [
      "there will be many issues withistraterst toreariess and trin int whave fromencies as asenciestiore faity se thatioreaters he\n",
      "phe o\n"
     ]
    }
   ],
   "source": [
    "generated_text = generate_text(two_char_net, data_set, 2, choices=3)\n",
    "print(generated_text)"
   ]
  },
  {
   "cell_type": "markdown",
   "metadata": {},
   "source": [
    "## Define an N-character feed-forward network\n",
    "\n",
    "Lets modify our 2-character network to allow an arbitrary number of characters as inputs. Now our network will now look like this:\n",
    "\n",
    "```\n",
    "\n",
    "INPUT            EMBED          DENSE 1            DENSE 2           SOFTMAX\n",
    "\n",
    "1st char idx --> embedding -->  linear + relu -->  linear + tanh\n",
    "                                                      |\n",
    "                                                      v\n",
    "2nd char idx --> embedding -->  linear + relu -->  linear + tanh\n",
    "                                                      |\n",
    "                                                      v\n",
    "                                                     ...\n",
    "                                                      |\n",
    "                                                      v\n",
    "nth char idx --> embedding -->  linear + relu -->  linear + tanh --> linear + softmax\n",
    "                                                                          |\n",
    "                                                                          v\n",
    "                                                                     output char idx predictions\n",
    "```"
   ]
  },
  {
   "cell_type": "code",
   "execution_count": 19,
   "metadata": {},
   "outputs": [],
   "source": [
    "import torch.nn as nn\n",
    "\n",
    "VOCAB_SIZE = len(train_ds.chars)\n",
    "EMBED_PARAMS = 42\n",
    "HIDDEN_PARAMS = 256\n",
    "LAYERS = (\n",
    "    (VOCAB_SIZE, EMBED_PARAMS),  # Embedding\n",
    "    (EMBED_PARAMS, HIDDEN_PARAMS),  # Dense 1\n",
    "    (2*HIDDEN_PARAMS, HIDDEN_PARAMS),  # Dense 2\n",
    "    (HIDDEN_PARAMS, VOCAB_SIZE),  # Output\n",
    ")\n",
    "\n",
    "class NCharNet(nn.Module):\n",
    "    def __init__(self):\n",
    "        super().__init__()    \n",
    "        # Parameterized layers\n",
    "        self.embedding = nn.Embedding(*LAYERS[0])\n",
    "        self.dense_1 = nn.Linear(*LAYERS[1])\n",
    "        self.dense_2 = nn.Linear(*LAYERS[2])\n",
    "        self.out = nn.Linear(*LAYERS[3])\n",
    "        # Functions\n",
    "        self.relu = nn.ReLU()\n",
    "        self.tanh = nn.Tanh()\n",
    "\n",
    "        self.softmax = nn.LogSoftmax(dim=1)\n",
    "        \n",
    "    def forward(self, input_t):\n",
    "        # Get the embedding for each character\n",
    "        embed_acts = self.embedding(input_t)\n",
    "        \n",
    "        # Run each character through the first dense layer\n",
    "        dense_1_acts = self.relu(self.dense_1(embed_acts))\n",
    "        batch_size, num_chars, num_hidden = dense_1_acts.shape\n",
    "        \n",
    "        # Initialize the second dense layer activations as all 0s\n",
    "        dense_2_acts = torch.zeros(batch_size, num_hidden).cuda()\n",
    "\n",
    "        # Run each character's activations through second dense layer. \n",
    "        for i in range(num_chars):\n",
    "            char_acts = dense_1_acts[:, i, :]\n",
    "            dense_2_in = torch.cat((char_acts, dense_2_acts), 1)\n",
    "            dense_2_acts = self.tanh(self.dense_2(dense_2_in))\n",
    "\n",
    "        # Make a prediction over character classes given the final dense 2 activations\n",
    "        prediction = self.softmax(self.out(dense_2_acts))\n",
    "        return prediction"
   ]
  },
  {
   "cell_type": "markdown",
   "metadata": {},
   "source": [
    "## Train the N-character feed-forward network\n",
    "\n",
    "You can see that using more characters continues to improve our final loss. We're also able to train out networks for longer. I also tweaked the batch size here to be smaller. This will take longer to compute, but will probably result in less redundant data per update and thus a better overall loss."
   ]
  },
  {
   "cell_type": "code",
   "execution_count": 20,
   "metadata": {},
   "outputs": [
    {
     "data": {
      "application/vnd.jupyter.widget-view+json": {
       "model_id": "",
       "version_major": 2,
       "version_minor": 0
      },
      "text/plain": [
       "HBox(children=(IntProgress(value=0, description='epoch 1 / 4', max=9389, style=ProgressStyle(description_width…"
      ]
     },
     "metadata": {},
     "output_type": "display_data"
    },
    {
     "name": "stdout",
     "output_type": "stream",
     "text": [
      "\r",
      "epoch 1 / 4, loss: 1.5621\n"
     ]
    },
    {
     "data": {
      "application/vnd.jupyter.widget-view+json": {
       "model_id": "",
       "version_major": 2,
       "version_minor": 0
      },
      "text/plain": [
       "HBox(children=(IntProgress(value=0, description='epoch 2 / 4', max=9389, style=ProgressStyle(description_width…"
      ]
     },
     "metadata": {},
     "output_type": "display_data"
    },
    {
     "name": "stdout",
     "output_type": "stream",
     "text": [
      "\r",
      "epoch 2 / 4, loss: 1.5140\n"
     ]
    },
    {
     "data": {
      "application/vnd.jupyter.widget-view+json": {
       "model_id": "",
       "version_major": 2,
       "version_minor": 0
      },
      "text/plain": [
       "HBox(children=(IntProgress(value=0, description='epoch 3 / 4', max=9389, style=ProgressStyle(description_width…"
      ]
     },
     "metadata": {},
     "output_type": "display_data"
    },
    {
     "name": "stdout",
     "output_type": "stream",
     "text": [
      "\r",
      "epoch 3 / 4, loss: 1.4026\n"
     ]
    },
    {
     "data": {
      "application/vnd.jupyter.widget-view+json": {
       "model_id": "",
       "version_major": 2,
       "version_minor": 0
      },
      "text/plain": [
       "HBox(children=(IntProgress(value=0, description='epoch 4 / 4', max=9389, style=ProgressStyle(description_width…"
      ]
     },
     "metadata": {},
     "output_type": "display_data"
    },
    {
     "name": "stdout",
     "output_type": "stream",
     "text": [
      "\r",
      "epoch 4 / 4, loss: 1.4533\n"
     ]
    },
    {
     "data": {
      "image/png": "[encoded data removed]",
      "text/plain": [
       "<Figure size 432x288 with 1 Axes>"
      ]
     },
     "metadata": {
      "needs_background": "light"
     },
     "output_type": "display_data"
    }
   ],
   "source": [
    "n = 12\n",
    "data_set = TextDataset(num_chars=n)\n",
    "n_char_net = NCharNet().cuda()\n",
    "trainer = Trainer(n_char_net, data_set, num_epochs=4, batch_size=512)\n",
    "trainer.train()"
   ]
  },
  {
   "cell_type": "markdown",
   "metadata": {},
   "source": [
    "## Test the N-character feed-forward network\n",
    "\n",
    "This is the best result so far. It's not _great_ but it's better than the 2-layer network."
   ]
  },
  {
   "cell_type": "code",
   "execution_count": 21,
   "metadata": {},
   "outputs": [
    {
     "name": "stdout",
     "output_type": "stream",
     "text": [
      "there will be many issues with the moral the moral the moral the moral the moral the moral the moral the moral the moral the moral\n"
     ]
    }
   ],
   "source": [
    "generated_text = generate_text(n_char_net, data_set, n, choices=1)\n",
    "print(generated_text)"
   ]
  },
  {
   "cell_type": "code",
   "execution_count": 22,
   "metadata": {},
   "outputs": [
    {
     "name": "stdout",
     "output_type": "stream",
     "text": [
      "who is to say what the moral the moral the moral the moral the moral the moral the moral the moral the moral the moral the\n"
     ]
    }
   ],
   "source": [
    "seed = 'Who is to say what the'\n",
    "generated_text = generate_text(n_char_net, data_set, n, seed=seed, choices=1)\n",
    "print(generated_text)"
   ]
  },
  {
   "cell_type": "code",
   "execution_count": 23,
   "metadata": {},
   "outputs": [
    {
     "name": "stdout",
     "output_type": "stream",
     "text": [
      "there will be many issues with a mast of\n",
      "the\n",
      "excipates,\n",
      "than toon to beligion as an\n",
      "actival and\n",
      "distrumphanizing,\n",
      "the\n",
      "entianists, \n"
     ]
    }
   ],
   "source": [
    "generated_text = generate_text(n_char_net, data_set, n, choices=2)\n",
    "print(generated_text)"
   ]
  },
  {
   "cell_type": "code",
   "execution_count": 24,
   "metadata": {},
   "outputs": [
    {
     "name": "stdout",
     "output_type": "stream",
     "text": [
      "there will be many issues with\n",
      "seritute,\"\n",
      "is\n",
      "truibers,\n",
      "true\n",
      "ton toongs an all\n",
      "timing,\"\n",
      "an an exict, as an endusivance, it\n",
      "in man,\n",
      "\n"
     ]
    }
   ],
   "source": [
    "generated_text = generate_text(n_char_net, data_set, n, choices=3)\n",
    "print(generated_text)"
   ]
  },
  {
   "cell_type": "markdown",
   "metadata": {},
   "source": [
    "## Using Pytorch's RNN module\n",
    "\n",
    "You can use a PyTorch module to implement our N-character feed-forward network in fewer lines of code. PyTorch's [RNN class](https://pytorch.org/docs/stable/nn.html#torch.nn.RNN):\n",
    "\n",
    "- does essentially the same thing as before\n",
    "- has internal weights for both the input and hidden state\n",
    "- does not apply a ReLU to the input like we did earlier\n",
    "- does element-wise addition of input and hidden state by default (not concatenation)\n",
    "\n",
    "The RNN `forward` function returns two values, which are explained [here](https://stackoverflow.com/questions/48302810/whats-the-difference-between-hidden-and-output-in-pytorch-lstm).\n",
    "\n",
    "As you can see below, this implementation achieves a similar loss on the training set to `NCharNet`."
   ]
  },
  {
   "cell_type": "code",
   "execution_count": 25,
   "metadata": {},
   "outputs": [],
   "source": [
    "import torch.nn as nn\n",
    "\n",
    "VOCAB_SIZE = len(train_ds.chars)\n",
    "EMBED_PARAMS = 42\n",
    "HIDDEN_PARAMS = 256\n",
    "LAYERS = (\n",
    "    (VOCAB_SIZE, EMBED_PARAMS),  # Embedding\n",
    "    (EMBED_PARAMS, HIDDEN_PARAMS),  # RNN\n",
    "    (HIDDEN_PARAMS, VOCAB_SIZE),  # Output\n",
    ")\n",
    "\n",
    "class NCharNetSimplified(nn.Module):\n",
    "    def __init__(self):\n",
    "        super().__init__()    \n",
    "        # Parameterized layers\n",
    "        self.embedding = nn.Embedding(*LAYERS[0])\n",
    "        self.rnn = nn.RNN(*LAYERS[1], batch_first=True)\n",
    "        self.out = nn.Linear(*LAYERS[2])\n",
    "        \n",
    "        # Initialize hidden-hidden transition weights to be the identity matrix,\n",
    "        # to ensure that our hidden-state activations start out stable\n",
    "        self.rnn.weight_hh_l0.data.copy_(torch.eye(HIDDEN_PARAMS))\n",
    "        \n",
    "        # Functions\n",
    "        self.softmax = nn.LogSoftmax(dim=1)\n",
    "            \n",
    "    def forward(self, input_t):\n",
    "        # Get the embedding for each character\n",
    "        embed_acts = self.embedding(input_t)\n",
    "        batch_size = embed_acts.shape[0]\n",
    "        \n",
    "        # Initialize the RNN hidden state activations as all 0s\n",
    "        hidden_acts = torch.zeros(1, batch_size, HIDDEN_PARAMS).cuda()\n",
    "\n",
    "        # Run each character's activations through the RNN in sequence.\n",
    "        rnn_history_acts, _ = self.rnn(embed_acts, hidden_acts)\n",
    "        rnn_final_acts = rnn_history_acts[:, -1, :].squeeze(dim=1)\n",
    "\n",
    "        # Make a prediction over character classes given the RNN hidden state activations\n",
    "        prediction = self.softmax(self.out(rnn_final_acts))\n",
    "        return prediction"
   ]
  },
  {
   "cell_type": "code",
   "execution_count": 26,
   "metadata": {},
   "outputs": [
    {
     "data": {
      "application/vnd.jupyter.widget-view+json": {
       "model_id": "",
       "version_major": 2,
       "version_minor": 0
      },
      "text/plain": [
       "HBox(children=(IntProgress(value=0, description='epoch 1 / 4', max=9389, style=ProgressStyle(description_width…"
      ]
     },
     "metadata": {},
     "output_type": "display_data"
    },
    {
     "name": "stdout",
     "output_type": "stream",
     "text": [
      "\r",
      "epoch 1 / 4, loss: 1.6898\n"
     ]
    },
    {
     "data": {
      "application/vnd.jupyter.widget-view+json": {
       "model_id": "",
       "version_major": 2,
       "version_minor": 0
      },
      "text/plain": [
       "HBox(children=(IntProgress(value=0, description='epoch 2 / 4', max=9389, style=ProgressStyle(description_width…"
      ]
     },
     "metadata": {},
     "output_type": "display_data"
    },
    {
     "name": "stdout",
     "output_type": "stream",
     "text": [
      "\r",
      "epoch 2 / 4, loss: 1.5328\n"
     ]
    },
    {
     "data": {
      "application/vnd.jupyter.widget-view+json": {
       "model_id": "",
       "version_major": 2,
       "version_minor": 0
      },
      "text/plain": [
       "HBox(children=(IntProgress(value=0, description='epoch 3 / 4', max=9389, style=ProgressStyle(description_width…"
      ]
     },
     "metadata": {},
     "output_type": "display_data"
    },
    {
     "name": "stdout",
     "output_type": "stream",
     "text": [
      "\r",
      "epoch 3 / 4, loss: 1.4597\n"
     ]
    },
    {
     "data": {
      "application/vnd.jupyter.widget-view+json": {
       "model_id": "",
       "version_major": 2,
       "version_minor": 0
      },
      "text/plain": [
       "HBox(children=(IntProgress(value=0, description='epoch 4 / 4', max=9389, style=ProgressStyle(description_width…"
      ]
     },
     "metadata": {},
     "output_type": "display_data"
    },
    {
     "name": "stdout",
     "output_type": "stream",
     "text": [
      "\r",
      "epoch 4 / 4, loss: 1.4586\n"
     ]
    },
    {
     "data": {
      "image/png": "[encoded data removed]",
      "text/plain": [
       "<Figure size 432x288 with 1 Axes>"
      ]
     },
     "metadata": {
      "needs_background": "light"
     },
     "output_type": "display_data"
    }
   ],
   "source": [
    "# Train NCharNetSimplified for a few epochs.\n",
    "n = 12\n",
    "data_set = TextDataset(num_chars=n)\n",
    "n_char_net = NCharNetSimplified().cuda()\n",
    "trainer = Trainer(n_char_net, data_set, num_epochs=4, batch_size=512)\n",
    "trainer.train()"
   ]
  },
  {
   "cell_type": "code",
   "execution_count": 27,
   "metadata": {},
   "outputs": [
    {
     "name": "stdout",
     "output_type": "stream",
     "text": [
      "there will be many issues with the fact to be state of the fact to be state of the fact to be state of the fact to be state of the\n"
     ]
    }
   ],
   "source": [
    "# Check the model output.\n",
    "generated_text = generate_text(n_char_net, data_set, n)\n",
    "print(generated_text)"
   ]
  },
  {
   "cell_type": "markdown",
   "metadata": {},
   "source": [
    "# Training more efficiently\n",
    "\n",
    "One feature of PyTorch's RNN module is that it doesn't just output the last hidden activation of a sequence, it instead outputs a list of predicted activations. That is:\n",
    "\n",
    "```\n",
    "IN      CHAR     EMBED       HIDDEN      PREDICT\n",
    "\n",
    "H  -->  1    --> [.2,.3] --> [.9,.1] --> e\n",
    "e  -->  42   --> [.4,.1] --> [.8,.2] --> l\n",
    "l  -->  32   --> [.2,.3] --> [.7,.3] --> l\n",
    "l  -->  11   --> [.2,.5] --> [.6,.4] --> o\n",
    "o  -->  9    --> [.5,.3] --> [.5,.5] --> \n",
    "   -->  53   --> [.7,.3] --> [.4,.6] --> W\n",
    "W  -->  52   --> [.4,.1] --> [.3,.7] --> o\n",
    "o  -->  78   --> [.2,.3] --> [.2,.8] --> r\n",
    "r  -->  92   --> [.3,.2] --> [.1,.9] --> l\n",
    "l  -->  31   --> [.1,.7] --> [.1,.1] --> d\n",
    "                             \n",
    "```\n",
    "\n",
    "We can leverage this feature to train our model more efficiently (maybe?). We will also be using this feature in future steps, so we need to update our architecture anyway.\n",
    "\n",
    "Note that I skipped over the softmax step in the above diagram for simplcity. \n",
    "\n",
    "### The problem\n",
    "\n",
    "Currently for the sentence \"Hello World!\", and a 5 character window, we would do the following training steps:\n",
    "\n",
    "```\n",
    "Hello World! How are you?\n",
    "\n",
    "Hello[ ]\n",
    " ello [W]\n",
    "  llo W[o]\n",
    "   lo Wo[r]\n",
    "    o Wor[l]\n",
    "      Worl[d]\n",
    "      World[!]\n",
    "       ... etc\n",
    "```\n",
    "\n",
    "That will be 20 training steps for 25 characters (25 - 5), and this will grow linearly in the number of characters in our  training data: For N characters we will do `N - 5` training steps per epoch.\n",
    "\n",
    "### An improvement\n",
    "\n",
    "We can split our training data into non-overlapping segment as follows:\n",
    "\n",
    "```\n",
    "Hello World! How are you?\n",
    "\n",
    "INPUT       PREDICTION\n",
    "\n",
    "'Hello' --> 'ello '\n",
    "' Worl' --> 'World'\n",
    "'d! Ho' --> '! How'\n",
    "'w are' --> ' are '\n",
    "' you?' --> 'you? '\n",
    "```\n",
    "\n",
    "This is 5 training steps for 25 characters (25 / 5). For N characters we will do `N / 5` traning steps per epoch. \n",
    "\n",
    "### Really?\n",
    "\n",
    "I'm not sure that each update step done using this training method is equivalent to an update step done in the previous \"one character at a time\" method, so I'm not fully confident that this new method is _actually_ more efficient in terms of wall-clock time spent to get the same result. It definitely chews through epochs more quickly. In any case we need this new architecture for the next step.\n",
    "\n",
    "### Implementation\n",
    "\n",
    "We will need to:\n",
    "\n",
    "- Update our Dataset to return data in segments\n",
    "- Update our model to return all RNN outputs\n",
    "- Define a new loss function to handle the output vectors"
   ]
  },
  {
   "cell_type": "code",
   "execution_count": 28,
   "metadata": {},
   "outputs": [],
   "source": [
    "# Updating our Dataset\n",
    "class SegmentedTextDataset(TextDataset):\n",
    "    def __len__(self):\n",
    "        \"\"\"\n",
    "        How many samples there are in the dataset.\n",
    "        \"\"\"\n",
    "        return len(self.text) // self.num_chars - 1\n",
    "\n",
    "    def __getitem__(self, idx):\n",
    "        \"\"\"\n",
    "        Get item by integer index,\n",
    "        returns (x_1, x_2, ..., x_n), (x_2, x_3, ..., x_{n+1})\n",
    "        \"\"\"\n",
    "        i = idx * self.num_chars\n",
    "        inputs = torch.tensor([self.char_to_idx[c] for c in self.text[i:i + self.num_chars]])\n",
    "        label = torch.tensor([self.char_to_idx[c] for c in self.text[i + 1:i + 1 + self.num_chars]])\n",
    "        return inputs, label"
   ]
  },
  {
   "cell_type": "code",
   "execution_count": 29,
   "metadata": {},
   "outputs": [
    {
     "name": "stdout",
     "output_type": "stream",
     "text": [
      "Source text: 'preface\\n\\n\\nsupposing '\n",
      "Int form: [42, 44, 31, 32, 27, 29, 31, 0, 0, 0, 45, 47, 42, 42, 41, 45, 35, 40, 33, 1]\n",
      "Sample 0 - input tensor([42, 44, 31, 32]) label tensor([44, 31, 32, 27])\n",
      "Sample 1 - input tensor([27, 29, 31,  0]) label tensor([29, 31,  0,  0])\n",
      "Sample 2 - input tensor([ 0,  0, 45, 47]) label tensor([ 0, 45, 47, 42])\n",
      "Sample 3 - input tensor([42, 42, 41, 45]) label tensor([42, 41, 45, 35])\n",
      "Sample 4 - input tensor([35, 40, 33,  1]) label tensor([40, 33,  1, 46])\n"
     ]
    }
   ],
   "source": [
    "# Let's check that this works as intended.\n",
    "train_ds = SegmentedTextDataset(num_chars=4)\n",
    "print('Source text:', repr(train_ds.text[:20]))\n",
    "print('Int form:', [train_ds.char_to_idx[c] for c in train_ds.text[:20]])\n",
    "for i in range(5):\n",
    "    xs, y = train_ds[i]\n",
    "    print('Sample', i, '- input', xs, 'label', y)"
   ]
  },
  {
   "cell_type": "code",
   "execution_count": 30,
   "metadata": {},
   "outputs": [],
   "source": [
    "# Updating our model\n",
    "import torch.nn as nn\n",
    "\n",
    "VOCAB_SIZE = len(train_ds.chars)\n",
    "EMBED_PARAMS = 42\n",
    "HIDDEN_PARAMS = 256\n",
    "LAYERS = (\n",
    "    (VOCAB_SIZE, EMBED_PARAMS),  # Embedding\n",
    "    (EMBED_PARAMS, HIDDEN_PARAMS),  # RNN\n",
    "    (HIDDEN_PARAMS, VOCAB_SIZE),  # Output\n",
    ")\n",
    "\n",
    "class NCharNetSegmented(nn.Module):\n",
    "    def __init__(self):\n",
    "        super().__init__()    \n",
    "        # Parameterized layers\n",
    "        self.embedding = nn.Embedding(*LAYERS[0])\n",
    "        self.rnn = nn.RNN(*LAYERS[1], batch_first=True)\n",
    "        self.out = nn.Linear(*LAYERS[2])\n",
    "        \n",
    "        # Initialize hidden-hidden transition weights to be the identity matrix,\n",
    "        # to ensure that our hidden-state activations start out stable\n",
    "        self.rnn.weight_hh_l0.data.copy_(torch.eye(HIDDEN_PARAMS))\n",
    "\n",
    "        # We want to softmax over the vocab, where the input tensor\n",
    "        # has the shape (batch x sequence x vocab)\n",
    "        self.softmax = nn.LogSoftmax(dim=2)\n",
    "            \n",
    "    def forward(self, input_t):\n",
    "        # Get the embedding for each character\n",
    "        embed_acts = self.embedding(input_t)\n",
    "        batch_size = embed_acts.shape[0]\n",
    "        \n",
    "        # Initialize the RNN hidden state activations as all 0s\n",
    "        hidden_acts = torch.zeros(1, batch_size, HIDDEN_PARAMS).cuda()\n",
    "\n",
    "        # Run each character's activations through the RNN in sequence.\n",
    "        rnn_acts, _ = self.rnn(embed_acts, hidden_acts)\n",
    "\n",
    "        # Make a prediction over character classes given the RNN hidden state activations\n",
    "        prediction = self.softmax(self.out(rnn_acts))\n",
    "        return prediction"
   ]
  },
  {
   "cell_type": "code",
   "execution_count": 31,
   "metadata": {},
   "outputs": [],
   "source": [
    "# Create custom loss function\n",
    "class CrossEntropySequential:\n",
    "    def __init__(self):\n",
    "        self.ce =  nn.CrossEntropyLoss()\n",
    "\n",
    "    def __call__(self, inputs, target):\n",
    "        \"\"\"\n",
    "        Reshape targets and inputs before passing to the loss function.\n",
    "        \n",
    "        inputs: batch x seq x vocab => batch*seq x vocab\n",
    "        target: batch x seq         => batch*seq\n",
    "        \"\"\"\n",
    "        vocab_size = inputs.shape[2]\n",
    "        flat_inputs = inputs.view(-1, vocab_size)\n",
    "        flat_target = target.view(-1)\n",
    "        return self.ce(flat_inputs, flat_target)"
   ]
  },
  {
   "cell_type": "code",
   "execution_count": 32,
   "metadata": {},
   "outputs": [
    {
     "data": {
      "application/vnd.jupyter.widget-view+json": {
       "model_id": "",
       "version_major": 2,
       "version_minor": 0
      },
      "text/plain": [
       "HBox(children=(IntProgress(value=0, description='epoch 1 / 6', max=783, style=ProgressStyle(description_width=…"
      ]
     },
     "metadata": {},
     "output_type": "display_data"
    },
    {
     "name": "stdout",
     "output_type": "stream",
     "text": [
      "\r",
      "epoch 1 / 6, loss: 2.0212\n"
     ]
    },
    {
     "data": {
      "application/vnd.jupyter.widget-view+json": {
       "model_id": "",
       "version_major": 2,
       "version_minor": 0
      },
      "text/plain": [
       "HBox(children=(IntProgress(value=0, description='epoch 2 / 6', max=783, style=ProgressStyle(description_width=…"
      ]
     },
     "metadata": {},
     "output_type": "display_data"
    },
    {
     "name": "stdout",
     "output_type": "stream",
     "text": [
      "\r",
      "epoch 2 / 6, loss: 1.8071\n"
     ]
    },
    {
     "data": {
      "application/vnd.jupyter.widget-view+json": {
       "model_id": "",
       "version_major": 2,
       "version_minor": 0
      },
      "text/plain": [
       "HBox(children=(IntProgress(value=0, description='epoch 3 / 6', max=783, style=ProgressStyle(description_width=…"
      ]
     },
     "metadata": {},
     "output_type": "display_data"
    },
    {
     "name": "stdout",
     "output_type": "stream",
     "text": [
      "\r",
      "epoch 3 / 6, loss: 1.7250\n"
     ]
    },
    {
     "data": {
      "application/vnd.jupyter.widget-view+json": {
       "model_id": "",
       "version_major": 2,
       "version_minor": 0
      },
      "text/plain": [
       "HBox(children=(IntProgress(value=0, description='epoch 4 / 6', max=783, style=ProgressStyle(description_width=…"
      ]
     },
     "metadata": {},
     "output_type": "display_data"
    },
    {
     "name": "stdout",
     "output_type": "stream",
     "text": [
      "\r",
      "epoch 4 / 6, loss: 1.6780\n"
     ]
    },
    {
     "data": {
      "application/vnd.jupyter.widget-view+json": {
       "model_id": "",
       "version_major": 2,
       "version_minor": 0
      },
      "text/plain": [
       "HBox(children=(IntProgress(value=0, description='epoch 5 / 6', max=783, style=ProgressStyle(description_width=…"
      ]
     },
     "metadata": {},
     "output_type": "display_data"
    },
    {
     "name": "stdout",
     "output_type": "stream",
     "text": [
      "\r",
      "epoch 5 / 6, loss: 1.6975\n"
     ]
    },
    {
     "data": {
      "application/vnd.jupyter.widget-view+json": {
       "model_id": "",
       "version_major": 2,
       "version_minor": 0
      },
      "text/plain": [
       "HBox(children=(IntProgress(value=0, description='epoch 6 / 6', max=783, style=ProgressStyle(description_width=…"
      ]
     },
     "metadata": {},
     "output_type": "display_data"
    },
    {
     "name": "stdout",
     "output_type": "stream",
     "text": [
      "\r",
      "epoch 6 / 6, loss: 1.6381\n"
     ]
    },
    {
     "data": {
      "image/png": "[encoded data removed]",
      "text/plain": [
       "<Figure size 432x288 with 1 Axes>"
      ]
     },
     "metadata": {
      "needs_background": "light"
     },
     "output_type": "display_data"
    }
   ],
   "source": [
    "# Train NCharNetSegmented for a few epochs.\n",
    "n = 12\n",
    "num_epochs = 6\n",
    "batch_size = 64\n",
    "\n",
    "data_set = SegmentedTextDataset(num_chars=n)\n",
    "criterion = CrossEntropySequential()\n",
    "n_char_segmented_net = NCharNetSegmented().cuda()\n",
    "trainer = Trainer(\n",
    "    n_char_segmented_net,\n",
    "    data_set,\n",
    "    num_epochs=num_epochs,\n",
    "    batch_size=batch_size,\n",
    "    criterion=criterion\n",
    ")\n",
    "trainer.train()"
   ]
  },
  {
   "cell_type": "code",
   "execution_count": 33,
   "metadata": {},
   "outputs": [],
   "source": [
    "import random\n",
    "\n",
    "def generate_text_seq(net, data_set, num_chars, length=100, seed='There will be many issues with ', choices=1):\n",
    "    \"\"\"\n",
    "    Use the provided `net` model to generate a sequence of characters, based on the seed.\n",
    "    \"\"\"\n",
    "    text = seed.lower()\n",
    "    for _ in range(length):\n",
    "        input_text = text[-num_chars:]\n",
    "        input_idxs = torch.tensor([data_set.char_to_idx[c] for c in input_text]).unsqueeze(dim=0).cuda()\n",
    "        predictions = net(input_idxs).detach().squeeze().cpu().numpy()\n",
    "        top_n_idxs = predictions[-1].argsort()[-choices:]\n",
    "        chosen_idx = random.choice(top_n_idxs)\n",
    "        chosen_char = data_set.idx_to_char[chosen_idx.item()]        \n",
    "        text += chosen_char\n",
    "    \n",
    "    return text"
   ]
  },
  {
   "cell_type": "code",
   "execution_count": 34,
   "metadata": {},
   "outputs": [
    {
     "name": "stdout",
     "output_type": "stream",
     "text": [
      "there will be many issues with the same the same the same the same the same the same the same the same the same the same the same t\n"
     ]
    }
   ],
   "source": [
    "generated_text = generate_text_seq(n_char_segmented_net, data_set, n)\n",
    "print(generated_text)"
   ]
  },
  {
   "cell_type": "markdown",
   "metadata": {},
   "source": [
    "# Remembering\n",
    "\n",
    "Currently our N-character RNN looks at N characters and predicts the N+1th character. When we ask it to predict the N+2th character, it throws away the hidden state from the last prediction and starts again. Our RNN acts as a stateless \"pure function\": its output is fully determined by its input, independent of what it has seen before. This stateless behaviour is the reason why we get stuck in these stupid loops:\n",
    "\n",
    "> there will be many issues with the most the same the same the same the same the same the same the same the same the same the same t\n",
    "\n",
    "Instead of throwing away our history, we can preserve and re-use it inside the RNN, which will hopefully lead to a better language model.\n",
    "\n",
    "We're going to have to make a couple of changes to our code to accomodate this new stateful RNN.\n",
    "\n",
    "### Preserve Hidden State\n",
    "\n",
    "The RNN will need to preserve its hidden state activations between each training batch, so that it can keep track of what it has seen so far.\n",
    "\n",
    "### Custom Data Loader\n",
    "\n",
    "Previously each prediction made by our model was independent, so the order of training data didn't matter, but now it does because of the hidden state, which is preserved between batches. Each successive training batch will need to contain the successor text of the last batch. Our input data currently comes out in this format:\n",
    "\n",
    "```\n",
    "BATCH   ELEMENT 0        ELEMENT 1 \n",
    "0       'preface   su'   'pposing that'\n",
    "1       'truth is a'     ' woman--what'\n",
    "2       'then? is the'   're not groun'\n",
    "```\n",
    "\n",
    "As you can see, element 1 of batch 0 follows element 0 in the same batch. Instead of each batch containing a contiguous sequence of text, we need each _element_ to contain a contiguous sequence, so that our hidden state can be used effectively in training:\n",
    "\n",
    "```\n",
    "BATCH   ELEMENT 0        ELEMENT 1 \n",
    "0       'preface   su'   ' woman--what'\n",
    "1       'pposing that'   'then? is the'\n",
    "2       'truth is a'     're not groun'\n",
    "```\n",
    "\n",
    "We need to write our own data sampler to ensure that our training data comes out in this element-wise sequential order."
   ]
  },
  {
   "cell_type": "code",
   "execution_count": 35,
   "metadata": {},
   "outputs": [],
   "source": [
    "# Custom Sampler\n",
    "from torch.utils.data.sampler import Sampler\n",
    "\n",
    "class MultiStreamSampler(Sampler):\n",
    "    def __init__(self, data_set, batch_size):\n",
    "        self.stream_size = len(data_set) // batch_size\n",
    "        self.batch_size = batch_size\n",
    "                \n",
    "    def __len__(self):\n",
    "        return self.stream_size * self.batch_size\n",
    "\n",
    "    def __iter__(self):\n",
    "        stream_offsets = [self.stream_size * i for i in range(self.batch_size)]\n",
    "        count = 0\n",
    "        while count < self.stream_size:\n",
    "            for offset in stream_offsets:\n",
    "                yield offset + count\n",
    "\n",
    "            count += 1"
   ]
  },
  {
   "cell_type": "code",
   "execution_count": 36,
   "metadata": {},
   "outputs": [
    {
     "name": "stdout",
     "output_type": "stream",
     "text": [
      "Old data loader\n",
      "batch 0: ['preface\\n\\n\\nsu', 'pposing that'] \t ['reface\\n\\n\\nsup', 'posing that ']\n",
      "batch 1: [' truth is a ', 'woman--what '] \t ['truth is a w', 'oman--what t']\n",
      "batch 2: ['then? is the', 're not groun'] \t ['hen? is ther', 'e not ground']\n",
      "batch 3: ['d\\nfor suspec'] \t ['\\nfor suspect']\n",
      "New data loader\n",
      "batch 0: ['preface\\n\\n\\nsu', 'woman--what '] \t ['reface\\n\\n\\nsup', 'oman--what t']\n",
      "batch 1: ['pposing that', 'then? is the'] \t ['posing that ', 'hen? is ther']\n",
      "batch 2: [' truth is a ', 're not groun'] \t ['truth is a w', 'e not ground']\n"
     ]
    }
   ],
   "source": [
    "# Compare our old data loader with the new one\n",
    "n = 12\n",
    "batch_size = 2\n",
    "data_set = SegmentedTextDataset(num_chars=n)\n",
    "data_set.text = data_set.text[:100]\n",
    "\n",
    "old_dl = DataLoader(data_set, batch_size=batch_size)\n",
    "\n",
    "sampler = MultiStreamSampler(data_set, batch_size=batch_size)\n",
    "new_dl = DataLoader(data_set, batch_size=batch_size, sampler=sampler)\n",
    "\n",
    "def tensor_to_text(t):\n",
    "    return ''.join([data_set.idx_to_char[c_int.item()] for c_int in t])\n",
    "\n",
    "def batch_to_txt(batch):\n",
    "    inputs, labels = batch\n",
    "    print([tensor_to_text(el) for el in inputs], '\\t', [tensor_to_text(el) for el in labels])\n",
    "\n",
    "print('Old data loader')\n",
    "for idx, batch in enumerate(old_dl):\n",
    "    print(f'batch {idx}: ', end='')\n",
    "    batch_to_txt(batch)\n",
    "    \n",
    "print('New data loader')\n",
    "for idx, batch in enumerate(new_dl):\n",
    "    print(f'batch {idx}: ', end='')\n",
    "    batch_to_txt(batch)"
   ]
  },
  {
   "cell_type": "code",
   "execution_count": 37,
   "metadata": {},
   "outputs": [],
   "source": [
    "# Update our model to remember hidden state between forward passes\n",
    "import torch.nn as nn\n",
    "\n",
    "VOCAB_SIZE = len(train_ds.chars)\n",
    "EMBED_PARAMS = 42\n",
    "HIDDEN_PARAMS = 256\n",
    "LAYERS = (\n",
    "    (VOCAB_SIZE, EMBED_PARAMS),  # Embedding\n",
    "    (EMBED_PARAMS, HIDDEN_PARAMS),  # RNN\n",
    "    (HIDDEN_PARAMS, VOCAB_SIZE),  # Output\n",
    ")\n",
    "\n",
    "class RememberNet(nn.Module):\n",
    "    def __init__(self):\n",
    "        super().__init__()            \n",
    "        # Parameterized layers\n",
    "        self.embedding = nn.Embedding(*LAYERS[0])\n",
    "        self.rnn = nn.RNN(*LAYERS[1], batch_first=True)\n",
    "        self.out = nn.Linear(*LAYERS[2])\n",
    "        \n",
    "        # Initialize hidden-hidden transition weights to be the identity matrix,\n",
    "        # to ensure that our hidden-state activations start out stable\n",
    "        self.rnn.weight_hh_l0.data.copy_(torch.eye(HIDDEN_PARAMS))\n",
    "\n",
    "        # Initialize hidden state\n",
    "        self.reset_hidden_state(1)\n",
    "        \n",
    "        # Functions\n",
    "        self.softmax = nn.LogSoftmax(dim=2)\n",
    "        \n",
    "    def reset_hidden_state(self, batch_size):\n",
    "        # Initialize the RNN hidden state activations as all 0s\n",
    "        self.hidden_acts = torch.zeros(1, batch_size, HIDDEN_PARAMS).cuda()\n",
    "            \n",
    "    def forward(self, input_t):\n",
    "        # Get the embedding for each character\n",
    "        embed_acts = self.embedding(input_t)\n",
    "        \n",
    "        # Account for end-of-epoch batch where final batch size may be smaller\n",
    "        input_batch_size = embed_acts.shape[0]\n",
    "        hidden_batch_size = self.hidden_acts.shape[1]\n",
    "        if input_batch_size != hidden_batch_size:\n",
    "            self.reset_hidden_state(input_batch_size)\n",
    "    \n",
    "        # Run each character's activations through the RNN in sequence.\n",
    "        rnn_acts, new_hidden_acts = self.rnn(embed_acts, self.hidden_acts)\n",
    "        \n",
    "        # Detach hidden activations from their history to prevent a memory leak.\n",
    "        self.hidden_acts = new_hidden_acts.detach()\n",
    "\n",
    "        # Make a prediction over character classes given the RNN hidden state activations\n",
    "        prediction = self.softmax(self.out(rnn_acts))\n",
    "        return prediction"
   ]
  },
  {
   "cell_type": "code",
   "execution_count": 38,
   "metadata": {},
   "outputs": [
    {
     "data": {
      "application/vnd.jupyter.widget-view+json": {
       "model_id": "",
       "version_major": 2,
       "version_minor": 0
      },
      "text/plain": [
       "HBox(children=(IntProgress(value=0, description='epoch 1 / 12', max=782, style=ProgressStyle(description_width…"
      ]
     },
     "metadata": {},
     "output_type": "display_data"
    },
    {
     "name": "stdout",
     "output_type": "stream",
     "text": [
      "\r",
      "epoch 1 / 12, loss: 1.8948\n"
     ]
    },
    {
     "data": {
      "application/vnd.jupyter.widget-view+json": {
       "model_id": "",
       "version_major": 2,
       "version_minor": 0
      },
      "text/plain": [
       "HBox(children=(IntProgress(value=0, description='epoch 2 / 12', max=782, style=ProgressStyle(description_width…"
      ]
     },
     "metadata": {},
     "output_type": "display_data"
    },
    {
     "name": "stdout",
     "output_type": "stream",
     "text": [
      "\r",
      "epoch 2 / 12, loss: 1.6834\n"
     ]
    },
    {
     "data": {
      "application/vnd.jupyter.widget-view+json": {
       "model_id": "",
       "version_major": 2,
       "version_minor": 0
      },
      "text/plain": [
       "HBox(children=(IntProgress(value=0, description='epoch 3 / 12', max=782, style=ProgressStyle(description_width…"
      ]
     },
     "metadata": {},
     "output_type": "display_data"
    },
    {
     "name": "stdout",
     "output_type": "stream",
     "text": [
      "\r",
      "epoch 3 / 12, loss: 1.5837\n"
     ]
    },
    {
     "data": {
      "application/vnd.jupyter.widget-view+json": {
       "model_id": "",
       "version_major": 2,
       "version_minor": 0
      },
      "text/plain": [
       "HBox(children=(IntProgress(value=0, description='epoch 4 / 12', max=782, style=ProgressStyle(description_width…"
      ]
     },
     "metadata": {},
     "output_type": "display_data"
    },
    {
     "name": "stdout",
     "output_type": "stream",
     "text": [
      "\r",
      "epoch 4 / 12, loss: 1.5245\n"
     ]
    },
    {
     "data": {
      "application/vnd.jupyter.widget-view+json": {
       "model_id": "",
       "version_major": 2,
       "version_minor": 0
      },
      "text/plain": [
       "HBox(children=(IntProgress(value=0, description='epoch 5 / 12', max=782, style=ProgressStyle(description_width…"
      ]
     },
     "metadata": {},
     "output_type": "display_data"
    },
    {
     "name": "stdout",
     "output_type": "stream",
     "text": [
      "\r",
      "epoch 5 / 12, loss: 1.4825\n"
     ]
    },
    {
     "data": {
      "application/vnd.jupyter.widget-view+json": {
       "model_id": "",
       "version_major": 2,
       "version_minor": 0
      },
      "text/plain": [
       "HBox(children=(IntProgress(value=0, description='epoch 6 / 12', max=782, style=ProgressStyle(description_width…"
      ]
     },
     "metadata": {},
     "output_type": "display_data"
    },
    {
     "name": "stdout",
     "output_type": "stream",
     "text": [
      "\r",
      "epoch 6 / 12, loss: 1.4535\n"
     ]
    },
    {
     "data": {
      "application/vnd.jupyter.widget-view+json": {
       "model_id": "",
       "version_major": 2,
       "version_minor": 0
      },
      "text/plain": [
       "HBox(children=(IntProgress(value=0, description='epoch 7 / 12', max=782, style=ProgressStyle(description_width…"
      ]
     },
     "metadata": {},
     "output_type": "display_data"
    },
    {
     "name": "stdout",
     "output_type": "stream",
     "text": [
      "\r",
      "epoch 7 / 12, loss: 1.4327\n"
     ]
    },
    {
     "data": {
      "application/vnd.jupyter.widget-view+json": {
       "model_id": "",
       "version_major": 2,
       "version_minor": 0
      },
      "text/plain": [
       "HBox(children=(IntProgress(value=0, description='epoch 8 / 12', max=782, style=ProgressStyle(description_width…"
      ]
     },
     "metadata": {},
     "output_type": "display_data"
    },
    {
     "name": "stdout",
     "output_type": "stream",
     "text": [
      "\r",
      "epoch 8 / 12, loss: 1.4159\n"
     ]
    },
    {
     "data": {
      "application/vnd.jupyter.widget-view+json": {
       "model_id": "",
       "version_major": 2,
       "version_minor": 0
      },
      "text/plain": [
       "HBox(children=(IntProgress(value=0, description='epoch 9 / 12', max=782, style=ProgressStyle(description_width…"
      ]
     },
     "metadata": {},
     "output_type": "display_data"
    },
    {
     "name": "stdout",
     "output_type": "stream",
     "text": [
      "\r",
      "epoch 9 / 12, loss: 1.4013\n"
     ]
    },
    {
     "data": {
      "application/vnd.jupyter.widget-view+json": {
       "model_id": "",
       "version_major": 2,
       "version_minor": 0
      },
      "text/plain": [
       "HBox(children=(IntProgress(value=0, description='epoch 10 / 12', max=782, style=ProgressStyle(description_widt…"
      ]
     },
     "metadata": {},
     "output_type": "display_data"
    },
    {
     "name": "stdout",
     "output_type": "stream",
     "text": [
      "\r",
      "epoch 10 / 12, loss: 1.3883\n"
     ]
    },
    {
     "data": {
      "application/vnd.jupyter.widget-view+json": {
       "model_id": "",
       "version_major": 2,
       "version_minor": 0
      },
      "text/plain": [
       "HBox(children=(IntProgress(value=0, description='epoch 11 / 12', max=782, style=ProgressStyle(description_widt…"
      ]
     },
     "metadata": {},
     "output_type": "display_data"
    },
    {
     "name": "stdout",
     "output_type": "stream",
     "text": [
      "\r",
      "epoch 11 / 12, loss: 1.3777\n"
     ]
    },
    {
     "data": {
      "application/vnd.jupyter.widget-view+json": {
       "model_id": "",
       "version_major": 2,
       "version_minor": 0
      },
      "text/plain": [
       "HBox(children=(IntProgress(value=0, description='epoch 12 / 12', max=782, style=ProgressStyle(description_widt…"
      ]
     },
     "metadata": {},
     "output_type": "display_data"
    },
    {
     "name": "stdout",
     "output_type": "stream",
     "text": [
      "\r",
      "epoch 12 / 12, loss: 1.3692\n"
     ]
    },
    {
     "data": {
      "image/png": "[encoded data removed]",
      "text/plain": [
       "<Figure size 432x288 with 1 Axes>"
      ]
     },
     "metadata": {
      "needs_background": "light"
     },
     "output_type": "display_data"
    }
   ],
   "source": [
    "# Train RememberNet for a few epochs.\n",
    "n = 12\n",
    "batch_size = 64\n",
    "num_epochs = 12\n",
    "\n",
    "data_set = SegmentedTextDataset(num_chars=n)\n",
    "sampler = MultiStreamSampler(data_set, batch_size=batch_size)\n",
    "criterion = CrossEntropySequential()\n",
    "remember_net = RememberNet().cuda()\n",
    "trainer = Trainer(\n",
    "    remember_net,\n",
    "    data_set,\n",
    "    num_epochs=num_epochs,\n",
    "    batch_size=batch_size,\n",
    "    criterion=criterion,\n",
    "    shuffle=False,\n",
    "    sampler=sampler\n",
    ")\n",
    "trainer.train()"
   ]
  },
  {
   "cell_type": "code",
   "execution_count": 39,
   "metadata": {},
   "outputs": [
    {
     "name": "stdout",
     "output_type": "stream",
     "text": [
      "there will be many issues with the sense of the same the sense of the same the sense of the same the sense of the same the sense of\n"
     ]
    }
   ],
   "source": [
    "generated_text = generate_text_seq(remember_net, data_set, n)\n",
    "print(generated_text)"
   ]
  },
  {
   "cell_type": "markdown",
   "metadata": {},
   "source": [
    "# An den?"
   ]
  },
  {
   "cell_type": "code",
   "execution_count": 40,
   "metadata": {},
   "outputs": [],
   "source": [
    "# Update our model to remember hidden state between forward passes\n",
    "import torch.nn as nn\n",
    "\n",
    "VOCAB_SIZE = len(train_ds.chars)\n",
    "EMBED_PARAMS = 42\n",
    "HIDDEN_PARAMS = 256\n",
    "LAYERS = (\n",
    "    (VOCAB_SIZE, EMBED_PARAMS),  # Embedding\n",
    "    (EMBED_PARAMS, HIDDEN_PARAMS),  # RNN\n",
    "    (HIDDEN_PARAMS, VOCAB_SIZE),  # Output\n",
    ")\n",
    "\n",
    "class RememberGRUNet(nn.Module):\n",
    "    def __init__(self):\n",
    "        super().__init__()            \n",
    "        # Parameterized layers\n",
    "        self.embedding = nn.Embedding(*LAYERS[0])\n",
    "        self.rnn = nn.GRU(*LAYERS[1], batch_first=True)\n",
    "        self.out = nn.Linear(*LAYERS[2])\n",
    "        \n",
    "        # Initialize hidden-hidden transition weights to be the identity matrix,\n",
    "        # to ensure that our hidden-state activations start out stable\n",
    "#         self.rnn.weight_hh_l0.data.copy_(torch.eye(HIDDEN_PARAMS))\n",
    "\n",
    "        # Initialize hidden state\n",
    "        self.reset_hidden_state(1)\n",
    "        \n",
    "        # Functions\n",
    "        self.softmax = nn.LogSoftmax(dim=2)\n",
    "        \n",
    "    def reset_hidden_state(self, batch_size):\n",
    "        # Initialize the RNN hidden state activations as all 0s\n",
    "        self.hidden_acts = torch.zeros(1, batch_size, HIDDEN_PARAMS).cuda()\n",
    "            \n",
    "    def forward(self, input_t):\n",
    "        # Get the embedding for each character\n",
    "        embed_acts = self.embedding(input_t)\n",
    "        \n",
    "        # Account for end-of-epoch batch where final batch size may be smaller\n",
    "        input_batch_size = embed_acts.shape[0]\n",
    "        hidden_batch_size = self.hidden_acts.shape[1]\n",
    "        if input_batch_size != hidden_batch_size:\n",
    "            self.reset_hidden_state(input_batch_size)\n",
    "    \n",
    "        # Run each character's activations through the RNN in sequence.\n",
    "        rnn_acts, new_hidden_acts = self.rnn(embed_acts, self.hidden_acts)\n",
    "        \n",
    "        # Detach hidden activations from their history to prevent a memory leak.\n",
    "        self.hidden_acts = new_hidden_acts.detach()\n",
    "\n",
    "        # Make a prediction over character classes given the RNN hidden state activations\n",
    "        prediction = self.softmax(self.out(rnn_acts))\n",
    "        return prediction"
   ]
  },
  {
   "cell_type": "code",
   "execution_count": 41,
   "metadata": {},
   "outputs": [
    {
     "data": {
      "application/vnd.jupyter.widget-view+json": {
       "model_id": "",
       "version_major": 2,
       "version_minor": 0
      },
      "text/plain": [
       "HBox(children=(IntProgress(value=0, description='epoch 1 / 12', max=782, style=ProgressStyle(description_width…"
      ]
     },
     "metadata": {},
     "output_type": "display_data"
    },
    {
     "name": "stdout",
     "output_type": "stream",
     "text": [
      "\r",
      "epoch 1 / 12, loss: 1.6868\n"
     ]
    },
    {
     "data": {
      "application/vnd.jupyter.widget-view+json": {
       "model_id": "",
       "version_major": 2,
       "version_minor": 0
      },
      "text/plain": [
       "HBox(children=(IntProgress(value=0, description='epoch 2 / 12', max=782, style=ProgressStyle(description_width…"
      ]
     },
     "metadata": {},
     "output_type": "display_data"
    },
    {
     "name": "stdout",
     "output_type": "stream",
     "text": [
      "\r",
      "epoch 2 / 12, loss: 1.5005\n"
     ]
    },
    {
     "data": {
      "application/vnd.jupyter.widget-view+json": {
       "model_id": "",
       "version_major": 2,
       "version_minor": 0
      },
      "text/plain": [
       "HBox(children=(IntProgress(value=0, description='epoch 3 / 12', max=782, style=ProgressStyle(description_width…"
      ]
     },
     "metadata": {},
     "output_type": "display_data"
    },
    {
     "name": "stdout",
     "output_type": "stream",
     "text": [
      "\r",
      "epoch 3 / 12, loss: 1.4195\n"
     ]
    },
    {
     "data": {
      "application/vnd.jupyter.widget-view+json": {
       "model_id": "",
       "version_major": 2,
       "version_minor": 0
      },
      "text/plain": [
       "HBox(children=(IntProgress(value=0, description='epoch 4 / 12', max=782, style=ProgressStyle(description_width…"
      ]
     },
     "metadata": {},
     "output_type": "display_data"
    },
    {
     "name": "stdout",
     "output_type": "stream",
     "text": [
      "\r",
      "epoch 4 / 12, loss: 1.3720\n"
     ]
    },
    {
     "data": {
      "application/vnd.jupyter.widget-view+json": {
       "model_id": "",
       "version_major": 2,
       "version_minor": 0
      },
      "text/plain": [
       "HBox(children=(IntProgress(value=0, description='epoch 5 / 12', max=782, style=ProgressStyle(description_width…"
      ]
     },
     "metadata": {},
     "output_type": "display_data"
    },
    {
     "name": "stdout",
     "output_type": "stream",
     "text": [
      "\r",
      "epoch 5 / 12, loss: 1.3395\n"
     ]
    },
    {
     "data": {
      "application/vnd.jupyter.widget-view+json": {
       "model_id": "",
       "version_major": 2,
       "version_minor": 0
      },
      "text/plain": [
       "HBox(children=(IntProgress(value=0, description='epoch 6 / 12', max=782, style=ProgressStyle(description_width…"
      ]
     },
     "metadata": {},
     "output_type": "display_data"
    },
    {
     "name": "stdout",
     "output_type": "stream",
     "text": [
      "\r",
      "epoch 6 / 12, loss: 1.3150\n"
     ]
    },
    {
     "data": {
      "application/vnd.jupyter.widget-view+json": {
       "model_id": "",
       "version_major": 2,
       "version_minor": 0
      },
      "text/plain": [
       "HBox(children=(IntProgress(value=0, description='epoch 7 / 12', max=782, style=ProgressStyle(description_width…"
      ]
     },
     "metadata": {},
     "output_type": "display_data"
    },
    {
     "name": "stdout",
     "output_type": "stream",
     "text": [
      "\r",
      "epoch 7 / 12, loss: 1.2941\n"
     ]
    },
    {
     "data": {
      "application/vnd.jupyter.widget-view+json": {
       "model_id": "",
       "version_major": 2,
       "version_minor": 0
      },
      "text/plain": [
       "HBox(children=(IntProgress(value=0, description='epoch 8 / 12', max=782, style=ProgressStyle(description_width…"
      ]
     },
     "metadata": {},
     "output_type": "display_data"
    },
    {
     "name": "stdout",
     "output_type": "stream",
     "text": [
      "\r",
      "epoch 8 / 12, loss: 1.2765\n"
     ]
    },
    {
     "data": {
      "application/vnd.jupyter.widget-view+json": {
       "model_id": "",
       "version_major": 2,
       "version_minor": 0
      },
      "text/plain": [
       "HBox(children=(IntProgress(value=0, description='epoch 9 / 12', max=782, style=ProgressStyle(description_width…"
      ]
     },
     "metadata": {},
     "output_type": "display_data"
    },
    {
     "name": "stdout",
     "output_type": "stream",
     "text": [
      "\r",
      "epoch 9 / 12, loss: 1.2612\n"
     ]
    },
    {
     "data": {
      "application/vnd.jupyter.widget-view+json": {
       "model_id": "",
       "version_major": 2,
       "version_minor": 0
      },
      "text/plain": [
       "HBox(children=(IntProgress(value=0, description='epoch 10 / 12', max=782, style=ProgressStyle(description_widt…"
      ]
     },
     "metadata": {},
     "output_type": "display_data"
    },
    {
     "name": "stdout",
     "output_type": "stream",
     "text": [
      "\r",
      "epoch 10 / 12, loss: 1.2468\n"
     ]
    },
    {
     "data": {
      "application/vnd.jupyter.widget-view+json": {
       "model_id": "",
       "version_major": 2,
       "version_minor": 0
      },
      "text/plain": [
       "HBox(children=(IntProgress(value=0, description='epoch 11 / 12', max=782, style=ProgressStyle(description_widt…"
      ]
     },
     "metadata": {},
     "output_type": "display_data"
    },
    {
     "name": "stdout",
     "output_type": "stream",
     "text": [
      "\r",
      "epoch 11 / 12, loss: 1.2340\n"
     ]
    },
    {
     "data": {
      "application/vnd.jupyter.widget-view+json": {
       "model_id": "",
       "version_major": 2,
       "version_minor": 0
      },
      "text/plain": [
       "HBox(children=(IntProgress(value=0, description='epoch 12 / 12', max=782, style=ProgressStyle(description_widt…"
      ]
     },
     "metadata": {},
     "output_type": "display_data"
    },
    {
     "name": "stdout",
     "output_type": "stream",
     "text": [
      "\r",
      "epoch 12 / 12, loss: 1.2238\n"
     ]
    },
    {
     "data": {
      "image/png": "[encoded data removed]",
      "text/plain": [
       "<Figure size 432x288 with 1 Axes>"
      ]
     },
     "metadata": {
      "needs_background": "light"
     },
     "output_type": "display_data"
    }
   ],
   "source": [
    "# Train RememberGRUNet for a few epochs.\n",
    "n = 12\n",
    "batch_size = 64\n",
    "num_epochs = 12\n",
    "\n",
    "data_set = SegmentedTextDataset(num_chars=n)\n",
    "sampler = MultiStreamSampler(data_set, batch_size=batch_size)\n",
    "criterion = CrossEntropySequential()\n",
    "remember_gru_net = RememberGRUNet().cuda()\n",
    "trainer = Trainer(\n",
    "    remember_gru_net,\n",
    "    data_set,\n",
    "    num_epochs=num_epochs,\n",
    "    batch_size=batch_size,\n",
    "    criterion=criterion,\n",
    "    shuffle=False,\n",
    "    sampler=sampler,\n",
    ")\n",
    "trainer.train()"
   ]
  },
  {
   "cell_type": "code",
   "execution_count": 43,
   "metadata": {},
   "outputs": [
    {
     "name": "stdout",
     "output_type": "stream",
     "text": [
      "there will be many issues with the same with the same with the same with the same with the same with the same with the same with the same with the same with the same with the same with the same with the same with the same with the same with the same with the same with the same with the same with the same with the same with the sa\n"
     ]
    }
   ],
   "source": [
    "generated_text = generate_text_seq(remember_gru_net, data_set, n, choices=1, length=300)\n",
    "# torch.multinomial\n",
    "print(generated_text)"
   ]
  },
  {
   "cell_type": "code",
   "execution_count": null,
   "metadata": {},
   "outputs": [],
   "source": []
  }
 ],
 "metadata": {
  "kernelspec": {
   "display_name": "Python 3",
   "language": "python",
   "name": "python3"
  },
  "language_info": {
   "codemirror_mode": {
    "name": "ipython",
    "version": 3
   },
   "file_extension": ".py",
   "mimetype": "text/x-python",
   "name": "python",
   "nbconvert_exporter": "python",
   "pygments_lexer": "ipython3",
   "version": "3.6.7"
  }
 },
 "nbformat": 4,
 "nbformat_minor": 2
}
